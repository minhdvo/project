{
 "cells": [
  {
   "cell_type": "code",
   "execution_count": 1,
   "metadata": {
    "colab": {},
    "colab_type": "code",
    "id": "qw9r-adydpAZ"
   },
   "outputs": [],
   "source": [
    "import numpy as np\n",
    "import pandas as pd\n",
    "import seaborn as sns\n",
    "\n",
    "import matplotlib.pyplot as plt\n",
    "%matplotlib inline\n",
    "plt.style.use('ggplot')"
   ]
  },
  {
   "cell_type": "code",
   "execution_count": 2,
   "metadata": {
    "colab": {},
    "colab_type": "code",
    "id": "DH0xyXqLdpAh"
   },
   "outputs": [],
   "source": [
    "from sklearn.model_selection import train_test_split\n",
    "\n",
    "from sklearn.metrics import f1_score\n",
    "from sklearn.metrics import confusion_matrix\n",
    "from sklearn.metrics import roc_auc_score\n",
    "from sklearn.metrics import classification_report\n",
    "from xgboost import plot_importance\n",
    "\n",
    "from sklearn.linear_model import LogisticRegression\n",
    "from xgboost import XGBClassifier\n",
    "\n",
    "from sklearn.externals import joblib"
   ]
  },
  {
   "cell_type": "markdown",
   "metadata": {
    "colab_type": "text",
    "id": "WBaouch_dpAn"
   },
   "source": [
    "## Load data"
   ]
  },
  {
   "cell_type": "code",
   "execution_count": 3,
   "metadata": {
    "colab": {},
    "colab_type": "code",
    "id": "gAk6UuzEdpAp",
    "outputId": "ee41fc7e-a431-457d-e0f0-e610bf404b74"
   },
   "outputs": [
    {
     "name": "stdout",
     "output_type": "stream",
     "text": [
      "<class 'pandas.core.frame.DataFrame'>\n",
      "RangeIndex: 39983 entries, 0 to 39982\n",
      "Columns: 141 entries, x0 to x68_nan\n",
      "dtypes: float64(95), int64(46)\n",
      "memory usage: 43.0 MB\n"
     ]
    }
   ],
   "source": [
    "df = pd.read_csv('train_processed.csv')\n",
    "df.info()"
   ]
  },
  {
   "cell_type": "code",
   "execution_count": 4,
   "metadata": {
    "colab": {},
    "colab_type": "code",
    "id": "tVtCbqlldpAy",
    "outputId": "82e988ac-3473-4b30-bd51-20d4c57a3559"
   },
   "outputs": [
    {
     "data": {
      "text/html": [
       "<div>\n",
       "<style scoped>\n",
       "    .dataframe tbody tr th:only-of-type {\n",
       "        vertical-align: middle;\n",
       "    }\n",
       "\n",
       "    .dataframe tbody tr th {\n",
       "        vertical-align: top;\n",
       "    }\n",
       "\n",
       "    .dataframe thead th {\n",
       "        text-align: right;\n",
       "    }\n",
       "</style>\n",
       "<table border=\"1\" class=\"dataframe\">\n",
       "  <thead>\n",
       "    <tr style=\"text-align: right;\">\n",
       "      <th></th>\n",
       "      <th>x0</th>\n",
       "      <th>x1</th>\n",
       "      <th>x2</th>\n",
       "      <th>x3</th>\n",
       "      <th>x4</th>\n",
       "      <th>x5</th>\n",
       "      <th>x6</th>\n",
       "      <th>x7</th>\n",
       "      <th>x8</th>\n",
       "      <th>x9</th>\n",
       "      <th>...</th>\n",
       "      <th>x68_Feb</th>\n",
       "      <th>x68_January</th>\n",
       "      <th>x68_July</th>\n",
       "      <th>x68_Jun</th>\n",
       "      <th>x68_Mar</th>\n",
       "      <th>x68_May</th>\n",
       "      <th>x68_Nov</th>\n",
       "      <th>x68_Oct</th>\n",
       "      <th>x68_sept.</th>\n",
       "      <th>x68_nan</th>\n",
       "    </tr>\n",
       "  </thead>\n",
       "  <tbody>\n",
       "    <tr>\n",
       "      <th>0</th>\n",
       "      <td>-17.933519</td>\n",
       "      <td>6.559220</td>\n",
       "      <td>2.422468</td>\n",
       "      <td>-27.737392</td>\n",
       "      <td>-12.080601</td>\n",
       "      <td>-3.892934</td>\n",
       "      <td>1.067466</td>\n",
       "      <td>0.935953</td>\n",
       "      <td>10.912007</td>\n",
       "      <td>1.107144</td>\n",
       "      <td>...</td>\n",
       "      <td>0</td>\n",
       "      <td>0</td>\n",
       "      <td>0</td>\n",
       "      <td>0</td>\n",
       "      <td>0</td>\n",
       "      <td>0</td>\n",
       "      <td>0</td>\n",
       "      <td>0</td>\n",
       "      <td>1</td>\n",
       "      <td>0</td>\n",
       "    </tr>\n",
       "    <tr>\n",
       "      <th>1</th>\n",
       "      <td>-37.214754</td>\n",
       "      <td>10.774930</td>\n",
       "      <td>5.404072</td>\n",
       "      <td>21.354738</td>\n",
       "      <td>0.612690</td>\n",
       "      <td>-3.093533</td>\n",
       "      <td>6.161558</td>\n",
       "      <td>-0.972156</td>\n",
       "      <td>-5.222169</td>\n",
       "      <td>0.384969</td>\n",
       "      <td>...</td>\n",
       "      <td>0</td>\n",
       "      <td>0</td>\n",
       "      <td>1</td>\n",
       "      <td>0</td>\n",
       "      <td>0</td>\n",
       "      <td>0</td>\n",
       "      <td>0</td>\n",
       "      <td>0</td>\n",
       "      <td>0</td>\n",
       "      <td>0</td>\n",
       "    </tr>\n",
       "    <tr>\n",
       "      <th>2</th>\n",
       "      <td>0.330441</td>\n",
       "      <td>-19.609972</td>\n",
       "      <td>-1.331804</td>\n",
       "      <td>-15.153892</td>\n",
       "      <td>19.710240</td>\n",
       "      <td>19.077300</td>\n",
       "      <td>-1.747110</td>\n",
       "      <td>0.545570</td>\n",
       "      <td>-1.464609</td>\n",
       "      <td>3.670570</td>\n",
       "      <td>...</td>\n",
       "      <td>0</td>\n",
       "      <td>0</td>\n",
       "      <td>1</td>\n",
       "      <td>0</td>\n",
       "      <td>0</td>\n",
       "      <td>0</td>\n",
       "      <td>0</td>\n",
       "      <td>0</td>\n",
       "      <td>0</td>\n",
       "      <td>0</td>\n",
       "    </tr>\n",
       "    <tr>\n",
       "      <th>3</th>\n",
       "      <td>-13.709765</td>\n",
       "      <td>-8.011390</td>\n",
       "      <td>-1.536483</td>\n",
       "      <td>23.129497</td>\n",
       "      <td>27.880879</td>\n",
       "      <td>20.573991</td>\n",
       "      <td>-1.617689</td>\n",
       "      <td>4.129694</td>\n",
       "      <td>1.139928</td>\n",
       "      <td>2.912838</td>\n",
       "      <td>...</td>\n",
       "      <td>0</td>\n",
       "      <td>0</td>\n",
       "      <td>0</td>\n",
       "      <td>0</td>\n",
       "      <td>0</td>\n",
       "      <td>0</td>\n",
       "      <td>0</td>\n",
       "      <td>0</td>\n",
       "      <td>0</td>\n",
       "      <td>0</td>\n",
       "    </tr>\n",
       "    <tr>\n",
       "      <th>4</th>\n",
       "      <td>-4.202598</td>\n",
       "      <td>7.076210</td>\n",
       "      <td>8.881550</td>\n",
       "      <td>23.600777</td>\n",
       "      <td>26.232164</td>\n",
       "      <td>-14.462320</td>\n",
       "      <td>3.231193</td>\n",
       "      <td>-0.069364</td>\n",
       "      <td>-7.310536</td>\n",
       "      <td>-2.268700</td>\n",
       "      <td>...</td>\n",
       "      <td>0</td>\n",
       "      <td>0</td>\n",
       "      <td>0</td>\n",
       "      <td>0</td>\n",
       "      <td>0</td>\n",
       "      <td>0</td>\n",
       "      <td>0</td>\n",
       "      <td>0</td>\n",
       "      <td>0</td>\n",
       "      <td>0</td>\n",
       "    </tr>\n",
       "  </tbody>\n",
       "</table>\n",
       "<p>5 rows × 141 columns</p>\n",
       "</div>"
      ],
      "text/plain": [
       "          x0         x1        x2         x3         x4         x5        x6  \\\n",
       "0 -17.933519   6.559220  2.422468 -27.737392 -12.080601  -3.892934  1.067466   \n",
       "1 -37.214754  10.774930  5.404072  21.354738   0.612690  -3.093533  6.161558   \n",
       "2   0.330441 -19.609972 -1.331804 -15.153892  19.710240  19.077300 -1.747110   \n",
       "3 -13.709765  -8.011390 -1.536483  23.129497  27.880879  20.573991 -1.617689   \n",
       "4  -4.202598   7.076210  8.881550  23.600777  26.232164 -14.462320  3.231193   \n",
       "\n",
       "         x7         x8        x9   ...     x68_Feb  x68_January  x68_July  \\\n",
       "0  0.935953  10.912007  1.107144   ...           0            0         0   \n",
       "1 -0.972156  -5.222169  0.384969   ...           0            0         1   \n",
       "2  0.545570  -1.464609  3.670570   ...           0            0         1   \n",
       "3  4.129694   1.139928  2.912838   ...           0            0         0   \n",
       "4 -0.069364  -7.310536 -2.268700   ...           0            0         0   \n",
       "\n",
       "   x68_Jun  x68_Mar  x68_May  x68_Nov  x68_Oct  x68_sept.  x68_nan  \n",
       "0        0        0        0        0        0          1        0  \n",
       "1        0        0        0        0        0          0        0  \n",
       "2        0        0        0        0        0          0        0  \n",
       "3        0        0        0        0        0          0        0  \n",
       "4        0        0        0        0        0          0        0  \n",
       "\n",
       "[5 rows x 141 columns]"
      ]
     },
     "execution_count": 4,
     "metadata": {},
     "output_type": "execute_result"
    }
   ],
   "source": [
    "df.head()"
   ]
  },
  {
   "cell_type": "code",
   "execution_count": 5,
   "metadata": {
    "colab": {},
    "colab_type": "code",
    "id": "-Gf3p8VNdpA6"
   },
   "outputs": [],
   "source": [
    "df.sort_index(axis=1,inplace=True)"
   ]
  },
  {
   "cell_type": "code",
   "execution_count": 6,
   "metadata": {
    "colab": {},
    "colab_type": "code",
    "id": "XvzGPPfOdpA_",
    "outputId": "05f2eae5-0a24-4a03-a79d-755753e2704f"
   },
   "outputs": [
    {
     "data": {
      "text/html": [
       "<div>\n",
       "<style scoped>\n",
       "    .dataframe tbody tr th:only-of-type {\n",
       "        vertical-align: middle;\n",
       "    }\n",
       "\n",
       "    .dataframe tbody tr th {\n",
       "        vertical-align: top;\n",
       "    }\n",
       "\n",
       "    .dataframe thead th {\n",
       "        text-align: right;\n",
       "    }\n",
       "</style>\n",
       "<table border=\"1\" class=\"dataframe\">\n",
       "  <thead>\n",
       "    <tr style=\"text-align: right;\">\n",
       "      <th></th>\n",
       "      <th>x0</th>\n",
       "      <th>x1</th>\n",
       "      <th>x10</th>\n",
       "      <th>x11</th>\n",
       "      <th>x12</th>\n",
       "      <th>x13</th>\n",
       "      <th>x14</th>\n",
       "      <th>x15</th>\n",
       "      <th>x16</th>\n",
       "      <th>x17</th>\n",
       "      <th>...</th>\n",
       "      <th>x93_asia</th>\n",
       "      <th>x93_euorpe</th>\n",
       "      <th>x93_nan</th>\n",
       "      <th>x94</th>\n",
       "      <th>x95</th>\n",
       "      <th>x96</th>\n",
       "      <th>x97</th>\n",
       "      <th>x98</th>\n",
       "      <th>x99</th>\n",
       "      <th>y</th>\n",
       "    </tr>\n",
       "  </thead>\n",
       "  <tbody>\n",
       "    <tr>\n",
       "      <th>0</th>\n",
       "      <td>-17.933519</td>\n",
       "      <td>6.559220</td>\n",
       "      <td>-6.930959</td>\n",
       "      <td>1.216195</td>\n",
       "      <td>-3.201791</td>\n",
       "      <td>-2.554698</td>\n",
       "      <td>18.641967</td>\n",
       "      <td>4.355568</td>\n",
       "      <td>2.930575</td>\n",
       "      <td>-8.837017</td>\n",
       "      <td>...</td>\n",
       "      <td>1</td>\n",
       "      <td>0</td>\n",
       "      <td>0</td>\n",
       "      <td>0.421524</td>\n",
       "      <td>35.259947</td>\n",
       "      <td>8.994318</td>\n",
       "      <td>-21.000182</td>\n",
       "      <td>-0.686588</td>\n",
       "      <td>2.949106</td>\n",
       "      <td>1</td>\n",
       "    </tr>\n",
       "    <tr>\n",
       "      <th>1</th>\n",
       "      <td>-37.214754</td>\n",
       "      <td>10.774930</td>\n",
       "      <td>55.127380</td>\n",
       "      <td>0.226435</td>\n",
       "      <td>0.080309</td>\n",
       "      <td>-6.158352</td>\n",
       "      <td>-0.068433</td>\n",
       "      <td>0.671255</td>\n",
       "      <td>1.047602</td>\n",
       "      <td>11.512884</td>\n",
       "      <td>...</td>\n",
       "      <td>1</td>\n",
       "      <td>0</td>\n",
       "      <td>0</td>\n",
       "      <td>-0.132764</td>\n",
       "      <td>-1.192563</td>\n",
       "      <td>3.885024</td>\n",
       "      <td>-37.886523</td>\n",
       "      <td>-7.730392</td>\n",
       "      <td>-1.107330</td>\n",
       "      <td>0</td>\n",
       "    </tr>\n",
       "    <tr>\n",
       "      <th>2</th>\n",
       "      <td>0.330441</td>\n",
       "      <td>-19.609972</td>\n",
       "      <td>-23.198723</td>\n",
       "      <td>-1.728167</td>\n",
       "      <td>0.194729</td>\n",
       "      <td>15.425624</td>\n",
       "      <td>-7.377787</td>\n",
       "      <td>-5.148825</td>\n",
       "      <td>7.518404</td>\n",
       "      <td>-4.618872</td>\n",
       "      <td>...</td>\n",
       "      <td>1</td>\n",
       "      <td>0</td>\n",
       "      <td>0</td>\n",
       "      <td>1.432308</td>\n",
       "      <td>-3.435427</td>\n",
       "      <td>-1.133450</td>\n",
       "      <td>7.426099</td>\n",
       "      <td>-5.945534</td>\n",
       "      <td>1.316312</td>\n",
       "      <td>0</td>\n",
       "    </tr>\n",
       "    <tr>\n",
       "      <th>3</th>\n",
       "      <td>-13.709765</td>\n",
       "      <td>-8.011390</td>\n",
       "      <td>-4.266473</td>\n",
       "      <td>-0.611641</td>\n",
       "      <td>-2.266844</td>\n",
       "      <td>-4.727266</td>\n",
       "      <td>1.947570</td>\n",
       "      <td>-7.887527</td>\n",
       "      <td>10.183794</td>\n",
       "      <td>-5.534296</td>\n",
       "      <td>...</td>\n",
       "      <td>1</td>\n",
       "      <td>0</td>\n",
       "      <td>0</td>\n",
       "      <td>0.733069</td>\n",
       "      <td>4.372964</td>\n",
       "      <td>15.529931</td>\n",
       "      <td>29.712153</td>\n",
       "      <td>2.240740</td>\n",
       "      <td>0.477195</td>\n",
       "      <td>0</td>\n",
       "    </tr>\n",
       "    <tr>\n",
       "      <th>4</th>\n",
       "      <td>-4.202598</td>\n",
       "      <td>7.076210</td>\n",
       "      <td>1.134867</td>\n",
       "      <td>1.074985</td>\n",
       "      <td>-0.937646</td>\n",
       "      <td>-2.092563</td>\n",
       "      <td>-3.835046</td>\n",
       "      <td>4.566927</td>\n",
       "      <td>2.011431</td>\n",
       "      <td>-1.002053</td>\n",
       "      <td>...</td>\n",
       "      <td>1</td>\n",
       "      <td>0</td>\n",
       "      <td>0</td>\n",
       "      <td>-0.977502</td>\n",
       "      <td>-30.085932</td>\n",
       "      <td>-8.244312</td>\n",
       "      <td>66.540331</td>\n",
       "      <td>-3.478195</td>\n",
       "      <td>-2.869702</td>\n",
       "      <td>1</td>\n",
       "    </tr>\n",
       "  </tbody>\n",
       "</table>\n",
       "<p>5 rows × 141 columns</p>\n",
       "</div>"
      ],
      "text/plain": [
       "          x0         x1        x10       x11       x12        x13        x14  \\\n",
       "0 -17.933519   6.559220  -6.930959  1.216195 -3.201791  -2.554698  18.641967   \n",
       "1 -37.214754  10.774930  55.127380  0.226435  0.080309  -6.158352  -0.068433   \n",
       "2   0.330441 -19.609972 -23.198723 -1.728167  0.194729  15.425624  -7.377787   \n",
       "3 -13.709765  -8.011390  -4.266473 -0.611641 -2.266844  -4.727266   1.947570   \n",
       "4  -4.202598   7.076210   1.134867  1.074985 -0.937646  -2.092563  -3.835046   \n",
       "\n",
       "        x15        x16        x17 ...  x93_asia  x93_euorpe  x93_nan  \\\n",
       "0  4.355568   2.930575  -8.837017 ...         1           0        0   \n",
       "1  0.671255   1.047602  11.512884 ...         1           0        0   \n",
       "2 -5.148825   7.518404  -4.618872 ...         1           0        0   \n",
       "3 -7.887527  10.183794  -5.534296 ...         1           0        0   \n",
       "4  4.566927   2.011431  -1.002053 ...         1           0        0   \n",
       "\n",
       "        x94        x95        x96        x97       x98       x99  y  \n",
       "0  0.421524  35.259947   8.994318 -21.000182 -0.686588  2.949106  1  \n",
       "1 -0.132764  -1.192563   3.885024 -37.886523 -7.730392 -1.107330  0  \n",
       "2  1.432308  -3.435427  -1.133450   7.426099 -5.945534  1.316312  0  \n",
       "3  0.733069   4.372964  15.529931  29.712153  2.240740  0.477195  0  \n",
       "4 -0.977502 -30.085932  -8.244312  66.540331 -3.478195 -2.869702  1  \n",
       "\n",
       "[5 rows x 141 columns]"
      ]
     },
     "execution_count": 6,
     "metadata": {},
     "output_type": "execute_result"
    }
   ],
   "source": [
    "df.head()"
   ]
  },
  {
   "cell_type": "code",
   "execution_count": 7,
   "metadata": {
    "colab": {},
    "colab_type": "code",
    "id": "7vCmmfNCdpBG",
    "outputId": "8d8e8e98-6463-4fd8-8e8a-c8c8f9f5d680"
   },
   "outputs": [
    {
     "data": {
      "text/plain": [
       "Index(['x0', 'x1', 'x10', 'x11', 'x12', 'x13', 'x14', 'x15', 'x16', 'x17',\n",
       "       ...\n",
       "       'x93_asia', 'x93_euorpe', 'x93_nan', 'x94', 'x95', 'x96', 'x97', 'x98',\n",
       "       'x99', 'y'],\n",
       "      dtype='object', length=141)"
      ]
     },
     "execution_count": 7,
     "metadata": {},
     "output_type": "execute_result"
    }
   ],
   "source": [
    "df.columns"
   ]
  },
  {
   "cell_type": "code",
   "execution_count": 8,
   "metadata": {
    "colab": {},
    "colab_type": "code",
    "id": "voc0wn7bdpBN",
    "outputId": "6a8d9a7c-7f15-4ced-d8ca-090b66fedfff"
   },
   "outputs": [
    {
     "data": {
      "text/plain": [
       "0    1\n",
       "1    0\n",
       "2    0\n",
       "3    0\n",
       "4    1\n",
       "Name: y, dtype: int64"
      ]
     },
     "execution_count": 8,
     "metadata": {},
     "output_type": "execute_result"
    }
   ],
   "source": [
    "y = df.y\n",
    "y.head()"
   ]
  },
  {
   "cell_type": "code",
   "execution_count": 9,
   "metadata": {
    "colab": {},
    "colab_type": "code",
    "id": "85czgccGdpBV",
    "outputId": "3213018c-77eb-4224-f0dc-0003e9f80b2c"
   },
   "outputs": [
    {
     "data": {
      "text/html": [
       "<div>\n",
       "<style scoped>\n",
       "    .dataframe tbody tr th:only-of-type {\n",
       "        vertical-align: middle;\n",
       "    }\n",
       "\n",
       "    .dataframe tbody tr th {\n",
       "        vertical-align: top;\n",
       "    }\n",
       "\n",
       "    .dataframe thead th {\n",
       "        text-align: right;\n",
       "    }\n",
       "</style>\n",
       "<table border=\"1\" class=\"dataframe\">\n",
       "  <thead>\n",
       "    <tr style=\"text-align: right;\">\n",
       "      <th></th>\n",
       "      <th>x0</th>\n",
       "      <th>x1</th>\n",
       "      <th>x10</th>\n",
       "      <th>x11</th>\n",
       "      <th>x12</th>\n",
       "      <th>x13</th>\n",
       "      <th>x14</th>\n",
       "      <th>x15</th>\n",
       "      <th>x16</th>\n",
       "      <th>x17</th>\n",
       "      <th>...</th>\n",
       "      <th>x93_america</th>\n",
       "      <th>x93_asia</th>\n",
       "      <th>x93_euorpe</th>\n",
       "      <th>x93_nan</th>\n",
       "      <th>x94</th>\n",
       "      <th>x95</th>\n",
       "      <th>x96</th>\n",
       "      <th>x97</th>\n",
       "      <th>x98</th>\n",
       "      <th>x99</th>\n",
       "    </tr>\n",
       "  </thead>\n",
       "  <tbody>\n",
       "    <tr>\n",
       "      <th>0</th>\n",
       "      <td>-17.933519</td>\n",
       "      <td>6.559220</td>\n",
       "      <td>-6.930959</td>\n",
       "      <td>1.216195</td>\n",
       "      <td>-3.201791</td>\n",
       "      <td>-2.554698</td>\n",
       "      <td>18.641967</td>\n",
       "      <td>4.355568</td>\n",
       "      <td>2.930575</td>\n",
       "      <td>-8.837017</td>\n",
       "      <td>...</td>\n",
       "      <td>0</td>\n",
       "      <td>1</td>\n",
       "      <td>0</td>\n",
       "      <td>0</td>\n",
       "      <td>0.421524</td>\n",
       "      <td>35.259947</td>\n",
       "      <td>8.994318</td>\n",
       "      <td>-21.000182</td>\n",
       "      <td>-0.686588</td>\n",
       "      <td>2.949106</td>\n",
       "    </tr>\n",
       "    <tr>\n",
       "      <th>1</th>\n",
       "      <td>-37.214754</td>\n",
       "      <td>10.774930</td>\n",
       "      <td>55.127380</td>\n",
       "      <td>0.226435</td>\n",
       "      <td>0.080309</td>\n",
       "      <td>-6.158352</td>\n",
       "      <td>-0.068433</td>\n",
       "      <td>0.671255</td>\n",
       "      <td>1.047602</td>\n",
       "      <td>11.512884</td>\n",
       "      <td>...</td>\n",
       "      <td>0</td>\n",
       "      <td>1</td>\n",
       "      <td>0</td>\n",
       "      <td>0</td>\n",
       "      <td>-0.132764</td>\n",
       "      <td>-1.192563</td>\n",
       "      <td>3.885024</td>\n",
       "      <td>-37.886523</td>\n",
       "      <td>-7.730392</td>\n",
       "      <td>-1.107330</td>\n",
       "    </tr>\n",
       "    <tr>\n",
       "      <th>2</th>\n",
       "      <td>0.330441</td>\n",
       "      <td>-19.609972</td>\n",
       "      <td>-23.198723</td>\n",
       "      <td>-1.728167</td>\n",
       "      <td>0.194729</td>\n",
       "      <td>15.425624</td>\n",
       "      <td>-7.377787</td>\n",
       "      <td>-5.148825</td>\n",
       "      <td>7.518404</td>\n",
       "      <td>-4.618872</td>\n",
       "      <td>...</td>\n",
       "      <td>0</td>\n",
       "      <td>1</td>\n",
       "      <td>0</td>\n",
       "      <td>0</td>\n",
       "      <td>1.432308</td>\n",
       "      <td>-3.435427</td>\n",
       "      <td>-1.133450</td>\n",
       "      <td>7.426099</td>\n",
       "      <td>-5.945534</td>\n",
       "      <td>1.316312</td>\n",
       "    </tr>\n",
       "    <tr>\n",
       "      <th>3</th>\n",
       "      <td>-13.709765</td>\n",
       "      <td>-8.011390</td>\n",
       "      <td>-4.266473</td>\n",
       "      <td>-0.611641</td>\n",
       "      <td>-2.266844</td>\n",
       "      <td>-4.727266</td>\n",
       "      <td>1.947570</td>\n",
       "      <td>-7.887527</td>\n",
       "      <td>10.183794</td>\n",
       "      <td>-5.534296</td>\n",
       "      <td>...</td>\n",
       "      <td>0</td>\n",
       "      <td>1</td>\n",
       "      <td>0</td>\n",
       "      <td>0</td>\n",
       "      <td>0.733069</td>\n",
       "      <td>4.372964</td>\n",
       "      <td>15.529931</td>\n",
       "      <td>29.712153</td>\n",
       "      <td>2.240740</td>\n",
       "      <td>0.477195</td>\n",
       "    </tr>\n",
       "    <tr>\n",
       "      <th>4</th>\n",
       "      <td>-4.202598</td>\n",
       "      <td>7.076210</td>\n",
       "      <td>1.134867</td>\n",
       "      <td>1.074985</td>\n",
       "      <td>-0.937646</td>\n",
       "      <td>-2.092563</td>\n",
       "      <td>-3.835046</td>\n",
       "      <td>4.566927</td>\n",
       "      <td>2.011431</td>\n",
       "      <td>-1.002053</td>\n",
       "      <td>...</td>\n",
       "      <td>0</td>\n",
       "      <td>1</td>\n",
       "      <td>0</td>\n",
       "      <td>0</td>\n",
       "      <td>-0.977502</td>\n",
       "      <td>-30.085932</td>\n",
       "      <td>-8.244312</td>\n",
       "      <td>66.540331</td>\n",
       "      <td>-3.478195</td>\n",
       "      <td>-2.869702</td>\n",
       "    </tr>\n",
       "  </tbody>\n",
       "</table>\n",
       "<p>5 rows × 140 columns</p>\n",
       "</div>"
      ],
      "text/plain": [
       "          x0         x1        x10       x11       x12        x13        x14  \\\n",
       "0 -17.933519   6.559220  -6.930959  1.216195 -3.201791  -2.554698  18.641967   \n",
       "1 -37.214754  10.774930  55.127380  0.226435  0.080309  -6.158352  -0.068433   \n",
       "2   0.330441 -19.609972 -23.198723 -1.728167  0.194729  15.425624  -7.377787   \n",
       "3 -13.709765  -8.011390  -4.266473 -0.611641 -2.266844  -4.727266   1.947570   \n",
       "4  -4.202598   7.076210   1.134867  1.074985 -0.937646  -2.092563  -3.835046   \n",
       "\n",
       "        x15        x16        x17    ...     x93_america  x93_asia  \\\n",
       "0  4.355568   2.930575  -8.837017    ...               0         1   \n",
       "1  0.671255   1.047602  11.512884    ...               0         1   \n",
       "2 -5.148825   7.518404  -4.618872    ...               0         1   \n",
       "3 -7.887527  10.183794  -5.534296    ...               0         1   \n",
       "4  4.566927   2.011431  -1.002053    ...               0         1   \n",
       "\n",
       "   x93_euorpe  x93_nan       x94        x95        x96        x97       x98  \\\n",
       "0           0        0  0.421524  35.259947   8.994318 -21.000182 -0.686588   \n",
       "1           0        0 -0.132764  -1.192563   3.885024 -37.886523 -7.730392   \n",
       "2           0        0  1.432308  -3.435427  -1.133450   7.426099 -5.945534   \n",
       "3           0        0  0.733069   4.372964  15.529931  29.712153  2.240740   \n",
       "4           0        0 -0.977502 -30.085932  -8.244312  66.540331 -3.478195   \n",
       "\n",
       "        x99  \n",
       "0  2.949106  \n",
       "1 -1.107330  \n",
       "2  1.316312  \n",
       "3  0.477195  \n",
       "4 -2.869702  \n",
       "\n",
       "[5 rows x 140 columns]"
      ]
     },
     "execution_count": 9,
     "metadata": {},
     "output_type": "execute_result"
    }
   ],
   "source": [
    "x = df.drop('y',1)\n",
    "x.head()"
   ]
  },
  {
   "cell_type": "markdown",
   "metadata": {
    "colab_type": "text",
    "id": "RvD0v2wRdpBd"
   },
   "source": [
    "## Split data"
   ]
  },
  {
   "cell_type": "code",
   "execution_count": 10,
   "metadata": {
    "colab": {},
    "colab_type": "code",
    "id": "M3_dxBi5dpBe",
    "outputId": "667ae0c6-91d1-4206-f526-b861231792b0"
   },
   "outputs": [
    {
     "name": "stdout",
     "output_type": "stream",
     "text": [
      "(27988, 140) (27988,)\n",
      "(11995, 140) (11995,)\n"
     ]
    }
   ],
   "source": [
    "# split data into train and test set\n",
    "X_train, X_test, Y_train, Y_test = train_test_split(x, y, test_size = 0.3, random_state=1)\n",
    "print(X_train.shape, Y_train.shape)\n",
    "print(X_test.shape, Y_test.shape)"
   ]
  },
  {
   "cell_type": "markdown",
   "metadata": {
    "colab_type": "text",
    "id": "KD1LjlridpBl"
   },
   "source": [
    "# Part 1: Build model"
   ]
  },
  {
   "cell_type": "markdown",
   "metadata": {
    "colab_type": "text",
    "id": "2otStGCSdpBn"
   },
   "source": [
    "## 1.1. Logistic Regression"
   ]
  },
  {
   "cell_type": "code",
   "execution_count": 11,
   "metadata": {
    "colab": {},
    "colab_type": "code",
    "id": "H9AMgLwLdpBp",
    "outputId": "a3164843-f4d9-4075-e3e4-e6e22216fcc1"
   },
   "outputs": [
    {
     "name": "stderr",
     "output_type": "stream",
     "text": [
      "c:\\users\\mdv28\\appdata\\local\\continuum\\miniconda3\\envs\\mm\\lib\\site-packages\\sklearn\\linear_model\\logistic.py:432: FutureWarning: Default solver will be changed to 'lbfgs' in 0.22. Specify a solver to silence this warning.\n",
      "  FutureWarning)\n"
     ]
    },
    {
     "data": {
      "text/plain": [
       "LogisticRegression(C=1.0, class_weight=None, dual=False, fit_intercept=True,\n",
       "          intercept_scaling=1, max_iter=100, multi_class='warn',\n",
       "          n_jobs=None, penalty='l2', random_state=None, solver='warn',\n",
       "          tol=0.0001, verbose=0, warm_start=False)"
      ]
     },
     "execution_count": 11,
     "metadata": {},
     "output_type": "execute_result"
    }
   ],
   "source": [
    "# Logistic Regression\n",
    "logreg = LogisticRegression()\n",
    "logreg.fit(X_train, Y_train)"
   ]
  },
  {
   "cell_type": "code",
   "execution_count": 12,
   "metadata": {
    "colab": {},
    "colab_type": "code",
    "id": "PK0_GsKCdpBw",
    "outputId": "19f58c19-1f8a-41f8-d979-0a02351503a2"
   },
   "outputs": [
    {
     "data": {
      "text/plain": [
       "88.9"
      ]
     },
     "execution_count": 12,
     "metadata": {},
     "output_type": "execute_result"
    }
   ],
   "source": [
    "# accuracy\n",
    "acc_log = round(logreg.score(X_test, Y_test) * 100, 2)\n",
    "acc_log"
   ]
  },
  {
   "cell_type": "code",
   "execution_count": 13,
   "metadata": {
    "colab": {},
    "colab_type": "code",
    "id": "s1vslMcrdpB9"
   },
   "outputs": [],
   "source": [
    "# prediction\n",
    "ypred_logreg = logreg.predict(X_test)"
   ]
  },
  {
   "cell_type": "code",
   "execution_count": 14,
   "metadata": {
    "colab": {},
    "colab_type": "code",
    "id": "0BultkIkdpCD",
    "outputId": "ca336b25-97be-48d8-c33a-c88ec747503d"
   },
   "outputs": [
    {
     "data": {
      "text/plain": [
       "0.8098362586607939"
      ]
     },
     "execution_count": 14,
     "metadata": {},
     "output_type": "execute_result"
    }
   ],
   "source": [
    "# f1_score\n",
    "f1_score(Y_test,ypred_logreg,average='macro')"
   ]
  },
  {
   "cell_type": "code",
   "execution_count": 15,
   "metadata": {
    "colab": {},
    "colab_type": "code",
    "id": "9rMIC9HgdpCL",
    "outputId": "7f9a3340-d1f8-482c-9d19-d57871691f0d"
   },
   "outputs": [
    {
     "data": {
      "text/plain": [
       "array([[9200,  398],\n",
       "       [ 934, 1463]], dtype=int64)"
      ]
     },
     "execution_count": 15,
     "metadata": {},
     "output_type": "execute_result"
    }
   ],
   "source": [
    "# confusion matrix\n",
    "confusion_matrix(Y_test,ypred_logreg,labels=[0,1])"
   ]
  },
  {
   "cell_type": "code",
   "execution_count": 16,
   "metadata": {
    "colab": {},
    "colab_type": "code",
    "id": "jyxdKzmDdpCZ",
    "outputId": "aa282a43-9b5c-4cb9-f050-988a43dbaf74"
   },
   "outputs": [
    {
     "data": {
      "text/plain": [
       "0.784439646940074"
      ]
     },
     "execution_count": 16,
     "metadata": {},
     "output_type": "execute_result"
    }
   ],
   "source": [
    "# Area Under the Receiver Operating Characteristic Curve\n",
    "roc_auc_score(Y_test, ypred_logreg)"
   ]
  },
  {
   "cell_type": "code",
   "execution_count": 17,
   "metadata": {},
   "outputs": [
    {
     "name": "stdout",
     "output_type": "stream",
     "text": [
      "              precision    recall  f1-score   support\n",
      "\n",
      "           0       0.91      0.96      0.93      9598\n",
      "           1       0.79      0.61      0.69      2397\n",
      "\n",
      "   micro avg       0.89      0.89      0.89     11995\n",
      "   macro avg       0.85      0.78      0.81     11995\n",
      "weighted avg       0.88      0.89      0.88     11995\n",
      "\n"
     ]
    }
   ],
   "source": [
    "print(classification_report(Y_test, ypred_logreg))"
   ]
  },
  {
   "cell_type": "code",
   "execution_count": 18,
   "metadata": {
    "colab": {},
    "colab_type": "code",
    "id": "EmzuIzFbdpCh",
    "outputId": "e085fbd9-24f0-4724-a3d4-fbd7aedf6d9e"
   },
   "outputs": [
    {
     "data": {
      "text/plain": [
       "['Logistic_model.pkl']"
      ]
     },
     "execution_count": 18,
     "metadata": {},
     "output_type": "execute_result"
    }
   ],
   "source": [
    "# save model\n",
    "joblib.dump(logreg, 'Logistic_model.pkl')"
   ]
  },
  {
   "cell_type": "markdown",
   "metadata": {
    "colab_type": "text",
    "id": "_xghR3FodpCm"
   },
   "source": [
    "## 1.2. XGBoost model"
   ]
  },
  {
   "cell_type": "code",
   "execution_count": 19,
   "metadata": {
    "colab": {},
    "colab_type": "code",
    "id": "CqUurH7sdpCn",
    "outputId": "be6add74-e026-4e61-c873-bdc19e3f5f0b"
   },
   "outputs": [
    {
     "data": {
      "text/plain": [
       "90.2"
      ]
     },
     "execution_count": 19,
     "metadata": {},
     "output_type": "execute_result"
    }
   ],
   "source": [
    "m_xgb = XGBClassifier()\n",
    "m_xgb.fit(X_train, Y_train)\n",
    "\n",
    "acc_xgb = round(m_xgb.score(X_test, Y_test) * 100, 2)\n",
    "acc_xgb"
   ]
  },
  {
   "cell_type": "code",
   "execution_count": 20,
   "metadata": {
    "colab": {},
    "colab_type": "code",
    "id": "WyF4vNdgdpCs"
   },
   "outputs": [],
   "source": [
    "ypred_xgb = m_xgb.predict(X_test)"
   ]
  },
  {
   "cell_type": "code",
   "execution_count": 21,
   "metadata": {
    "colab": {},
    "colab_type": "code",
    "id": "tt-lavrydpCz",
    "outputId": "20470ab4-e8d6-418b-e3d8-4174de648314"
   },
   "outputs": [
    {
     "data": {
      "text/plain": [
       "0.8180405970885334"
      ]
     },
     "execution_count": 21,
     "metadata": {},
     "output_type": "execute_result"
    }
   ],
   "source": [
    "f1_score(Y_test,ypred_xgb,average='macro')"
   ]
  },
  {
   "cell_type": "code",
   "execution_count": 22,
   "metadata": {
    "colab": {},
    "colab_type": "code",
    "id": "E7SnSwm-dpC4",
    "outputId": "f5772568-0a9d-498d-fcad-2ef373274699"
   },
   "outputs": [
    {
     "data": {
      "text/plain": [
       "array([[9485,  113],\n",
       "       [1062, 1335]], dtype=int64)"
      ]
     },
     "execution_count": 22,
     "metadata": {},
     "output_type": "execute_result"
    }
   ],
   "source": [
    "confusion_matrix(Y_test,ypred_xgb,labels=[0,1])"
   ]
  },
  {
   "cell_type": "code",
   "execution_count": 23,
   "metadata": {
    "colab": {},
    "colab_type": "code",
    "id": "rueGu2ALdpC-",
    "outputId": "8770099c-43ae-4fd4-cc58-df1ddf95ebd3"
   },
   "outputs": [
    {
     "data": {
      "text/plain": [
       "0.7725864483135697"
      ]
     },
     "execution_count": 23,
     "metadata": {},
     "output_type": "execute_result"
    }
   ],
   "source": [
    "# Area Under the Receiver Operating Characteristic Curve\n",
    "roc_auc_score(Y_test, ypred_xgb)"
   ]
  },
  {
   "cell_type": "code",
   "execution_count": 24,
   "metadata": {},
   "outputs": [
    {
     "name": "stdout",
     "output_type": "stream",
     "text": [
      "              precision    recall  f1-score   support\n",
      "\n",
      "           0       0.90      0.99      0.94      9598\n",
      "           1       0.92      0.56      0.69      2397\n",
      "\n",
      "   micro avg       0.90      0.90      0.90     11995\n",
      "   macro avg       0.91      0.77      0.82     11995\n",
      "weighted avg       0.90      0.90      0.89     11995\n",
      "\n"
     ]
    }
   ],
   "source": [
    "print(classification_report(Y_test, ypred_xgb))"
   ]
  },
  {
   "cell_type": "code",
   "execution_count": 25,
   "metadata": {},
   "outputs": [
    {
     "data": {
      "text/plain": [
       "<matplotlib.axes._subplots.AxesSubplot at 0x1fca11ee390>"
      ]
     },
     "execution_count": 25,
     "metadata": {},
     "output_type": "execute_result"
    },
    {
     "data": {
      "image/png": "[encoded data removed]",
      "text/plain": [
       "<Figure size 1440x1440 with 1 Axes>"
      ]
     },
     "metadata": {
      "needs_background": "light"
     },
     "output_type": "display_data"
    }
   ],
   "source": [
    "fig, ax = plt.subplots(1,1,figsize=(20,20))\n",
    "plot_importance(m_xgb,ax=ax)"
   ]
  },
  {
   "cell_type": "code",
   "execution_count": 26,
   "metadata": {
    "colab": {},
    "colab_type": "code",
    "id": "ZHs0DAwvdpDE",
    "outputId": "ff75433d-b252-427e-e631-908d2700d738"
   },
   "outputs": [
    {
     "data": {
      "text/plain": [
       "['xgboost.pkl']"
      ]
     },
     "execution_count": 26,
     "metadata": {},
     "output_type": "execute_result"
    }
   ],
   "source": [
    "# save model\n",
    "joblib.dump(m_xgb, 'xgboost.pkl')"
   ]
  },
  {
   "cell_type": "markdown",
   "metadata": {
    "colab_type": "text",
    "id": "VqUC29dTdpDJ"
   },
   "source": [
    "# Part 2 : Prediction"
   ]
  },
  {
   "cell_type": "code",
   "execution_count": 27,
   "metadata": {
    "colab": {},
    "colab_type": "code",
    "id": "uUmYxI8odpDM"
   },
   "outputs": [],
   "source": [
    "# load test_set\n",
    "test = pd.read_csv('test_set.csv')"
   ]
  },
  {
   "cell_type": "code",
   "execution_count": 28,
   "metadata": {
    "colab": {},
    "colab_type": "code",
    "id": "Sstc9FhzdpDU",
    "outputId": "7c237d11-4996-415b-80a8-fe83c86b1d34"
   },
   "outputs": [
    {
     "data": {
      "text/html": [
       "<div>\n",
       "<style scoped>\n",
       "    .dataframe tbody tr th:only-of-type {\n",
       "        vertical-align: middle;\n",
       "    }\n",
       "\n",
       "    .dataframe tbody tr th {\n",
       "        vertical-align: top;\n",
       "    }\n",
       "\n",
       "    .dataframe thead th {\n",
       "        text-align: right;\n",
       "    }\n",
       "</style>\n",
       "<table border=\"1\" class=\"dataframe\">\n",
       "  <thead>\n",
       "    <tr style=\"text-align: right;\">\n",
       "      <th></th>\n",
       "      <th>x0</th>\n",
       "      <th>x1</th>\n",
       "      <th>x2</th>\n",
       "      <th>x3</th>\n",
       "      <th>x4</th>\n",
       "      <th>x5</th>\n",
       "      <th>x6</th>\n",
       "      <th>x7</th>\n",
       "      <th>x8</th>\n",
       "      <th>x9</th>\n",
       "      <th>...</th>\n",
       "      <th>x68_Mar</th>\n",
       "      <th>x68_May</th>\n",
       "      <th>x68_Nov</th>\n",
       "      <th>x68_Oct</th>\n",
       "      <th>x68_sept.</th>\n",
       "      <th>x68_nan</th>\n",
       "      <th>x93_america</th>\n",
       "      <th>x93_asia</th>\n",
       "      <th>x93_euorpe</th>\n",
       "      <th>x93_nan</th>\n",
       "    </tr>\n",
       "  </thead>\n",
       "  <tbody>\n",
       "    <tr>\n",
       "      <th>0</th>\n",
       "      <td>0.196063</td>\n",
       "      <td>3.683995</td>\n",
       "      <td>-3.265963</td>\n",
       "      <td>7.982156</td>\n",
       "      <td>-2.638979</td>\n",
       "      <td>-0.798760</td>\n",
       "      <td>-3.345929</td>\n",
       "      <td>1.266333</td>\n",
       "      <td>-9.689859</td>\n",
       "      <td>1.512794</td>\n",
       "      <td>...</td>\n",
       "      <td>0</td>\n",
       "      <td>0</td>\n",
       "      <td>0</td>\n",
       "      <td>0</td>\n",
       "      <td>0</td>\n",
       "      <td>0</td>\n",
       "      <td>0</td>\n",
       "      <td>1</td>\n",
       "      <td>0</td>\n",
       "      <td>0</td>\n",
       "    </tr>\n",
       "    <tr>\n",
       "      <th>1</th>\n",
       "      <td>23.155197</td>\n",
       "      <td>-9.226725</td>\n",
       "      <td>6.179996</td>\n",
       "      <td>-29.612592</td>\n",
       "      <td>-11.146301</td>\n",
       "      <td>-11.858857</td>\n",
       "      <td>-3.588747</td>\n",
       "      <td>-0.928037</td>\n",
       "      <td>-9.924414</td>\n",
       "      <td>0.932668</td>\n",
       "      <td>...</td>\n",
       "      <td>0</td>\n",
       "      <td>0</td>\n",
       "      <td>0</td>\n",
       "      <td>0</td>\n",
       "      <td>0</td>\n",
       "      <td>0</td>\n",
       "      <td>0</td>\n",
       "      <td>1</td>\n",
       "      <td>0</td>\n",
       "      <td>0</td>\n",
       "    </tr>\n",
       "    <tr>\n",
       "      <th>2</th>\n",
       "      <td>-13.969618</td>\n",
       "      <td>-0.343978</td>\n",
       "      <td>1.920740</td>\n",
       "      <td>-1.983859</td>\n",
       "      <td>-18.619658</td>\n",
       "      <td>-4.929527</td>\n",
       "      <td>-0.669704</td>\n",
       "      <td>1.906140</td>\n",
       "      <td>-17.125858</td>\n",
       "      <td>1.112156</td>\n",
       "      <td>...</td>\n",
       "      <td>0</td>\n",
       "      <td>0</td>\n",
       "      <td>0</td>\n",
       "      <td>0</td>\n",
       "      <td>0</td>\n",
       "      <td>0</td>\n",
       "      <td>0</td>\n",
       "      <td>1</td>\n",
       "      <td>0</td>\n",
       "      <td>0</td>\n",
       "    </tr>\n",
       "    <tr>\n",
       "      <th>3</th>\n",
       "      <td>49.722481</td>\n",
       "      <td>-1.500789</td>\n",
       "      <td>-1.564326</td>\n",
       "      <td>-8.113622</td>\n",
       "      <td>9.696716</td>\n",
       "      <td>-21.883567</td>\n",
       "      <td>-0.737723</td>\n",
       "      <td>4.043544</td>\n",
       "      <td>-11.514792</td>\n",
       "      <td>-1.797036</td>\n",
       "      <td>...</td>\n",
       "      <td>0</td>\n",
       "      <td>0</td>\n",
       "      <td>0</td>\n",
       "      <td>0</td>\n",
       "      <td>0</td>\n",
       "      <td>0</td>\n",
       "      <td>0</td>\n",
       "      <td>1</td>\n",
       "      <td>0</td>\n",
       "      <td>0</td>\n",
       "    </tr>\n",
       "    <tr>\n",
       "      <th>4</th>\n",
       "      <td>-13.494403</td>\n",
       "      <td>7.445215</td>\n",
       "      <td>-1.721518</td>\n",
       "      <td>49.111766</td>\n",
       "      <td>-14.566832</td>\n",
       "      <td>-8.327643</td>\n",
       "      <td>-1.031431</td>\n",
       "      <td>0.033500</td>\n",
       "      <td>20.977351</td>\n",
       "      <td>6.744525</td>\n",
       "      <td>...</td>\n",
       "      <td>0</td>\n",
       "      <td>1</td>\n",
       "      <td>0</td>\n",
       "      <td>0</td>\n",
       "      <td>0</td>\n",
       "      <td>0</td>\n",
       "      <td>0</td>\n",
       "      <td>1</td>\n",
       "      <td>0</td>\n",
       "      <td>0</td>\n",
       "    </tr>\n",
       "  </tbody>\n",
       "</table>\n",
       "<p>5 rows × 140 columns</p>\n",
       "</div>"
      ],
      "text/plain": [
       "          x0        x1        x2         x3         x4         x5        x6  \\\n",
       "0   0.196063  3.683995 -3.265963   7.982156  -2.638979  -0.798760 -3.345929   \n",
       "1  23.155197 -9.226725  6.179996 -29.612592 -11.146301 -11.858857 -3.588747   \n",
       "2 -13.969618 -0.343978  1.920740  -1.983859 -18.619658  -4.929527 -0.669704   \n",
       "3  49.722481 -1.500789 -1.564326  -8.113622   9.696716 -21.883567 -0.737723   \n",
       "4 -13.494403  7.445215 -1.721518  49.111766 -14.566832  -8.327643 -1.031431   \n",
       "\n",
       "         x7         x8        x9   ...     x68_Mar  x68_May  x68_Nov  x68_Oct  \\\n",
       "0  1.266333  -9.689859  1.512794   ...           0        0        0        0   \n",
       "1 -0.928037  -9.924414  0.932668   ...           0        0        0        0   \n",
       "2  1.906140 -17.125858  1.112156   ...           0        0        0        0   \n",
       "3  4.043544 -11.514792 -1.797036   ...           0        0        0        0   \n",
       "4  0.033500  20.977351  6.744525   ...           0        1        0        0   \n",
       "\n",
       "   x68_sept.  x68_nan  x93_america  x93_asia  x93_euorpe  x93_nan  \n",
       "0          0        0            0         1           0        0  \n",
       "1          0        0            0         1           0        0  \n",
       "2          0        0            0         1           0        0  \n",
       "3          0        0            0         1           0        0  \n",
       "4          0        0            0         1           0        0  \n",
       "\n",
       "[5 rows x 140 columns]"
      ]
     },
     "execution_count": 28,
     "metadata": {},
     "output_type": "execute_result"
    }
   ],
   "source": [
    "test.head()"
   ]
  },
  {
   "cell_type": "code",
   "execution_count": 29,
   "metadata": {
    "colab": {},
    "colab_type": "code",
    "id": "pJIvltWudpDb"
   },
   "outputs": [],
   "source": [
    "test.sort_index(axis=1,inplace=True)"
   ]
  },
  {
   "cell_type": "code",
   "execution_count": 30,
   "metadata": {
    "colab": {},
    "colab_type": "code",
    "id": "0M5mL-9ydpDf",
    "outputId": "f055ac2d-c4c8-4b05-d609-1545550b6c1e"
   },
   "outputs": [
    {
     "data": {
      "text/html": [
       "<div>\n",
       "<style scoped>\n",
       "    .dataframe tbody tr th:only-of-type {\n",
       "        vertical-align: middle;\n",
       "    }\n",
       "\n",
       "    .dataframe tbody tr th {\n",
       "        vertical-align: top;\n",
       "    }\n",
       "\n",
       "    .dataframe thead th {\n",
       "        text-align: right;\n",
       "    }\n",
       "</style>\n",
       "<table border=\"1\" class=\"dataframe\">\n",
       "  <thead>\n",
       "    <tr style=\"text-align: right;\">\n",
       "      <th></th>\n",
       "      <th>x0</th>\n",
       "      <th>x1</th>\n",
       "      <th>x10</th>\n",
       "      <th>x11</th>\n",
       "      <th>x12</th>\n",
       "      <th>x13</th>\n",
       "      <th>x14</th>\n",
       "      <th>x15</th>\n",
       "      <th>x16</th>\n",
       "      <th>x17</th>\n",
       "      <th>...</th>\n",
       "      <th>x93_america</th>\n",
       "      <th>x93_asia</th>\n",
       "      <th>x93_euorpe</th>\n",
       "      <th>x93_nan</th>\n",
       "      <th>x94</th>\n",
       "      <th>x95</th>\n",
       "      <th>x96</th>\n",
       "      <th>x97</th>\n",
       "      <th>x98</th>\n",
       "      <th>x99</th>\n",
       "    </tr>\n",
       "  </thead>\n",
       "  <tbody>\n",
       "    <tr>\n",
       "      <th>0</th>\n",
       "      <td>0.196063</td>\n",
       "      <td>3.683995</td>\n",
       "      <td>10.782491</td>\n",
       "      <td>-2.150111</td>\n",
       "      <td>-3.440034</td>\n",
       "      <td>-1.457826</td>\n",
       "      <td>-4.622802</td>\n",
       "      <td>12.122639</td>\n",
       "      <td>8.332386</td>\n",
       "      <td>1.826703</td>\n",
       "      <td>...</td>\n",
       "      <td>0</td>\n",
       "      <td>1</td>\n",
       "      <td>0</td>\n",
       "      <td>0</td>\n",
       "      <td>0.023357</td>\n",
       "      <td>6.021137</td>\n",
       "      <td>-2.423546</td>\n",
       "      <td>-1.182148</td>\n",
       "      <td>1.514047</td>\n",
       "      <td>3.775888</td>\n",
       "    </tr>\n",
       "    <tr>\n",
       "      <th>1</th>\n",
       "      <td>23.155197</td>\n",
       "      <td>-9.226725</td>\n",
       "      <td>10.703057</td>\n",
       "      <td>-1.256140</td>\n",
       "      <td>-0.836081</td>\n",
       "      <td>18.783275</td>\n",
       "      <td>2.234836</td>\n",
       "      <td>-1.701478</td>\n",
       "      <td>-5.912640</td>\n",
       "      <td>3.575587</td>\n",
       "      <td>...</td>\n",
       "      <td>0</td>\n",
       "      <td>1</td>\n",
       "      <td>0</td>\n",
       "      <td>0</td>\n",
       "      <td>1.349389</td>\n",
       "      <td>19.646176</td>\n",
       "      <td>13.871395</td>\n",
       "      <td>38.657216</td>\n",
       "      <td>5.395564</td>\n",
       "      <td>3.139697</td>\n",
       "    </tr>\n",
       "    <tr>\n",
       "      <th>2</th>\n",
       "      <td>-13.969618</td>\n",
       "      <td>-0.343978</td>\n",
       "      <td>22.950872</td>\n",
       "      <td>-1.279778</td>\n",
       "      <td>0.502783</td>\n",
       "      <td>10.260698</td>\n",
       "      <td>-9.837024</td>\n",
       "      <td>-3.173681</td>\n",
       "      <td>-5.908193</td>\n",
       "      <td>-3.899170</td>\n",
       "      <td>...</td>\n",
       "      <td>0</td>\n",
       "      <td>1</td>\n",
       "      <td>0</td>\n",
       "      <td>0</td>\n",
       "      <td>2.149993</td>\n",
       "      <td>22.719042</td>\n",
       "      <td>-2.958959</td>\n",
       "      <td>-36.135939</td>\n",
       "      <td>5.520687</td>\n",
       "      <td>3.733732</td>\n",
       "    </tr>\n",
       "    <tr>\n",
       "      <th>3</th>\n",
       "      <td>49.722481</td>\n",
       "      <td>-1.500789</td>\n",
       "      <td>0.046501</td>\n",
       "      <td>1.145335</td>\n",
       "      <td>-0.656622</td>\n",
       "      <td>3.561443</td>\n",
       "      <td>7.979791</td>\n",
       "      <td>-12.359490</td>\n",
       "      <td>-3.681145</td>\n",
       "      <td>4.916650</td>\n",
       "      <td>...</td>\n",
       "      <td>0</td>\n",
       "      <td>1</td>\n",
       "      <td>0</td>\n",
       "      <td>0</td>\n",
       "      <td>-3.052037</td>\n",
       "      <td>-19.306807</td>\n",
       "      <td>-1.275701</td>\n",
       "      <td>-39.607665</td>\n",
       "      <td>1.185943</td>\n",
       "      <td>-2.072836</td>\n",
       "    </tr>\n",
       "    <tr>\n",
       "      <th>4</th>\n",
       "      <td>-13.494403</td>\n",
       "      <td>7.445215</td>\n",
       "      <td>-25.478328</td>\n",
       "      <td>0.202861</td>\n",
       "      <td>1.310598</td>\n",
       "      <td>10.898865</td>\n",
       "      <td>-0.230300</td>\n",
       "      <td>-9.400081</td>\n",
       "      <td>-2.130493</td>\n",
       "      <td>-6.563081</td>\n",
       "      <td>...</td>\n",
       "      <td>0</td>\n",
       "      <td>1</td>\n",
       "      <td>0</td>\n",
       "      <td>0</td>\n",
       "      <td>-0.100660</td>\n",
       "      <td>6.732681</td>\n",
       "      <td>4.303092</td>\n",
       "      <td>-42.697656</td>\n",
       "      <td>7.144178</td>\n",
       "      <td>2.820698</td>\n",
       "    </tr>\n",
       "  </tbody>\n",
       "</table>\n",
       "<p>5 rows × 140 columns</p>\n",
       "</div>"
      ],
      "text/plain": [
       "          x0        x1        x10       x11       x12        x13       x14  \\\n",
       "0   0.196063  3.683995  10.782491 -2.150111 -3.440034  -1.457826 -4.622802   \n",
       "1  23.155197 -9.226725  10.703057 -1.256140 -0.836081  18.783275  2.234836   \n",
       "2 -13.969618 -0.343978  22.950872 -1.279778  0.502783  10.260698 -9.837024   \n",
       "3  49.722481 -1.500789   0.046501  1.145335 -0.656622   3.561443  7.979791   \n",
       "4 -13.494403  7.445215 -25.478328  0.202861  1.310598  10.898865 -0.230300   \n",
       "\n",
       "         x15       x16       x17    ...     x93_america  x93_asia  x93_euorpe  \\\n",
       "0  12.122639  8.332386  1.826703    ...               0         1           0   \n",
       "1  -1.701478 -5.912640  3.575587    ...               0         1           0   \n",
       "2  -3.173681 -5.908193 -3.899170    ...               0         1           0   \n",
       "3 -12.359490 -3.681145  4.916650    ...               0         1           0   \n",
       "4  -9.400081 -2.130493 -6.563081    ...               0         1           0   \n",
       "\n",
       "   x93_nan       x94        x95        x96        x97       x98       x99  \n",
       "0        0  0.023357   6.021137  -2.423546  -1.182148  1.514047  3.775888  \n",
       "1        0  1.349389  19.646176  13.871395  38.657216  5.395564  3.139697  \n",
       "2        0  2.149993  22.719042  -2.958959 -36.135939  5.520687  3.733732  \n",
       "3        0 -3.052037 -19.306807  -1.275701 -39.607665  1.185943 -2.072836  \n",
       "4        0 -0.100660   6.732681   4.303092 -42.697656  7.144178  2.820698  \n",
       "\n",
       "[5 rows x 140 columns]"
      ]
     },
     "execution_count": 30,
     "metadata": {},
     "output_type": "execute_result"
    }
   ],
   "source": [
    "test.head()"
   ]
  },
  {
   "cell_type": "code",
   "execution_count": 31,
   "metadata": {
    "colab": {},
    "colab_type": "code",
    "id": "pnJlCfGndpDj",
    "outputId": "9502641b-eb18-4df4-a8c5-b574ab2ba3e8"
   },
   "outputs": [
    {
     "data": {
      "text/plain": [
       "Index(['x0', 'x1', 'x10', 'x11', 'x12', 'x13', 'x14', 'x15', 'x16', 'x17',\n",
       "       ...\n",
       "       'x93_america', 'x93_asia', 'x93_euorpe', 'x93_nan', 'x94', 'x95', 'x96',\n",
       "       'x97', 'x98', 'x99'],\n",
       "      dtype='object', length=140)"
      ]
     },
     "execution_count": 31,
     "metadata": {},
     "output_type": "execute_result"
    }
   ],
   "source": [
    "test.columns"
   ]
  },
  {
   "cell_type": "markdown",
   "metadata": {
    "colab_type": "text",
    "id": "ORXHJMBFdpDo"
   },
   "source": [
    "## 2.1. Logistic Regression"
   ]
  },
  {
   "cell_type": "code",
   "execution_count": 32,
   "metadata": {
    "colab": {},
    "colab_type": "code",
    "id": "dCU9c7JmdpDq"
   },
   "outputs": [],
   "source": [
    "# load model\n",
    "model1 = joblib.load('Logistic_model.pkl')"
   ]
  },
  {
   "cell_type": "code",
   "execution_count": 33,
   "metadata": {
    "colab": {},
    "colab_type": "code",
    "id": "_p9_AJYmdpDt",
    "outputId": "ae62e5c6-57d0-461c-9159-1b9e521dfd4e"
   },
   "outputs": [
    {
     "data": {
      "text/plain": [
       "array([[0.88927582, 0.11072418],\n",
       "       [0.9852471 , 0.0147529 ],\n",
       "       [0.90249682, 0.09750318],\n",
       "       ...,\n",
       "       [0.99582686, 0.00417314],\n",
       "       [0.54311619, 0.45688381],\n",
       "       [0.32389014, 0.67610986]])"
      ]
     },
     "execution_count": 33,
     "metadata": {},
     "output_type": "execute_result"
    }
   ],
   "source": [
    "model1.predict_proba(test)"
   ]
  },
  {
   "cell_type": "code",
   "execution_count": 34,
   "metadata": {
    "colab": {},
    "colab_type": "code",
    "id": "po2vp2nwdpDy",
    "outputId": "023eb43a-2a8b-43af-8d9c-8cf391384cea"
   },
   "outputs": [
    {
     "data": {
      "text/html": [
       "<div>\n",
       "<style scoped>\n",
       "    .dataframe tbody tr th:only-of-type {\n",
       "        vertical-align: middle;\n",
       "    }\n",
       "\n",
       "    .dataframe tbody tr th {\n",
       "        vertical-align: top;\n",
       "    }\n",
       "\n",
       "    .dataframe thead th {\n",
       "        text-align: right;\n",
       "    }\n",
       "</style>\n",
       "<table border=\"1\" class=\"dataframe\">\n",
       "  <thead>\n",
       "    <tr style=\"text-align: right;\">\n",
       "      <th></th>\n",
       "      <th>0</th>\n",
       "      <th>1</th>\n",
       "    </tr>\n",
       "  </thead>\n",
       "  <tbody>\n",
       "    <tr>\n",
       "      <th>0</th>\n",
       "      <td>0.889276</td>\n",
       "      <td>0.110724</td>\n",
       "    </tr>\n",
       "    <tr>\n",
       "      <th>1</th>\n",
       "      <td>0.985247</td>\n",
       "      <td>0.014753</td>\n",
       "    </tr>\n",
       "    <tr>\n",
       "      <th>2</th>\n",
       "      <td>0.902497</td>\n",
       "      <td>0.097503</td>\n",
       "    </tr>\n",
       "    <tr>\n",
       "      <th>3</th>\n",
       "      <td>0.802715</td>\n",
       "      <td>0.197285</td>\n",
       "    </tr>\n",
       "    <tr>\n",
       "      <th>4</th>\n",
       "      <td>0.367211</td>\n",
       "      <td>0.632789</td>\n",
       "    </tr>\n",
       "  </tbody>\n",
       "</table>\n",
       "</div>"
      ],
      "text/plain": [
       "          0         1\n",
       "0  0.889276  0.110724\n",
       "1  0.985247  0.014753\n",
       "2  0.902497  0.097503\n",
       "3  0.802715  0.197285\n",
       "4  0.367211  0.632789"
      ]
     },
     "execution_count": 34,
     "metadata": {},
     "output_type": "execute_result"
    }
   ],
   "source": [
    "res1 = pd.DataFrame(data=logreg.predict_proba(test),columns=[0,1])\n",
    "res1.head()"
   ]
  },
  {
   "cell_type": "code",
   "execution_count": 35,
   "metadata": {
    "colab": {},
    "colab_type": "code",
    "id": "FFXWFZjEdpD3",
    "outputId": "d6cc3973-0193-444d-d98d-7ae972ef524e"
   },
   "outputs": [
    {
     "data": {
      "text/html": [
       "<div>\n",
       "<style scoped>\n",
       "    .dataframe tbody tr th:only-of-type {\n",
       "        vertical-align: middle;\n",
       "    }\n",
       "\n",
       "    .dataframe tbody tr th {\n",
       "        vertical-align: top;\n",
       "    }\n",
       "\n",
       "    .dataframe thead th {\n",
       "        text-align: right;\n",
       "    }\n",
       "</style>\n",
       "<table border=\"1\" class=\"dataframe\">\n",
       "  <thead>\n",
       "    <tr style=\"text-align: right;\">\n",
       "      <th></th>\n",
       "      <th>1</th>\n",
       "    </tr>\n",
       "  </thead>\n",
       "  <tbody>\n",
       "    <tr>\n",
       "      <th>0</th>\n",
       "      <td>0.110724</td>\n",
       "    </tr>\n",
       "    <tr>\n",
       "      <th>1</th>\n",
       "      <td>0.014753</td>\n",
       "    </tr>\n",
       "    <tr>\n",
       "      <th>2</th>\n",
       "      <td>0.097503</td>\n",
       "    </tr>\n",
       "    <tr>\n",
       "      <th>3</th>\n",
       "      <td>0.197285</td>\n",
       "    </tr>\n",
       "    <tr>\n",
       "      <th>4</th>\n",
       "      <td>0.632789</td>\n",
       "    </tr>\n",
       "  </tbody>\n",
       "</table>\n",
       "</div>"
      ],
      "text/plain": [
       "          1\n",
       "0  0.110724\n",
       "1  0.014753\n",
       "2  0.097503\n",
       "3  0.197285\n",
       "4  0.632789"
      ]
     },
     "execution_count": 35,
     "metadata": {},
     "output_type": "execute_result"
    }
   ],
   "source": [
    "result1 = res1.drop(labels=0,axis=1)\n",
    "result1.head()"
   ]
  },
  {
   "cell_type": "code",
   "execution_count": 36,
   "metadata": {
    "colab": {},
    "colab_type": "code",
    "id": "JCYOGSeodpD8",
    "outputId": "d5cdb59a-6857-46fd-a521-86ed817d8de9"
   },
   "outputs": [
    {
     "name": "stdout",
     "output_type": "stream",
     "text": [
      "<class 'pandas.core.frame.DataFrame'>\n",
      "RangeIndex: 10000 entries, 0 to 9999\n",
      "Data columns (total 1 columns):\n",
      "1    10000 non-null float64\n",
      "dtypes: float64(1)\n",
      "memory usage: 78.2 KB\n"
     ]
    }
   ],
   "source": [
    "result1.info()"
   ]
  },
  {
   "cell_type": "code",
   "execution_count": 37,
   "metadata": {
    "colab": {},
    "colab_type": "code",
    "id": "yy3xKos7dpED"
   },
   "outputs": [],
   "source": [
    "result1.to_csv('results1.csv',index=False)"
   ]
  },
  {
   "cell_type": "markdown",
   "metadata": {
    "colab_type": "text",
    "id": "vVRYYLUZdpEI"
   },
   "source": [
    "## 2.2. XGBoost model"
   ]
  },
  {
   "cell_type": "code",
   "execution_count": 38,
   "metadata": {
    "colab": {},
    "colab_type": "code",
    "id": "8OdfX8sddpET"
   },
   "outputs": [],
   "source": [
    "# load model\n",
    "model2 = joblib.load('xgboost.pkl')"
   ]
  },
  {
   "cell_type": "code",
   "execution_count": 39,
   "metadata": {
    "colab": {},
    "colab_type": "code",
    "id": "U-7ATNxJdpEb",
    "outputId": "ff66ca46-d224-41b9-eb81-4d3fa5b89f1b"
   },
   "outputs": [
    {
     "data": {
      "text/plain": [
       "array([[0.935678  , 0.06432196],\n",
       "       [0.9193914 , 0.08060858],\n",
       "       [0.7935758 , 0.20642418],\n",
       "       ...,\n",
       "       [0.9312392 , 0.06876083],\n",
       "       [0.74644864, 0.2535514 ],\n",
       "       [0.7794591 , 0.22054091]], dtype=float32)"
      ]
     },
     "execution_count": 39,
     "metadata": {},
     "output_type": "execute_result"
    }
   ],
   "source": [
    "model2.predict_proba(test)"
   ]
  },
  {
   "cell_type": "code",
   "execution_count": 40,
   "metadata": {
    "colab": {},
    "colab_type": "code",
    "id": "FPbwYbfFdpEm",
    "outputId": "89776154-ce78-4dfd-fddf-afeec0582317"
   },
   "outputs": [
    {
     "data": {
      "text/plain": [
       "Index(['x0', 'x1', 'x10', 'x11', 'x12', 'x13', 'x14', 'x15', 'x16', 'x17',\n",
       "       ...\n",
       "       'x93_asia', 'x93_euorpe', 'x93_nan', 'x94', 'x95', 'x96', 'x97', 'x98',\n",
       "       'x99', 'y'],\n",
       "      dtype='object', length=141)"
      ]
     },
     "execution_count": 40,
     "metadata": {},
     "output_type": "execute_result"
    }
   ],
   "source": [
    "df.columns"
   ]
  },
  {
   "cell_type": "code",
   "execution_count": 41,
   "metadata": {
    "colab": {},
    "colab_type": "code",
    "id": "Io8lky0AdpEu",
    "outputId": "845767c1-8dbc-46cb-da4c-3c91ddbf22de"
   },
   "outputs": [
    {
     "data": {
      "text/plain": [
       "Index(['x0', 'x1', 'x10', 'x11', 'x12', 'x13', 'x14', 'x15', 'x16', 'x17',\n",
       "       ...\n",
       "       'x93_america', 'x93_asia', 'x93_euorpe', 'x93_nan', 'x94', 'x95', 'x96',\n",
       "       'x97', 'x98', 'x99'],\n",
       "      dtype='object', length=140)"
      ]
     },
     "execution_count": 41,
     "metadata": {},
     "output_type": "execute_result"
    }
   ],
   "source": [
    "test.columns"
   ]
  },
  {
   "cell_type": "code",
   "execution_count": 42,
   "metadata": {
    "colab": {},
    "colab_type": "code",
    "id": "7Va6N3hpdpE1",
    "outputId": "2ee9c081-4a7f-4e62-9a8d-58a2099e6d41"
   },
   "outputs": [
    {
     "data": {
      "text/html": [
       "<div>\n",
       "<style scoped>\n",
       "    .dataframe tbody tr th:only-of-type {\n",
       "        vertical-align: middle;\n",
       "    }\n",
       "\n",
       "    .dataframe tbody tr th {\n",
       "        vertical-align: top;\n",
       "    }\n",
       "\n",
       "    .dataframe thead th {\n",
       "        text-align: right;\n",
       "    }\n",
       "</style>\n",
       "<table border=\"1\" class=\"dataframe\">\n",
       "  <thead>\n",
       "    <tr style=\"text-align: right;\">\n",
       "      <th></th>\n",
       "      <th>0</th>\n",
       "      <th>1</th>\n",
       "    </tr>\n",
       "  </thead>\n",
       "  <tbody>\n",
       "    <tr>\n",
       "      <th>0</th>\n",
       "      <td>0.935678</td>\n",
       "      <td>0.064322</td>\n",
       "    </tr>\n",
       "    <tr>\n",
       "      <th>1</th>\n",
       "      <td>0.919391</td>\n",
       "      <td>0.080609</td>\n",
       "    </tr>\n",
       "    <tr>\n",
       "      <th>2</th>\n",
       "      <td>0.793576</td>\n",
       "      <td>0.206424</td>\n",
       "    </tr>\n",
       "    <tr>\n",
       "      <th>3</th>\n",
       "      <td>0.884945</td>\n",
       "      <td>0.115055</td>\n",
       "    </tr>\n",
       "    <tr>\n",
       "      <th>4</th>\n",
       "      <td>0.292587</td>\n",
       "      <td>0.707413</td>\n",
       "    </tr>\n",
       "  </tbody>\n",
       "</table>\n",
       "</div>"
      ],
      "text/plain": [
       "          0         1\n",
       "0  0.935678  0.064322\n",
       "1  0.919391  0.080609\n",
       "2  0.793576  0.206424\n",
       "3  0.884945  0.115055\n",
       "4  0.292587  0.707413"
      ]
     },
     "execution_count": 42,
     "metadata": {},
     "output_type": "execute_result"
    }
   ],
   "source": [
    "res2 = pd.DataFrame(data=model2.predict_proba(test),columns=[0,1])\n",
    "res2.head()"
   ]
  },
  {
   "cell_type": "code",
   "execution_count": 43,
   "metadata": {
    "colab": {},
    "colab_type": "code",
    "id": "vU89Mas7dpFA",
    "outputId": "5152d35d-0c2c-4f4b-e98d-372132dc3f48"
   },
   "outputs": [
    {
     "data": {
      "text/html": [
       "<div>\n",
       "<style scoped>\n",
       "    .dataframe tbody tr th:only-of-type {\n",
       "        vertical-align: middle;\n",
       "    }\n",
       "\n",
       "    .dataframe tbody tr th {\n",
       "        vertical-align: top;\n",
       "    }\n",
       "\n",
       "    .dataframe thead th {\n",
       "        text-align: right;\n",
       "    }\n",
       "</style>\n",
       "<table border=\"1\" class=\"dataframe\">\n",
       "  <thead>\n",
       "    <tr style=\"text-align: right;\">\n",
       "      <th></th>\n",
       "      <th>1</th>\n",
       "    </tr>\n",
       "  </thead>\n",
       "  <tbody>\n",
       "    <tr>\n",
       "      <th>0</th>\n",
       "      <td>0.064322</td>\n",
       "    </tr>\n",
       "    <tr>\n",
       "      <th>1</th>\n",
       "      <td>0.080609</td>\n",
       "    </tr>\n",
       "    <tr>\n",
       "      <th>2</th>\n",
       "      <td>0.206424</td>\n",
       "    </tr>\n",
       "    <tr>\n",
       "      <th>3</th>\n",
       "      <td>0.115055</td>\n",
       "    </tr>\n",
       "    <tr>\n",
       "      <th>4</th>\n",
       "      <td>0.707413</td>\n",
       "    </tr>\n",
       "  </tbody>\n",
       "</table>\n",
       "</div>"
      ],
      "text/plain": [
       "          1\n",
       "0  0.064322\n",
       "1  0.080609\n",
       "2  0.206424\n",
       "3  0.115055\n",
       "4  0.707413"
      ]
     },
     "execution_count": 43,
     "metadata": {},
     "output_type": "execute_result"
    }
   ],
   "source": [
    "result2 = res2.drop(labels=0,axis=1)\n",
    "result2.head()"
   ]
  },
  {
   "cell_type": "code",
   "execution_count": 44,
   "metadata": {
    "colab": {},
    "colab_type": "code",
    "id": "d2sEPJlrdpFK",
    "outputId": "e16652a7-5b95-4a10-e64d-c39be14759cb"
   },
   "outputs": [
    {
     "name": "stdout",
     "output_type": "stream",
     "text": [
      "<class 'pandas.core.frame.DataFrame'>\n",
      "RangeIndex: 10000 entries, 0 to 9999\n",
      "Data columns (total 1 columns):\n",
      "1    10000 non-null float32\n",
      "dtypes: float32(1)\n",
      "memory usage: 39.1 KB\n"
     ]
    }
   ],
   "source": [
    "result2.info()"
   ]
  },
  {
   "cell_type": "code",
   "execution_count": 45,
   "metadata": {
    "colab": {},
    "colab_type": "code",
    "id": "jyiOTQLZdpFP"
   },
   "outputs": [],
   "source": [
    "result2.to_csv('results2.csv',index=False)"
   ]
  }
 ],
 "metadata": {
  "colab": {
   "name": "model.ipynb",
   "provenance": [],
   "version": "0.3.2"
  },
  "kernelspec": {
   "display_name": "Python 3",
   "language": "python",
   "name": "python3"
  },
  "language_info": {
   "codemirror_mode": {
    "name": "ipython",
    "version": 3
   },
   "file_extension": ".py",
   "mimetype": "text/x-python",
   "name": "python",
   "nbconvert_exporter": "python",
   "pygments_lexer": "ipython3",
   "version": "3.7.1"
  }
 },
 "nbformat": 4,
 "nbformat_minor": 1
}
