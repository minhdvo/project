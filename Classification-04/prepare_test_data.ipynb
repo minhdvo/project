{
 "cells": [
  {
   "cell_type": "code",
   "execution_count": 1,
   "metadata": {},
   "outputs": [],
   "source": [
    "import numpy as np\n",
    "import pandas as pd\n",
    "import seaborn as sns\n",
    "\n",
    "import matplotlib.pyplot as plt\n",
    "%matplotlib inline\n",
    "plt.style.use('ggplot')"
   ]
  },
  {
   "cell_type": "markdown",
   "metadata": {},
   "source": [
    "### Load test set"
   ]
  },
  {
   "cell_type": "code",
   "execution_count": 2,
   "metadata": {},
   "outputs": [
    {
     "data": {
      "text/html": [
       "<div>\n",
       "<style scoped>\n",
       "    .dataframe tbody tr th:only-of-type {\n",
       "        vertical-align: middle;\n",
       "    }\n",
       "\n",
       "    .dataframe tbody tr th {\n",
       "        vertical-align: top;\n",
       "    }\n",
       "\n",
       "    .dataframe thead th {\n",
       "        text-align: right;\n",
       "    }\n",
       "</style>\n",
       "<table border=\"1\" class=\"dataframe\">\n",
       "  <thead>\n",
       "    <tr style=\"text-align: right;\">\n",
       "      <th></th>\n",
       "      <th>x0</th>\n",
       "      <th>x1</th>\n",
       "      <th>x2</th>\n",
       "      <th>x3</th>\n",
       "      <th>x4</th>\n",
       "      <th>x5</th>\n",
       "      <th>x6</th>\n",
       "      <th>x7</th>\n",
       "      <th>x8</th>\n",
       "      <th>x9</th>\n",
       "      <th>...</th>\n",
       "      <th>x90</th>\n",
       "      <th>x91</th>\n",
       "      <th>x92</th>\n",
       "      <th>x93</th>\n",
       "      <th>x94</th>\n",
       "      <th>x95</th>\n",
       "      <th>x96</th>\n",
       "      <th>x97</th>\n",
       "      <th>x98</th>\n",
       "      <th>x99</th>\n",
       "    </tr>\n",
       "  </thead>\n",
       "  <tbody>\n",
       "    <tr>\n",
       "      <th>0</th>\n",
       "      <td>0.196063</td>\n",
       "      <td>3.683995</td>\n",
       "      <td>-3.265963</td>\n",
       "      <td>7.982156</td>\n",
       "      <td>-2.638979</td>\n",
       "      <td>-0.798760</td>\n",
       "      <td>-3.345929</td>\n",
       "      <td>1.266333</td>\n",
       "      <td>-9.689859</td>\n",
       "      <td>1.512794</td>\n",
       "      <td>...</td>\n",
       "      <td>71.588700</td>\n",
       "      <td>14.065825</td>\n",
       "      <td>-3.061930</td>\n",
       "      <td>asia</td>\n",
       "      <td>0.023357</td>\n",
       "      <td>6.021137</td>\n",
       "      <td>-2.423546</td>\n",
       "      <td>-1.182148</td>\n",
       "      <td>1.514047</td>\n",
       "      <td>3.775888</td>\n",
       "    </tr>\n",
       "    <tr>\n",
       "      <th>1</th>\n",
       "      <td>23.155197</td>\n",
       "      <td>-9.226725</td>\n",
       "      <td>6.179996</td>\n",
       "      <td>-29.612592</td>\n",
       "      <td>-11.146301</td>\n",
       "      <td>-11.858857</td>\n",
       "      <td>-3.588747</td>\n",
       "      <td>-0.928037</td>\n",
       "      <td>-9.924414</td>\n",
       "      <td>0.932668</td>\n",
       "      <td>...</td>\n",
       "      <td>22.600000</td>\n",
       "      <td>-13.743287</td>\n",
       "      <td>-3.408293</td>\n",
       "      <td>asia</td>\n",
       "      <td>1.349389</td>\n",
       "      <td>19.646176</td>\n",
       "      <td>13.871395</td>\n",
       "      <td>38.657216</td>\n",
       "      <td>5.395564</td>\n",
       "      <td>3.139697</td>\n",
       "    </tr>\n",
       "    <tr>\n",
       "      <th>2</th>\n",
       "      <td>-13.969618</td>\n",
       "      <td>-0.343978</td>\n",
       "      <td>1.920740</td>\n",
       "      <td>-1.983859</td>\n",
       "      <td>-18.619658</td>\n",
       "      <td>-4.929527</td>\n",
       "      <td>-0.669704</td>\n",
       "      <td>1.906140</td>\n",
       "      <td>-17.125858</td>\n",
       "      <td>1.112156</td>\n",
       "      <td>...</td>\n",
       "      <td>-141.012215</td>\n",
       "      <td>6.507336</td>\n",
       "      <td>8.900449</td>\n",
       "      <td>asia</td>\n",
       "      <td>2.149993</td>\n",
       "      <td>22.719042</td>\n",
       "      <td>-2.958959</td>\n",
       "      <td>-36.135939</td>\n",
       "      <td>5.520687</td>\n",
       "      <td>3.733732</td>\n",
       "    </tr>\n",
       "    <tr>\n",
       "      <th>3</th>\n",
       "      <td>49.722481</td>\n",
       "      <td>-1.500789</td>\n",
       "      <td>-1.564326</td>\n",
       "      <td>-8.113622</td>\n",
       "      <td>9.696716</td>\n",
       "      <td>-21.883567</td>\n",
       "      <td>-0.737723</td>\n",
       "      <td>4.043544</td>\n",
       "      <td>-11.514792</td>\n",
       "      <td>-1.797036</td>\n",
       "      <td>...</td>\n",
       "      <td>-35.285961</td>\n",
       "      <td>-2.009043</td>\n",
       "      <td>-2.427585</td>\n",
       "      <td>asia</td>\n",
       "      <td>-3.052037</td>\n",
       "      <td>-19.306807</td>\n",
       "      <td>-1.275701</td>\n",
       "      <td>-39.607665</td>\n",
       "      <td>1.185943</td>\n",
       "      <td>-2.072836</td>\n",
       "    </tr>\n",
       "    <tr>\n",
       "      <th>4</th>\n",
       "      <td>-13.494403</td>\n",
       "      <td>7.445215</td>\n",
       "      <td>-1.721518</td>\n",
       "      <td>49.111766</td>\n",
       "      <td>-14.566832</td>\n",
       "      <td>-8.327643</td>\n",
       "      <td>-1.031431</td>\n",
       "      <td>0.033500</td>\n",
       "      <td>20.977351</td>\n",
       "      <td>6.744525</td>\n",
       "      <td>...</td>\n",
       "      <td>17.486682</td>\n",
       "      <td>-4.412938</td>\n",
       "      <td>5.808763</td>\n",
       "      <td>asia</td>\n",
       "      <td>-0.100660</td>\n",
       "      <td>6.732681</td>\n",
       "      <td>4.303092</td>\n",
       "      <td>-42.697656</td>\n",
       "      <td>7.144178</td>\n",
       "      <td>2.820698</td>\n",
       "    </tr>\n",
       "  </tbody>\n",
       "</table>\n",
       "<p>5 rows × 100 columns</p>\n",
       "</div>"
      ],
      "text/plain": [
       "          x0        x1        x2         x3         x4         x5        x6  \\\n",
       "0   0.196063  3.683995 -3.265963   7.982156  -2.638979  -0.798760 -3.345929   \n",
       "1  23.155197 -9.226725  6.179996 -29.612592 -11.146301 -11.858857 -3.588747   \n",
       "2 -13.969618 -0.343978  1.920740  -1.983859 -18.619658  -4.929527 -0.669704   \n",
       "3  49.722481 -1.500789 -1.564326  -8.113622   9.696716 -21.883567 -0.737723   \n",
       "4 -13.494403  7.445215 -1.721518  49.111766 -14.566832  -8.327643 -1.031431   \n",
       "\n",
       "         x7         x8        x9    ...            x90        x91       x92  \\\n",
       "0  1.266333  -9.689859  1.512794    ...      71.588700  14.065825 -3.061930   \n",
       "1 -0.928037  -9.924414  0.932668    ...      22.600000 -13.743287 -3.408293   \n",
       "2  1.906140 -17.125858  1.112156    ...    -141.012215   6.507336  8.900449   \n",
       "3  4.043544 -11.514792 -1.797036    ...     -35.285961  -2.009043 -2.427585   \n",
       "4  0.033500  20.977351  6.744525    ...      17.486682  -4.412938  5.808763   \n",
       "\n",
       "    x93       x94        x95        x96        x97       x98       x99  \n",
       "0  asia  0.023357   6.021137  -2.423546  -1.182148  1.514047  3.775888  \n",
       "1  asia  1.349389  19.646176  13.871395  38.657216  5.395564  3.139697  \n",
       "2  asia  2.149993  22.719042  -2.958959 -36.135939  5.520687  3.733732  \n",
       "3  asia -3.052037 -19.306807  -1.275701 -39.607665  1.185943 -2.072836  \n",
       "4  asia -0.100660   6.732681   4.303092 -42.697656  7.144178  2.820698  \n",
       "\n",
       "[5 rows x 100 columns]"
      ]
     },
     "execution_count": 2,
     "metadata": {},
     "output_type": "execute_result"
    }
   ],
   "source": [
    "test = pd.read_csv('exercise_04_test.csv')\n",
    "test.head()"
   ]
  },
  {
   "cell_type": "code",
   "execution_count": 3,
   "metadata": {},
   "outputs": [
    {
     "name": "stdout",
     "output_type": "stream",
     "text": [
      "<class 'pandas.core.frame.DataFrame'>\n",
      "RangeIndex: 10000 entries, 0 to 9999\n",
      "Data columns (total 100 columns):\n",
      "x0     9997 non-null float64\n",
      "x1     9999 non-null float64\n",
      "x2     9998 non-null float64\n",
      "x3     9996 non-null float64\n",
      "x4     10000 non-null float64\n",
      "x5     10000 non-null float64\n",
      "x6     9996 non-null float64\n",
      "x7     9999 non-null float64\n",
      "x8     9997 non-null float64\n",
      "x9     9999 non-null float64\n",
      "x10    9999 non-null float64\n",
      "x11    9997 non-null float64\n",
      "x12    10000 non-null float64\n",
      "x13    9994 non-null float64\n",
      "x14    9998 non-null float64\n",
      "x15    9997 non-null float64\n",
      "x16    9998 non-null float64\n",
      "x17    9997 non-null float64\n",
      "x18    9998 non-null float64\n",
      "x19    9998 non-null float64\n",
      "x20    9998 non-null float64\n",
      "x21    10000 non-null float64\n",
      "x22    10000 non-null float64\n",
      "x23    9997 non-null float64\n",
      "x24    9996 non-null float64\n",
      "x25    9997 non-null float64\n",
      "x26    9998 non-null float64\n",
      "x27    9995 non-null float64\n",
      "x28    9997 non-null float64\n",
      "x29    9999 non-null float64\n",
      "x30    10000 non-null float64\n",
      "x31    9997 non-null float64\n",
      "x32    9999 non-null float64\n",
      "x33    9997 non-null float64\n",
      "x34    9999 non-null object\n",
      "x35    9998 non-null object\n",
      "x36    9997 non-null float64\n",
      "x37    9999 non-null float64\n",
      "x38    9999 non-null float64\n",
      "x39    9998 non-null float64\n",
      "x40    10000 non-null float64\n",
      "x41    10000 non-null object\n",
      "x42    9998 non-null float64\n",
      "x43    10000 non-null float64\n",
      "x44    9999 non-null float64\n",
      "x45    9998 non-null object\n",
      "x46    9999 non-null float64\n",
      "x47    9999 non-null float64\n",
      "x48    9994 non-null float64\n",
      "x49    9997 non-null float64\n",
      "x50    10000 non-null float64\n",
      "x51    9998 non-null float64\n",
      "x52    9999 non-null float64\n",
      "x53    9999 non-null float64\n",
      "x54    10000 non-null float64\n",
      "x55    9999 non-null float64\n",
      "x56    9999 non-null float64\n",
      "x57    9997 non-null float64\n",
      "x58    9998 non-null float64\n",
      "x59    9997 non-null float64\n",
      "x60    9997 non-null float64\n",
      "x61    9997 non-null float64\n",
      "x62    9996 non-null float64\n",
      "x63    9998 non-null float64\n",
      "x64    10000 non-null float64\n",
      "x65    9998 non-null float64\n",
      "x66    9998 non-null float64\n",
      "x67    9996 non-null float64\n",
      "x68    10000 non-null object\n",
      "x69    9997 non-null float64\n",
      "x70    9998 non-null float64\n",
      "x71    9999 non-null float64\n",
      "x72    10000 non-null float64\n",
      "x73    9995 non-null float64\n",
      "x74    9997 non-null float64\n",
      "x75    9998 non-null float64\n",
      "x76    10000 non-null float64\n",
      "x77    9995 non-null float64\n",
      "x78    9999 non-null float64\n",
      "x79    9997 non-null float64\n",
      "x80    9998 non-null float64\n",
      "x81    9998 non-null float64\n",
      "x82    9997 non-null float64\n",
      "x83    9999 non-null float64\n",
      "x84    10000 non-null float64\n",
      "x85    9997 non-null float64\n",
      "x86    9997 non-null float64\n",
      "x87    9998 non-null float64\n",
      "x88    9998 non-null float64\n",
      "x89    9998 non-null float64\n",
      "x90    9997 non-null float64\n",
      "x91    10000 non-null float64\n",
      "x92    10000 non-null float64\n",
      "x93    9999 non-null object\n",
      "x94    9998 non-null float64\n",
      "x95    9999 non-null float64\n",
      "x96    9998 non-null float64\n",
      "x97    9996 non-null float64\n",
      "x98    9998 non-null float64\n",
      "x99    9995 non-null float64\n",
      "dtypes: float64(94), object(6)\n",
      "memory usage: 7.6+ MB\n"
     ]
    }
   ],
   "source": [
    "test.info()"
   ]
  },
  {
   "cell_type": "markdown",
   "metadata": {},
   "source": [
    "### Numerical variable with Missing values"
   ]
  },
  {
   "cell_type": "code",
   "execution_count": 4,
   "metadata": {},
   "outputs": [],
   "source": [
    "num_var = test.select_dtypes('float').columns"
   ]
  },
  {
   "cell_type": "code",
   "execution_count": 5,
   "metadata": {},
   "outputs": [
    {
     "data": {
      "text/plain": [
       "['x0',\n",
       " 'x1',\n",
       " 'x2',\n",
       " 'x3',\n",
       " 'x6',\n",
       " 'x7',\n",
       " 'x8',\n",
       " 'x9',\n",
       " 'x10',\n",
       " 'x11',\n",
       " 'x13',\n",
       " 'x14',\n",
       " 'x15',\n",
       " 'x16',\n",
       " 'x17',\n",
       " 'x18',\n",
       " 'x19',\n",
       " 'x20',\n",
       " 'x23',\n",
       " 'x24',\n",
       " 'x25',\n",
       " 'x26',\n",
       " 'x27',\n",
       " 'x28',\n",
       " 'x29',\n",
       " 'x31',\n",
       " 'x32',\n",
       " 'x33',\n",
       " 'x36',\n",
       " 'x37',\n",
       " 'x38',\n",
       " 'x39',\n",
       " 'x42',\n",
       " 'x44',\n",
       " 'x46',\n",
       " 'x47',\n",
       " 'x48',\n",
       " 'x49',\n",
       " 'x51',\n",
       " 'x52',\n",
       " 'x53',\n",
       " 'x55',\n",
       " 'x56',\n",
       " 'x57',\n",
       " 'x58',\n",
       " 'x59',\n",
       " 'x60',\n",
       " 'x61',\n",
       " 'x62',\n",
       " 'x63',\n",
       " 'x65',\n",
       " 'x66',\n",
       " 'x67',\n",
       " 'x69',\n",
       " 'x70',\n",
       " 'x71',\n",
       " 'x73',\n",
       " 'x74',\n",
       " 'x75',\n",
       " 'x77',\n",
       " 'x78',\n",
       " 'x79',\n",
       " 'x80',\n",
       " 'x81',\n",
       " 'x82',\n",
       " 'x83',\n",
       " 'x85',\n",
       " 'x86',\n",
       " 'x87',\n",
       " 'x88',\n",
       " 'x89',\n",
       " 'x90',\n",
       " 'x94',\n",
       " 'x95',\n",
       " 'x96',\n",
       " 'x97',\n",
       " 'x98',\n",
       " 'x99']"
      ]
     },
     "execution_count": 5,
     "metadata": {},
     "output_type": "execute_result"
    }
   ],
   "source": [
    "# column names with NaN\n",
    "fill_num_var = []\n",
    "for i in num_var:\n",
    "    if test[i].isna().sum()!=0:\n",
    "        fill_num_var.append(i)\n",
    "        \n",
    "fill_num_var        "
   ]
  },
  {
   "cell_type": "markdown",
   "metadata": {},
   "source": [
    "### Fill missing values"
   ]
  },
  {
   "cell_type": "code",
   "execution_count": 6,
   "metadata": {},
   "outputs": [
    {
     "data": {
      "text/html": [
       "<div>\n",
       "<style scoped>\n",
       "    .dataframe tbody tr th:only-of-type {\n",
       "        vertical-align: middle;\n",
       "    }\n",
       "\n",
       "    .dataframe tbody tr th {\n",
       "        vertical-align: top;\n",
       "    }\n",
       "\n",
       "    .dataframe thead th {\n",
       "        text-align: right;\n",
       "    }\n",
       "</style>\n",
       "<table border=\"1\" class=\"dataframe\">\n",
       "  <thead>\n",
       "    <tr style=\"text-align: right;\">\n",
       "      <th></th>\n",
       "      <th>x0</th>\n",
       "      <th>x1</th>\n",
       "      <th>x2</th>\n",
       "      <th>x3</th>\n",
       "      <th>x4</th>\n",
       "      <th>x5</th>\n",
       "      <th>x6</th>\n",
       "      <th>x7</th>\n",
       "      <th>x8</th>\n",
       "      <th>x9</th>\n",
       "      <th>...</th>\n",
       "      <th>x91</th>\n",
       "      <th>x92</th>\n",
       "      <th>x93</th>\n",
       "      <th>x94</th>\n",
       "      <th>x95</th>\n",
       "      <th>x96</th>\n",
       "      <th>x97</th>\n",
       "      <th>x98</th>\n",
       "      <th>x99</th>\n",
       "      <th>y</th>\n",
       "    </tr>\n",
       "  </thead>\n",
       "  <tbody>\n",
       "    <tr>\n",
       "      <th>0</th>\n",
       "      <td>-17.933519</td>\n",
       "      <td>6.559220</td>\n",
       "      <td>2.422468</td>\n",
       "      <td>-27.737392</td>\n",
       "      <td>-12.080601</td>\n",
       "      <td>-3.892934</td>\n",
       "      <td>1.067466</td>\n",
       "      <td>0.935953</td>\n",
       "      <td>10.912007</td>\n",
       "      <td>1.107144</td>\n",
       "      <td>...</td>\n",
       "      <td>11.107047</td>\n",
       "      <td>0.093337</td>\n",
       "      <td>asia</td>\n",
       "      <td>0.421524</td>\n",
       "      <td>35.259947</td>\n",
       "      <td>8.994318</td>\n",
       "      <td>-21.000182</td>\n",
       "      <td>-0.686588</td>\n",
       "      <td>2.949106</td>\n",
       "      <td>1</td>\n",
       "    </tr>\n",
       "    <tr>\n",
       "      <th>1</th>\n",
       "      <td>-37.214754</td>\n",
       "      <td>10.774930</td>\n",
       "      <td>5.404072</td>\n",
       "      <td>21.354738</td>\n",
       "      <td>0.612690</td>\n",
       "      <td>-3.093533</td>\n",
       "      <td>6.161558</td>\n",
       "      <td>-0.972156</td>\n",
       "      <td>-5.222169</td>\n",
       "      <td>0.384969</td>\n",
       "      <td>...</td>\n",
       "      <td>-1.991846</td>\n",
       "      <td>15.666187</td>\n",
       "      <td>asia</td>\n",
       "      <td>-0.132764</td>\n",
       "      <td>-1.192563</td>\n",
       "      <td>3.885024</td>\n",
       "      <td>-37.886523</td>\n",
       "      <td>-7.730392</td>\n",
       "      <td>-1.107330</td>\n",
       "      <td>0</td>\n",
       "    </tr>\n",
       "    <tr>\n",
       "      <th>2</th>\n",
       "      <td>0.330441</td>\n",
       "      <td>-19.609972</td>\n",
       "      <td>-1.331804</td>\n",
       "      <td>-15.153892</td>\n",
       "      <td>19.710240</td>\n",
       "      <td>19.077300</td>\n",
       "      <td>-1.747110</td>\n",
       "      <td>0.545570</td>\n",
       "      <td>-1.464609</td>\n",
       "      <td>3.670570</td>\n",
       "      <td>...</td>\n",
       "      <td>17.132840</td>\n",
       "      <td>-5.333012</td>\n",
       "      <td>asia</td>\n",
       "      <td>1.432308</td>\n",
       "      <td>-3.435427</td>\n",
       "      <td>-1.133450</td>\n",
       "      <td>7.426099</td>\n",
       "      <td>-5.945534</td>\n",
       "      <td>1.316312</td>\n",
       "      <td>0</td>\n",
       "    </tr>\n",
       "    <tr>\n",
       "      <th>3</th>\n",
       "      <td>-13.709765</td>\n",
       "      <td>-8.011390</td>\n",
       "      <td>-1.536483</td>\n",
       "      <td>23.129497</td>\n",
       "      <td>27.880879</td>\n",
       "      <td>20.573991</td>\n",
       "      <td>-1.617689</td>\n",
       "      <td>4.129694</td>\n",
       "      <td>1.139928</td>\n",
       "      <td>2.912838</td>\n",
       "      <td>...</td>\n",
       "      <td>12.292136</td>\n",
       "      <td>4.177925</td>\n",
       "      <td>asia</td>\n",
       "      <td>0.733069</td>\n",
       "      <td>4.372964</td>\n",
       "      <td>15.529931</td>\n",
       "      <td>29.712153</td>\n",
       "      <td>2.240740</td>\n",
       "      <td>0.477195</td>\n",
       "      <td>0</td>\n",
       "    </tr>\n",
       "    <tr>\n",
       "      <th>4</th>\n",
       "      <td>-4.202598</td>\n",
       "      <td>7.076210</td>\n",
       "      <td>8.881550</td>\n",
       "      <td>23.600777</td>\n",
       "      <td>26.232164</td>\n",
       "      <td>-14.462320</td>\n",
       "      <td>3.231193</td>\n",
       "      <td>-0.069364</td>\n",
       "      <td>-7.310536</td>\n",
       "      <td>-2.268700</td>\n",
       "      <td>...</td>\n",
       "      <td>6.218743</td>\n",
       "      <td>8.715709</td>\n",
       "      <td>asia</td>\n",
       "      <td>-0.977502</td>\n",
       "      <td>-30.085932</td>\n",
       "      <td>-8.244312</td>\n",
       "      <td>66.540331</td>\n",
       "      <td>-3.478195</td>\n",
       "      <td>-2.869702</td>\n",
       "      <td>1</td>\n",
       "    </tr>\n",
       "  </tbody>\n",
       "</table>\n",
       "<p>5 rows × 101 columns</p>\n",
       "</div>"
      ],
      "text/plain": [
       "          x0         x1        x2         x3         x4         x5        x6  \\\n",
       "0 -17.933519   6.559220  2.422468 -27.737392 -12.080601  -3.892934  1.067466   \n",
       "1 -37.214754  10.774930  5.404072  21.354738   0.612690  -3.093533  6.161558   \n",
       "2   0.330441 -19.609972 -1.331804 -15.153892  19.710240  19.077300 -1.747110   \n",
       "3 -13.709765  -8.011390 -1.536483  23.129497  27.880879  20.573991 -1.617689   \n",
       "4  -4.202598   7.076210  8.881550  23.600777  26.232164 -14.462320  3.231193   \n",
       "\n",
       "         x7         x8        x9 ...        x91        x92   x93       x94  \\\n",
       "0  0.935953  10.912007  1.107144 ...  11.107047   0.093337  asia  0.421524   \n",
       "1 -0.972156  -5.222169  0.384969 ...  -1.991846  15.666187  asia -0.132764   \n",
       "2  0.545570  -1.464609  3.670570 ...  17.132840  -5.333012  asia  1.432308   \n",
       "3  4.129694   1.139928  2.912838 ...  12.292136   4.177925  asia  0.733069   \n",
       "4 -0.069364  -7.310536 -2.268700 ...   6.218743   8.715709  asia -0.977502   \n",
       "\n",
       "         x95        x96        x97       x98       x99  y  \n",
       "0  35.259947   8.994318 -21.000182 -0.686588  2.949106  1  \n",
       "1  -1.192563   3.885024 -37.886523 -7.730392 -1.107330  0  \n",
       "2  -3.435427  -1.133450   7.426099 -5.945534  1.316312  0  \n",
       "3   4.372964  15.529931  29.712153  2.240740  0.477195  0  \n",
       "4 -30.085932  -8.244312  66.540331 -3.478195 -2.869702  1  \n",
       "\n",
       "[5 rows x 101 columns]"
      ]
     },
     "execution_count": 6,
     "metadata": {},
     "output_type": "execute_result"
    }
   ],
   "source": [
    "train = pd.read_csv('exercise_04_train.csv')\n",
    "train.head()"
   ]
  },
  {
   "cell_type": "code",
   "execution_count": 7,
   "metadata": {},
   "outputs": [],
   "source": [
    "for i in fill_num_var:\n",
    "    test[i] = test[i].fillna(value = train[i])"
   ]
  },
  {
   "cell_type": "markdown",
   "metadata": {},
   "source": [
    "### Categorical variables"
   ]
  },
  {
   "cell_type": "markdown",
   "metadata": {},
   "source": [
    "#### 'x34'"
   ]
  },
  {
   "cell_type": "code",
   "execution_count": 8,
   "metadata": {},
   "outputs": [
    {
     "data": {
      "text/plain": [
       "volkswagon    3132\n",
       "Toyota        2773\n",
       "bmw           1838\n",
       "Honda         1277\n",
       "tesla          545\n",
       "chrystler      291\n",
       "nissan          90\n",
       "ford            39\n",
       "mercades        11\n",
       "chevrolet        3\n",
       "Name: x34, dtype: int64"
      ]
     },
     "execution_count": 8,
     "metadata": {},
     "output_type": "execute_result"
    }
   ],
   "source": [
    "test.x34.value_counts()"
   ]
  },
  {
   "cell_type": "code",
   "execution_count": 9,
   "metadata": {},
   "outputs": [
    {
     "data": {
      "text/plain": [
       "1"
      ]
     },
     "execution_count": 9,
     "metadata": {},
     "output_type": "execute_result"
    }
   ],
   "source": [
    "test.x34.isna().sum()"
   ]
  },
  {
   "cell_type": "markdown",
   "metadata": {},
   "source": [
    "### 'x35'"
   ]
  },
  {
   "cell_type": "code",
   "execution_count": 10,
   "metadata": {},
   "outputs": [
    {
     "data": {
      "text/plain": [
       "wed          3709\n",
       "thurday      3337\n",
       "wednesday    1489\n",
       "thur         1097\n",
       "tuesday       214\n",
       "friday        130\n",
       "monday         15\n",
       "fri             7\n",
       "Name: x35, dtype: int64"
      ]
     },
     "execution_count": 10,
     "metadata": {},
     "output_type": "execute_result"
    }
   ],
   "source": [
    "test.x35.value_counts()"
   ]
  },
  {
   "cell_type": "code",
   "execution_count": 11,
   "metadata": {},
   "outputs": [
    {
     "data": {
      "text/plain": [
       "array(['thurday', 'wednesday', 'tuesday', 'monday', 'friday', nan],\n",
       "      dtype=object)"
      ]
     },
     "execution_count": 11,
     "metadata": {},
     "output_type": "execute_result"
    }
   ],
   "source": [
    "# replace wed, thur and fri\n",
    "test.loc[test.x35=='thur','x35'] = 'thurday'\n",
    "test.loc[test.x35=='wed','x35'] = 'wednesday'\n",
    "test.loc[test.x35=='fri','x35'] = 'friday'\n",
    "test.x35.unique()"
   ]
  },
  {
   "cell_type": "code",
   "execution_count": 12,
   "metadata": {},
   "outputs": [
    {
     "data": {
      "text/plain": [
       "wednesday    5198\n",
       "thurday      4434\n",
       "tuesday       214\n",
       "friday        137\n",
       "monday         15\n",
       "Name: x35, dtype: int64"
      ]
     },
     "execution_count": 12,
     "metadata": {},
     "output_type": "execute_result"
    }
   ],
   "source": [
    "test.x35.value_counts()"
   ]
  },
  {
   "cell_type": "code",
   "execution_count": 13,
   "metadata": {},
   "outputs": [
    {
     "data": {
      "text/plain": [
       "2"
      ]
     },
     "execution_count": 13,
     "metadata": {},
     "output_type": "execute_result"
    }
   ],
   "source": [
    "test.x35.isna().sum()"
   ]
  },
  {
   "cell_type": "markdown",
   "metadata": {},
   "source": [
    "### 'x41'"
   ]
  },
  {
   "cell_type": "code",
   "execution_count": 14,
   "metadata": {},
   "outputs": [
    {
     "data": {
      "text/plain": [
       "0     124.72\n",
       "1    1273.04\n",
       "2   -1651.19\n",
       "3     896.05\n",
       "4   -1710.27\n",
       "Name: x41, dtype: float64"
      ]
     },
     "execution_count": 14,
     "metadata": {},
     "output_type": "execute_result"
    }
   ],
   "source": [
    "# convert x41 into numerical variable by removing the dollar sign\n",
    "test.x41 = test.x41.str.replace('$','').astype('float64')\n",
    "test.x41.head()"
   ]
  },
  {
   "cell_type": "code",
   "execution_count": 15,
   "metadata": {},
   "outputs": [
    {
     "data": {
      "image/png": "[encoded data removed]",
      "text/plain": [
       "<Figure size 432x288 with 1 Axes>"
      ]
     },
     "metadata": {
      "needs_background": "light"
     },
     "output_type": "display_data"
    },
    {
     "data": {
      "image/png": "[encoded data removed]",
      "text/plain": [
       "<Figure size 432x288 with 1 Axes>"
      ]
     },
     "metadata": {
      "needs_background": "light"
     },
     "output_type": "display_data"
    }
   ],
   "source": [
    "plt.subplot(121)\n",
    "test.x41.plot.box()\n",
    "plt.show()\n",
    "\n",
    "plt.subplot(122)\n",
    "test.x41.plot.hist()\n",
    "plt.show()"
   ]
  },
  {
   "cell_type": "code",
   "execution_count": 16,
   "metadata": {},
   "outputs": [
    {
     "data": {
      "text/plain": [
       "0"
      ]
     },
     "execution_count": 16,
     "metadata": {},
     "output_type": "execute_result"
    }
   ],
   "source": [
    "test.x41.isna().sum()"
   ]
  },
  {
   "cell_type": "markdown",
   "metadata": {},
   "source": [
    "### 'x45'"
   ]
  },
  {
   "cell_type": "code",
   "execution_count": 17,
   "metadata": {},
   "outputs": [
    {
     "data": {
      "text/plain": [
       "<matplotlib.axes._subplots.AxesSubplot at 0x2493a7c0780>"
      ]
     },
     "execution_count": 17,
     "metadata": {},
     "output_type": "execute_result"
    },
    {
     "data": {
      "image/png": "[encoded data removed]",
      "text/plain": [
       "<Figure size 432x288 with 1 Axes>"
      ]
     },
     "metadata": {
      "needs_background": "light"
     },
     "output_type": "display_data"
    }
   ],
   "source": [
    "test.x45.value_counts().plot.bar()"
   ]
  },
  {
   "cell_type": "code",
   "execution_count": 18,
   "metadata": {},
   "outputs": [
    {
     "data": {
      "text/plain": [
       "2"
      ]
     },
     "execution_count": 18,
     "metadata": {},
     "output_type": "execute_result"
    }
   ],
   "source": [
    "test.x45.isna().sum()"
   ]
  },
  {
   "cell_type": "markdown",
   "metadata": {},
   "source": [
    "### 'x68'"
   ]
  },
  {
   "cell_type": "code",
   "execution_count": 19,
   "metadata": {},
   "outputs": [
    {
     "data": {
      "text/plain": [
       "<matplotlib.axes._subplots.AxesSubplot at 0x2493a5550f0>"
      ]
     },
     "execution_count": 19,
     "metadata": {},
     "output_type": "execute_result"
    },
    {
     "data": {
      "image/png": "[encoded data removed]",
      "text/plain": [
       "<Figure size 432x288 with 1 Axes>"
      ]
     },
     "metadata": {
      "needs_background": "light"
     },
     "output_type": "display_data"
    }
   ],
   "source": [
    "test.x68.value_counts().plot.bar()"
   ]
  },
  {
   "cell_type": "code",
   "execution_count": 20,
   "metadata": {},
   "outputs": [
    {
     "data": {
      "text/plain": [
       "0"
      ]
     },
     "execution_count": 20,
     "metadata": {},
     "output_type": "execute_result"
    }
   ],
   "source": [
    "test.x68.isna().sum()"
   ]
  },
  {
   "cell_type": "markdown",
   "metadata": {},
   "source": [
    "### 'x93'"
   ]
  },
  {
   "cell_type": "code",
   "execution_count": 21,
   "metadata": {},
   "outputs": [
    {
     "data": {
      "text/plain": [
       "<matplotlib.axes._subplots.AxesSubplot at 0x2493c919cc0>"
      ]
     },
     "execution_count": 21,
     "metadata": {},
     "output_type": "execute_result"
    },
    {
     "data": {
      "image/png": "[encoded data removed]",
      "text/plain": [
       "<Figure size 432x288 with 1 Axes>"
      ]
     },
     "metadata": {
      "needs_background": "light"
     },
     "output_type": "display_data"
    }
   ],
   "source": [
    "test.x93.value_counts().plot.bar()"
   ]
  },
  {
   "cell_type": "code",
   "execution_count": 22,
   "metadata": {},
   "outputs": [
    {
     "data": {
      "text/plain": [
       "1"
      ]
     },
     "execution_count": 22,
     "metadata": {},
     "output_type": "execute_result"
    }
   ],
   "source": [
    "test.x93.isna().sum()"
   ]
  },
  {
   "cell_type": "markdown",
   "metadata": {},
   "source": [
    "### Dummy variables"
   ]
  },
  {
   "cell_type": "code",
   "execution_count": 23,
   "metadata": {
    "scrolled": true
   },
   "outputs": [
    {
     "data": {
      "text/html": [
       "<div>\n",
       "<style scoped>\n",
       "    .dataframe tbody tr th:only-of-type {\n",
       "        vertical-align: middle;\n",
       "    }\n",
       "\n",
       "    .dataframe tbody tr th {\n",
       "        vertical-align: top;\n",
       "    }\n",
       "\n",
       "    .dataframe thead th {\n",
       "        text-align: right;\n",
       "    }\n",
       "</style>\n",
       "<table border=\"1\" class=\"dataframe\">\n",
       "  <thead>\n",
       "    <tr style=\"text-align: right;\">\n",
       "      <th></th>\n",
       "      <th>x0</th>\n",
       "      <th>x1</th>\n",
       "      <th>x2</th>\n",
       "      <th>x3</th>\n",
       "      <th>x4</th>\n",
       "      <th>x5</th>\n",
       "      <th>x6</th>\n",
       "      <th>x7</th>\n",
       "      <th>x8</th>\n",
       "      <th>x9</th>\n",
       "      <th>...</th>\n",
       "      <th>x68_Mar</th>\n",
       "      <th>x68_May</th>\n",
       "      <th>x68_Nov</th>\n",
       "      <th>x68_Oct</th>\n",
       "      <th>x68_sept.</th>\n",
       "      <th>x68_nan</th>\n",
       "      <th>x93_america</th>\n",
       "      <th>x93_asia</th>\n",
       "      <th>x93_euorpe</th>\n",
       "      <th>x93_nan</th>\n",
       "    </tr>\n",
       "  </thead>\n",
       "  <tbody>\n",
       "    <tr>\n",
       "      <th>0</th>\n",
       "      <td>0.196063</td>\n",
       "      <td>3.683995</td>\n",
       "      <td>-3.265963</td>\n",
       "      <td>7.982156</td>\n",
       "      <td>-2.638979</td>\n",
       "      <td>-0.798760</td>\n",
       "      <td>-3.345929</td>\n",
       "      <td>1.266333</td>\n",
       "      <td>-9.689859</td>\n",
       "      <td>1.512794</td>\n",
       "      <td>...</td>\n",
       "      <td>0</td>\n",
       "      <td>0</td>\n",
       "      <td>0</td>\n",
       "      <td>0</td>\n",
       "      <td>0</td>\n",
       "      <td>0</td>\n",
       "      <td>0</td>\n",
       "      <td>1</td>\n",
       "      <td>0</td>\n",
       "      <td>0</td>\n",
       "    </tr>\n",
       "    <tr>\n",
       "      <th>1</th>\n",
       "      <td>23.155197</td>\n",
       "      <td>-9.226725</td>\n",
       "      <td>6.179996</td>\n",
       "      <td>-29.612592</td>\n",
       "      <td>-11.146301</td>\n",
       "      <td>-11.858857</td>\n",
       "      <td>-3.588747</td>\n",
       "      <td>-0.928037</td>\n",
       "      <td>-9.924414</td>\n",
       "      <td>0.932668</td>\n",
       "      <td>...</td>\n",
       "      <td>0</td>\n",
       "      <td>0</td>\n",
       "      <td>0</td>\n",
       "      <td>0</td>\n",
       "      <td>0</td>\n",
       "      <td>0</td>\n",
       "      <td>0</td>\n",
       "      <td>1</td>\n",
       "      <td>0</td>\n",
       "      <td>0</td>\n",
       "    </tr>\n",
       "    <tr>\n",
       "      <th>2</th>\n",
       "      <td>-13.969618</td>\n",
       "      <td>-0.343978</td>\n",
       "      <td>1.920740</td>\n",
       "      <td>-1.983859</td>\n",
       "      <td>-18.619658</td>\n",
       "      <td>-4.929527</td>\n",
       "      <td>-0.669704</td>\n",
       "      <td>1.906140</td>\n",
       "      <td>-17.125858</td>\n",
       "      <td>1.112156</td>\n",
       "      <td>...</td>\n",
       "      <td>0</td>\n",
       "      <td>0</td>\n",
       "      <td>0</td>\n",
       "      <td>0</td>\n",
       "      <td>0</td>\n",
       "      <td>0</td>\n",
       "      <td>0</td>\n",
       "      <td>1</td>\n",
       "      <td>0</td>\n",
       "      <td>0</td>\n",
       "    </tr>\n",
       "    <tr>\n",
       "      <th>3</th>\n",
       "      <td>49.722481</td>\n",
       "      <td>-1.500789</td>\n",
       "      <td>-1.564326</td>\n",
       "      <td>-8.113622</td>\n",
       "      <td>9.696716</td>\n",
       "      <td>-21.883567</td>\n",
       "      <td>-0.737723</td>\n",
       "      <td>4.043544</td>\n",
       "      <td>-11.514792</td>\n",
       "      <td>-1.797036</td>\n",
       "      <td>...</td>\n",
       "      <td>0</td>\n",
       "      <td>0</td>\n",
       "      <td>0</td>\n",
       "      <td>0</td>\n",
       "      <td>0</td>\n",
       "      <td>0</td>\n",
       "      <td>0</td>\n",
       "      <td>1</td>\n",
       "      <td>0</td>\n",
       "      <td>0</td>\n",
       "    </tr>\n",
       "    <tr>\n",
       "      <th>4</th>\n",
       "      <td>-13.494403</td>\n",
       "      <td>7.445215</td>\n",
       "      <td>-1.721518</td>\n",
       "      <td>49.111766</td>\n",
       "      <td>-14.566832</td>\n",
       "      <td>-8.327643</td>\n",
       "      <td>-1.031431</td>\n",
       "      <td>0.033500</td>\n",
       "      <td>20.977351</td>\n",
       "      <td>6.744525</td>\n",
       "      <td>...</td>\n",
       "      <td>0</td>\n",
       "      <td>1</td>\n",
       "      <td>0</td>\n",
       "      <td>0</td>\n",
       "      <td>0</td>\n",
       "      <td>0</td>\n",
       "      <td>0</td>\n",
       "      <td>1</td>\n",
       "      <td>0</td>\n",
       "      <td>0</td>\n",
       "    </tr>\n",
       "  </tbody>\n",
       "</table>\n",
       "<p>5 rows × 140 columns</p>\n",
       "</div>"
      ],
      "text/plain": [
       "          x0        x1        x2         x3         x4         x5        x6  \\\n",
       "0   0.196063  3.683995 -3.265963   7.982156  -2.638979  -0.798760 -3.345929   \n",
       "1  23.155197 -9.226725  6.179996 -29.612592 -11.146301 -11.858857 -3.588747   \n",
       "2 -13.969618 -0.343978  1.920740  -1.983859 -18.619658  -4.929527 -0.669704   \n",
       "3  49.722481 -1.500789 -1.564326  -8.113622   9.696716 -21.883567 -0.737723   \n",
       "4 -13.494403  7.445215 -1.721518  49.111766 -14.566832  -8.327643 -1.031431   \n",
       "\n",
       "         x7         x8        x9   ...     x68_Mar  x68_May  x68_Nov  x68_Oct  \\\n",
       "0  1.266333  -9.689859  1.512794   ...           0        0        0        0   \n",
       "1 -0.928037  -9.924414  0.932668   ...           0        0        0        0   \n",
       "2  1.906140 -17.125858  1.112156   ...           0        0        0        0   \n",
       "3  4.043544 -11.514792 -1.797036   ...           0        0        0        0   \n",
       "4  0.033500  20.977351  6.744525   ...           0        1        0        0   \n",
       "\n",
       "   x68_sept.  x68_nan  x93_america  x93_asia  x93_euorpe  x93_nan  \n",
       "0          0        0            0         1           0        0  \n",
       "1          0        0            0         1           0        0  \n",
       "2          0        0            0         1           0        0  \n",
       "3          0        0            0         1           0        0  \n",
       "4          0        0            0         1           0        0  \n",
       "\n",
       "[5 rows x 140 columns]"
      ]
     },
     "execution_count": 23,
     "metadata": {},
     "output_type": "execute_result"
    }
   ],
   "source": [
    "df = pd.get_dummies(test,columns=['x34','x35','x45','x68','x93'],dummy_na=True)\n",
    "df.head()"
   ]
  },
  {
   "cell_type": "code",
   "execution_count": 24,
   "metadata": {},
   "outputs": [
    {
     "name": "stdout",
     "output_type": "stream",
     "text": [
      "<class 'pandas.core.frame.DataFrame'>\n",
      "RangeIndex: 10000 entries, 0 to 9999\n",
      "Columns: 140 entries, x0 to x93_nan\n",
      "dtypes: float64(95), uint8(45)\n",
      "memory usage: 7.7 MB\n"
     ]
    }
   ],
   "source": [
    "df.info()"
   ]
  },
  {
   "cell_type": "code",
   "execution_count": 25,
   "metadata": {},
   "outputs": [
    {
     "data": {
      "text/html": [
       "<div>\n",
       "<style scoped>\n",
       "    .dataframe tbody tr th:only-of-type {\n",
       "        vertical-align: middle;\n",
       "    }\n",
       "\n",
       "    .dataframe tbody tr th {\n",
       "        vertical-align: top;\n",
       "    }\n",
       "\n",
       "    .dataframe thead th {\n",
       "        text-align: right;\n",
       "    }\n",
       "</style>\n",
       "<table border=\"1\" class=\"dataframe\">\n",
       "  <thead>\n",
       "    <tr style=\"text-align: right;\">\n",
       "      <th></th>\n",
       "      <th>x0</th>\n",
       "      <th>x1</th>\n",
       "      <th>x2</th>\n",
       "      <th>x3</th>\n",
       "      <th>x4</th>\n",
       "      <th>x5</th>\n",
       "      <th>x6</th>\n",
       "      <th>x7</th>\n",
       "      <th>x8</th>\n",
       "      <th>x9</th>\n",
       "      <th>...</th>\n",
       "      <th>x68_Mar</th>\n",
       "      <th>x68_May</th>\n",
       "      <th>x68_Nov</th>\n",
       "      <th>x68_Oct</th>\n",
       "      <th>x68_sept.</th>\n",
       "      <th>x68_nan</th>\n",
       "      <th>x93_america</th>\n",
       "      <th>x93_asia</th>\n",
       "      <th>x93_euorpe</th>\n",
       "      <th>x93_nan</th>\n",
       "    </tr>\n",
       "  </thead>\n",
       "  <tbody>\n",
       "    <tr>\n",
       "      <th>0</th>\n",
       "      <td>0.196063</td>\n",
       "      <td>3.683995</td>\n",
       "      <td>-3.265963</td>\n",
       "      <td>7.982156</td>\n",
       "      <td>-2.638979</td>\n",
       "      <td>-0.798760</td>\n",
       "      <td>-3.345929</td>\n",
       "      <td>1.266333</td>\n",
       "      <td>-9.689859</td>\n",
       "      <td>1.512794</td>\n",
       "      <td>...</td>\n",
       "      <td>0</td>\n",
       "      <td>0</td>\n",
       "      <td>0</td>\n",
       "      <td>0</td>\n",
       "      <td>0</td>\n",
       "      <td>0</td>\n",
       "      <td>0</td>\n",
       "      <td>1</td>\n",
       "      <td>0</td>\n",
       "      <td>0</td>\n",
       "    </tr>\n",
       "    <tr>\n",
       "      <th>1</th>\n",
       "      <td>23.155197</td>\n",
       "      <td>-9.226725</td>\n",
       "      <td>6.179996</td>\n",
       "      <td>-29.612592</td>\n",
       "      <td>-11.146301</td>\n",
       "      <td>-11.858857</td>\n",
       "      <td>-3.588747</td>\n",
       "      <td>-0.928037</td>\n",
       "      <td>-9.924414</td>\n",
       "      <td>0.932668</td>\n",
       "      <td>...</td>\n",
       "      <td>0</td>\n",
       "      <td>0</td>\n",
       "      <td>0</td>\n",
       "      <td>0</td>\n",
       "      <td>0</td>\n",
       "      <td>0</td>\n",
       "      <td>0</td>\n",
       "      <td>1</td>\n",
       "      <td>0</td>\n",
       "      <td>0</td>\n",
       "    </tr>\n",
       "    <tr>\n",
       "      <th>2</th>\n",
       "      <td>-13.969618</td>\n",
       "      <td>-0.343978</td>\n",
       "      <td>1.920740</td>\n",
       "      <td>-1.983859</td>\n",
       "      <td>-18.619658</td>\n",
       "      <td>-4.929527</td>\n",
       "      <td>-0.669704</td>\n",
       "      <td>1.906140</td>\n",
       "      <td>-17.125858</td>\n",
       "      <td>1.112156</td>\n",
       "      <td>...</td>\n",
       "      <td>0</td>\n",
       "      <td>0</td>\n",
       "      <td>0</td>\n",
       "      <td>0</td>\n",
       "      <td>0</td>\n",
       "      <td>0</td>\n",
       "      <td>0</td>\n",
       "      <td>1</td>\n",
       "      <td>0</td>\n",
       "      <td>0</td>\n",
       "    </tr>\n",
       "    <tr>\n",
       "      <th>3</th>\n",
       "      <td>49.722481</td>\n",
       "      <td>-1.500789</td>\n",
       "      <td>-1.564326</td>\n",
       "      <td>-8.113622</td>\n",
       "      <td>9.696716</td>\n",
       "      <td>-21.883567</td>\n",
       "      <td>-0.737723</td>\n",
       "      <td>4.043544</td>\n",
       "      <td>-11.514792</td>\n",
       "      <td>-1.797036</td>\n",
       "      <td>...</td>\n",
       "      <td>0</td>\n",
       "      <td>0</td>\n",
       "      <td>0</td>\n",
       "      <td>0</td>\n",
       "      <td>0</td>\n",
       "      <td>0</td>\n",
       "      <td>0</td>\n",
       "      <td>1</td>\n",
       "      <td>0</td>\n",
       "      <td>0</td>\n",
       "    </tr>\n",
       "    <tr>\n",
       "      <th>4</th>\n",
       "      <td>-13.494403</td>\n",
       "      <td>7.445215</td>\n",
       "      <td>-1.721518</td>\n",
       "      <td>49.111766</td>\n",
       "      <td>-14.566832</td>\n",
       "      <td>-8.327643</td>\n",
       "      <td>-1.031431</td>\n",
       "      <td>0.033500</td>\n",
       "      <td>20.977351</td>\n",
       "      <td>6.744525</td>\n",
       "      <td>...</td>\n",
       "      <td>0</td>\n",
       "      <td>1</td>\n",
       "      <td>0</td>\n",
       "      <td>0</td>\n",
       "      <td>0</td>\n",
       "      <td>0</td>\n",
       "      <td>0</td>\n",
       "      <td>1</td>\n",
       "      <td>0</td>\n",
       "      <td>0</td>\n",
       "    </tr>\n",
       "  </tbody>\n",
       "</table>\n",
       "<p>5 rows × 140 columns</p>\n",
       "</div>"
      ],
      "text/plain": [
       "          x0        x1        x2         x3         x4         x5        x6  \\\n",
       "0   0.196063  3.683995 -3.265963   7.982156  -2.638979  -0.798760 -3.345929   \n",
       "1  23.155197 -9.226725  6.179996 -29.612592 -11.146301 -11.858857 -3.588747   \n",
       "2 -13.969618 -0.343978  1.920740  -1.983859 -18.619658  -4.929527 -0.669704   \n",
       "3  49.722481 -1.500789 -1.564326  -8.113622   9.696716 -21.883567 -0.737723   \n",
       "4 -13.494403  7.445215 -1.721518  49.111766 -14.566832  -8.327643 -1.031431   \n",
       "\n",
       "         x7         x8        x9   ...     x68_Mar  x68_May  x68_Nov  x68_Oct  \\\n",
       "0  1.266333  -9.689859  1.512794   ...           0        0        0        0   \n",
       "1 -0.928037  -9.924414  0.932668   ...           0        0        0        0   \n",
       "2  1.906140 -17.125858  1.112156   ...           0        0        0        0   \n",
       "3  4.043544 -11.514792 -1.797036   ...           0        0        0        0   \n",
       "4  0.033500  20.977351  6.744525   ...           0        1        0        0   \n",
       "\n",
       "   x68_sept.  x68_nan  x93_america  x93_asia  x93_euorpe  x93_nan  \n",
       "0          0        0            0         1           0        0  \n",
       "1          0        0            0         1           0        0  \n",
       "2          0        0            0         1           0        0  \n",
       "3          0        0            0         1           0        0  \n",
       "4          0        0            0         1           0        0  \n",
       "\n",
       "[5 rows x 140 columns]"
      ]
     },
     "execution_count": 25,
     "metadata": {},
     "output_type": "execute_result"
    }
   ],
   "source": [
    "df.head()"
   ]
  },
  {
   "cell_type": "code",
   "execution_count": 26,
   "metadata": {},
   "outputs": [],
   "source": [
    "# save test_set for prediction\n",
    "df.to_csv('test_set.csv',index=False)"
   ]
  }
 ],
 "metadata": {
  "kernelspec": {
   "display_name": "Python 3",
   "language": "python",
   "name": "python3"
  },
  "language_info": {
   "codemirror_mode": {
    "name": "ipython",
    "version": 3
   },
   "file_extension": ".py",
   "mimetype": "text/x-python",
   "name": "python",
   "nbconvert_exporter": "python",
   "pygments_lexer": "ipython3",
   "version": "3.7.1"
  }
 },
 "nbformat": 4,
 "nbformat_minor": 2
}
