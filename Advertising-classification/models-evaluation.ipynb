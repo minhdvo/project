{
 "cells": [
  {
   "cell_type": "code",
   "execution_count": 1,
   "metadata": {},
   "outputs": [],
   "source": [
    "import pandas as pd\n",
    "import numpy as np\n",
    "\n",
    "import matplotlib.pyplot as plt\n",
    "%matplotlib inline"
   ]
  },
  {
   "cell_type": "code",
   "execution_count": 2,
   "metadata": {},
   "outputs": [],
   "source": [
    "import warnings\n",
    "warnings.filterwarnings('ignore')"
   ]
  },
  {
   "cell_type": "markdown",
   "metadata": {},
   "source": [
    "### Load data"
   ]
  },
  {
   "cell_type": "code",
   "execution_count": 3,
   "metadata": {},
   "outputs": [
    {
     "data": {
      "text/plain": [
       "'CPL_wrt_BC,\\nclient_state,\\nduration,\\nnum_prods,\\ncalls,\\nCPL_wrt_self,\\nchurn,\\navg_budget,\\nBC,\\nclicks,\\n'"
      ]
     },
     "execution_count": 3,
     "metadata": {},
     "output_type": "execute_result"
    }
   ],
   "source": [
    "header_file = open('assets/header.txt','r')\n",
    "text = header_file.read()\n",
    "text"
   ]
  },
  {
   "cell_type": "code",
   "execution_count": 4,
   "metadata": {},
   "outputs": [
    {
     "data": {
      "text/plain": [
       "['CPL_wrt_BC',\n",
       " 'client_state',\n",
       " 'duration',\n",
       " 'num_prods',\n",
       " 'calls',\n",
       " 'CPL_wrt_self',\n",
       " 'churn',\n",
       " 'avg_budget',\n",
       " 'BC',\n",
       " 'clicks']"
      ]
     },
     "execution_count": 4,
     "metadata": {},
     "output_type": "execute_result"
    }
   ],
   "source": [
    "header = text.split(',\\n')[:-1]\n",
    "header"
   ]
  },
  {
   "cell_type": "code",
   "execution_count": 5,
   "metadata": {},
   "outputs": [
    {
     "data": {
      "text/html": [
       "<div>\n",
       "<style scoped>\n",
       "    .dataframe tbody tr th:only-of-type {\n",
       "        vertical-align: middle;\n",
       "    }\n",
       "\n",
       "    .dataframe tbody tr th {\n",
       "        vertical-align: top;\n",
       "    }\n",
       "\n",
       "    .dataframe thead th {\n",
       "        text-align: right;\n",
       "    }\n",
       "</style>\n",
       "<table border=\"1\" class=\"dataframe\">\n",
       "  <thead>\n",
       "    <tr style=\"text-align: right;\">\n",
       "      <th></th>\n",
       "      <th>CPL_wrt_BC</th>\n",
       "      <th>client_state</th>\n",
       "      <th>duration</th>\n",
       "      <th>num_prods</th>\n",
       "      <th>calls</th>\n",
       "      <th>CPL_wrt_self</th>\n",
       "      <th>churn</th>\n",
       "      <th>avg_budget</th>\n",
       "      <th>BC</th>\n",
       "      <th>clicks</th>\n",
       "    </tr>\n",
       "  </thead>\n",
       "  <tbody>\n",
       "    <tr>\n",
       "      <th>0</th>\n",
       "      <td>0.000000</td>\n",
       "      <td>AZ</td>\n",
       "      <td>73</td>\n",
       "      <td>6</td>\n",
       "      <td>2</td>\n",
       "      <td>NaN</td>\n",
       "      <td>1</td>\n",
       "      <td>10082.152554</td>\n",
       "      <td>Beauty &amp; Personal Care</td>\n",
       "      <td>107</td>\n",
       "    </tr>\n",
       "    <tr>\n",
       "      <th>1</th>\n",
       "      <td>-0.623618</td>\n",
       "      <td>CA</td>\n",
       "      <td>1</td>\n",
       "      <td>1</td>\n",
       "      <td>3</td>\n",
       "      <td>0.000000</td>\n",
       "      <td>0</td>\n",
       "      <td>133.928571</td>\n",
       "      <td>Shopping, Collectibles &amp; Gifts (General)</td>\n",
       "      <td>79</td>\n",
       "    </tr>\n",
       "    <tr>\n",
       "      <th>2</th>\n",
       "      <td>0.007905</td>\n",
       "      <td>NY</td>\n",
       "      <td>102</td>\n",
       "      <td>2</td>\n",
       "      <td>8</td>\n",
       "      <td>-0.292008</td>\n",
       "      <td>0</td>\n",
       "      <td>3935.017462</td>\n",
       "      <td>Personal Services (Weddings, Cleaners, etc.)</td>\n",
       "      <td>90</td>\n",
       "    </tr>\n",
       "    <tr>\n",
       "      <th>3</th>\n",
       "      <td>-0.104900</td>\n",
       "      <td>MN</td>\n",
       "      <td>6</td>\n",
       "      <td>1</td>\n",
       "      <td>5</td>\n",
       "      <td>0.587206</td>\n",
       "      <td>0</td>\n",
       "      <td>461.538462</td>\n",
       "      <td>Travel</td>\n",
       "      <td>112</td>\n",
       "    </tr>\n",
       "    <tr>\n",
       "      <th>4</th>\n",
       "      <td>-0.013057</td>\n",
       "      <td>NJ</td>\n",
       "      <td>34</td>\n",
       "      <td>1</td>\n",
       "      <td>6</td>\n",
       "      <td>-0.955335</td>\n",
       "      <td>1</td>\n",
       "      <td>314.705882</td>\n",
       "      <td>Health &amp; Fitness</td>\n",
       "      <td>95</td>\n",
       "    </tr>\n",
       "  </tbody>\n",
       "</table>\n",
       "</div>"
      ],
      "text/plain": [
       "   CPL_wrt_BC client_state  duration  num_prods  calls  CPL_wrt_self  churn  \\\n",
       "0    0.000000           AZ        73          6      2           NaN      1   \n",
       "1   -0.623618           CA         1          1      3      0.000000      0   \n",
       "2    0.007905           NY       102          2      8     -0.292008      0   \n",
       "3   -0.104900           MN         6          1      5      0.587206      0   \n",
       "4   -0.013057           NJ        34          1      6     -0.955335      1   \n",
       "\n",
       "     avg_budget                                            BC  clicks  \n",
       "0  10082.152554                        Beauty & Personal Care     107  \n",
       "1    133.928571      Shopping, Collectibles & Gifts (General)      79  \n",
       "2   3935.017462  Personal Services (Weddings, Cleaners, etc.)      90  \n",
       "3    461.538462                                        Travel     112  \n",
       "4    314.705882                              Health & Fitness      95  "
      ]
     },
     "execution_count": 5,
     "metadata": {},
     "output_type": "execute_result"
    }
   ],
   "source": [
    "# load data\n",
    "df = pd.read_csv('assets/data.csv',names=header)\n",
    "df.head()"
   ]
  },
  {
   "cell_type": "code",
   "execution_count": 6,
   "metadata": {
    "scrolled": true
   },
   "outputs": [
    {
     "name": "stdout",
     "output_type": "stream",
     "text": [
      "<class 'pandas.core.frame.DataFrame'>\n",
      "RangeIndex: 10000 entries, 0 to 9999\n",
      "Data columns (total 10 columns):\n",
      "CPL_wrt_BC      10000 non-null float64\n",
      "client_state    10000 non-null object\n",
      "duration        10000 non-null int64\n",
      "num_prods       10000 non-null int64\n",
      "calls           10000 non-null int64\n",
      "CPL_wrt_self    8908 non-null float64\n",
      "churn           10000 non-null int64\n",
      "avg_budget      10000 non-null float64\n",
      "BC              10000 non-null object\n",
      "clicks          10000 non-null int64\n",
      "dtypes: float64(3), int64(5), object(2)\n",
      "memory usage: 781.3+ KB\n"
     ]
    }
   ],
   "source": [
    "df.info()"
   ]
  },
  {
   "cell_type": "markdown",
   "metadata": {},
   "source": [
    "### Data wrangling"
   ]
  },
  {
   "cell_type": "code",
   "execution_count": 7,
   "metadata": {},
   "outputs": [
    {
     "name": "stdout",
     "output_type": "stream",
     "text": [
      "<class 'pandas.core.frame.DataFrame'>\n",
      "RangeIndex: 10000 entries, 0 to 9999\n",
      "Data columns (total 10 columns):\n",
      "CPL_wrt_BC      10000 non-null float64\n",
      "client_state    10000 non-null object\n",
      "duration        10000 non-null int64\n",
      "num_prods       10000 non-null int64\n",
      "calls           10000 non-null int64\n",
      "CPL_wrt_self    10000 non-null float64\n",
      "churn           10000 non-null int64\n",
      "avg_budget      10000 non-null float64\n",
      "BC              10000 non-null object\n",
      "clicks          10000 non-null int64\n",
      "dtypes: float64(3), int64(5), object(2)\n",
      "memory usage: 781.3+ KB\n"
     ]
    }
   ],
   "source": [
    "# fill missing data\n",
    "df = df.fillna(value=0)\n",
    "df.info()"
   ]
  },
  {
   "cell_type": "code",
   "execution_count": 8,
   "metadata": {},
   "outputs": [
    {
     "data": {
      "text/html": [
       "<div>\n",
       "<style scoped>\n",
       "    .dataframe tbody tr th:only-of-type {\n",
       "        vertical-align: middle;\n",
       "    }\n",
       "\n",
       "    .dataframe tbody tr th {\n",
       "        vertical-align: top;\n",
       "    }\n",
       "\n",
       "    .dataframe thead th {\n",
       "        text-align: right;\n",
       "    }\n",
       "</style>\n",
       "<table border=\"1\" class=\"dataframe\">\n",
       "  <thead>\n",
       "    <tr style=\"text-align: right;\">\n",
       "      <th></th>\n",
       "      <th>CPL_wrt_BC</th>\n",
       "      <th>client_state</th>\n",
       "      <th>duration</th>\n",
       "      <th>num_prods</th>\n",
       "      <th>calls</th>\n",
       "      <th>CPL_wrt_self</th>\n",
       "      <th>churn</th>\n",
       "      <th>avg_budget</th>\n",
       "      <th>BC</th>\n",
       "      <th>clicks</th>\n",
       "    </tr>\n",
       "  </thead>\n",
       "  <tbody>\n",
       "    <tr>\n",
       "      <th>0</th>\n",
       "      <td>0.000000</td>\n",
       "      <td>AZ</td>\n",
       "      <td>73</td>\n",
       "      <td>6</td>\n",
       "      <td>2</td>\n",
       "      <td>0.000000</td>\n",
       "      <td>1</td>\n",
       "      <td>10082.152554</td>\n",
       "      <td>Beauty &amp; Personal Care</td>\n",
       "      <td>107</td>\n",
       "    </tr>\n",
       "    <tr>\n",
       "      <th>1</th>\n",
       "      <td>-0.623618</td>\n",
       "      <td>CA</td>\n",
       "      <td>1</td>\n",
       "      <td>1</td>\n",
       "      <td>3</td>\n",
       "      <td>0.000000</td>\n",
       "      <td>0</td>\n",
       "      <td>133.928571</td>\n",
       "      <td>Shopping, Collectibles &amp; Gifts (General)</td>\n",
       "      <td>79</td>\n",
       "    </tr>\n",
       "    <tr>\n",
       "      <th>2</th>\n",
       "      <td>0.007905</td>\n",
       "      <td>NY</td>\n",
       "      <td>102</td>\n",
       "      <td>2</td>\n",
       "      <td>8</td>\n",
       "      <td>-0.292008</td>\n",
       "      <td>0</td>\n",
       "      <td>3935.017462</td>\n",
       "      <td>Personal Services (Weddings, Cleaners, etc.)</td>\n",
       "      <td>90</td>\n",
       "    </tr>\n",
       "    <tr>\n",
       "      <th>3</th>\n",
       "      <td>-0.104900</td>\n",
       "      <td>MN</td>\n",
       "      <td>6</td>\n",
       "      <td>1</td>\n",
       "      <td>5</td>\n",
       "      <td>0.587206</td>\n",
       "      <td>0</td>\n",
       "      <td>461.538462</td>\n",
       "      <td>Travel</td>\n",
       "      <td>112</td>\n",
       "    </tr>\n",
       "    <tr>\n",
       "      <th>4</th>\n",
       "      <td>-0.013057</td>\n",
       "      <td>NJ</td>\n",
       "      <td>34</td>\n",
       "      <td>1</td>\n",
       "      <td>6</td>\n",
       "      <td>-0.955335</td>\n",
       "      <td>1</td>\n",
       "      <td>314.705882</td>\n",
       "      <td>Health &amp; Fitness</td>\n",
       "      <td>95</td>\n",
       "    </tr>\n",
       "  </tbody>\n",
       "</table>\n",
       "</div>"
      ],
      "text/plain": [
       "   CPL_wrt_BC client_state  duration  num_prods  calls  CPL_wrt_self  churn  \\\n",
       "0    0.000000           AZ        73          6      2      0.000000      1   \n",
       "1   -0.623618           CA         1          1      3      0.000000      0   \n",
       "2    0.007905           NY       102          2      8     -0.292008      0   \n",
       "3   -0.104900           MN         6          1      5      0.587206      0   \n",
       "4   -0.013057           NJ        34          1      6     -0.955335      1   \n",
       "\n",
       "     avg_budget                                            BC  clicks  \n",
       "0  10082.152554                        Beauty & Personal Care     107  \n",
       "1    133.928571      Shopping, Collectibles & Gifts (General)      79  \n",
       "2   3935.017462  Personal Services (Weddings, Cleaners, etc.)      90  \n",
       "3    461.538462                                        Travel     112  \n",
       "4    314.705882                              Health & Fitness      95  "
      ]
     },
     "execution_count": 8,
     "metadata": {},
     "output_type": "execute_result"
    }
   ],
   "source": [
    "data = df\n",
    "data.head()"
   ]
  },
  {
   "cell_type": "code",
   "execution_count": 9,
   "metadata": {},
   "outputs": [
    {
     "data": {
      "text/plain": [
       "CA    1745\n",
       "TX     895\n",
       "FL     746\n",
       "NY     658\n",
       "PA     564\n",
       "IL     546\n",
       "MD     380\n",
       "GA     345\n",
       "NJ     343\n",
       "WA     315\n",
       "VA     314\n",
       "MA     299\n",
       "OH     288\n",
       "CO     278\n",
       "AZ     278\n",
       "MO     185\n",
       "NC     183\n",
       "OR     144\n",
       "MN     137\n",
       "IN     128\n",
       "MI     110\n",
       "TN      96\n",
       "WI      90\n",
       "LA      84\n",
       "NV      66\n",
       "SC      63\n",
       "CT      54\n",
       "ME      54\n",
       "NH      53\n",
       "UT      52\n",
       "KS      51\n",
       "AL      47\n",
       "DC      42\n",
       "RI      41\n",
       "IA      40\n",
       "MS      38\n",
       "OK      36\n",
       "KY      34\n",
       "NE      29\n",
       "DE      27\n",
       "ID      23\n",
       "HI      18\n",
       "AR      18\n",
       "SD      15\n",
       "AK      10\n",
       "MT      10\n",
       "NM      10\n",
       "VT       8\n",
       "ND       6\n",
       "WV       3\n",
       "WY       1\n",
       "Name: client_state, dtype: int64"
      ]
     },
     "execution_count": 9,
     "metadata": {},
     "output_type": "execute_result"
    }
   ],
   "source": [
    "# all locations \n",
    "state = data['client_state'].value_counts()\n",
    "state"
   ]
  },
  {
   "cell_type": "code",
   "execution_count": 10,
   "metadata": {},
   "outputs": [
    {
     "data": {
      "text/plain": [
       "Index(['TN', 'WI', 'LA', 'NV', 'SC', 'CT', 'ME', 'NH', 'UT', 'KS', 'AL', 'DC',\n",
       "       'RI', 'IA', 'MS', 'OK', 'KY', 'NE', 'DE', 'ID', 'HI', 'AR', 'SD', 'AK',\n",
       "       'MT', 'NM', 'VT', 'ND', 'WV', 'WY'],\n",
       "      dtype='object')"
      ]
     },
     "execution_count": 10,
     "metadata": {},
     "output_type": "execute_result"
    }
   ],
   "source": [
    "# all state with small number of clients can be considered into one group\n",
    "small_state = state[state<100].index\n",
    "small_state"
   ]
  },
  {
   "cell_type": "code",
   "execution_count": 11,
   "metadata": {},
   "outputs": [
    {
     "data": {
      "text/html": [
       "<div>\n",
       "<style scoped>\n",
       "    .dataframe tbody tr th:only-of-type {\n",
       "        vertical-align: middle;\n",
       "    }\n",
       "\n",
       "    .dataframe tbody tr th {\n",
       "        vertical-align: top;\n",
       "    }\n",
       "\n",
       "    .dataframe thead th {\n",
       "        text-align: right;\n",
       "    }\n",
       "</style>\n",
       "<table border=\"1\" class=\"dataframe\">\n",
       "  <thead>\n",
       "    <tr style=\"text-align: right;\">\n",
       "      <th></th>\n",
       "      <th>CPL_wrt_BC</th>\n",
       "      <th>client_state</th>\n",
       "      <th>duration</th>\n",
       "      <th>num_prods</th>\n",
       "      <th>calls</th>\n",
       "      <th>CPL_wrt_self</th>\n",
       "      <th>churn</th>\n",
       "      <th>avg_budget</th>\n",
       "      <th>BC</th>\n",
       "      <th>clicks</th>\n",
       "    </tr>\n",
       "  </thead>\n",
       "  <tbody>\n",
       "    <tr>\n",
       "      <th>0</th>\n",
       "      <td>0.000000</td>\n",
       "      <td>AZ</td>\n",
       "      <td>73</td>\n",
       "      <td>6</td>\n",
       "      <td>2</td>\n",
       "      <td>0.000000</td>\n",
       "      <td>1</td>\n",
       "      <td>10082.152554</td>\n",
       "      <td>Beauty &amp; Personal Care</td>\n",
       "      <td>107</td>\n",
       "    </tr>\n",
       "    <tr>\n",
       "      <th>1</th>\n",
       "      <td>-0.623618</td>\n",
       "      <td>CA</td>\n",
       "      <td>1</td>\n",
       "      <td>1</td>\n",
       "      <td>3</td>\n",
       "      <td>0.000000</td>\n",
       "      <td>0</td>\n",
       "      <td>133.928571</td>\n",
       "      <td>Shopping, Collectibles &amp; Gifts (General)</td>\n",
       "      <td>79</td>\n",
       "    </tr>\n",
       "    <tr>\n",
       "      <th>2</th>\n",
       "      <td>0.007905</td>\n",
       "      <td>NY</td>\n",
       "      <td>102</td>\n",
       "      <td>2</td>\n",
       "      <td>8</td>\n",
       "      <td>-0.292008</td>\n",
       "      <td>0</td>\n",
       "      <td>3935.017462</td>\n",
       "      <td>Personal Services (Weddings, Cleaners, etc.)</td>\n",
       "      <td>90</td>\n",
       "    </tr>\n",
       "    <tr>\n",
       "      <th>3</th>\n",
       "      <td>-0.104900</td>\n",
       "      <td>MN</td>\n",
       "      <td>6</td>\n",
       "      <td>1</td>\n",
       "      <td>5</td>\n",
       "      <td>0.587206</td>\n",
       "      <td>0</td>\n",
       "      <td>461.538462</td>\n",
       "      <td>Travel</td>\n",
       "      <td>112</td>\n",
       "    </tr>\n",
       "    <tr>\n",
       "      <th>4</th>\n",
       "      <td>-0.013057</td>\n",
       "      <td>NJ</td>\n",
       "      <td>34</td>\n",
       "      <td>1</td>\n",
       "      <td>6</td>\n",
       "      <td>-0.955335</td>\n",
       "      <td>1</td>\n",
       "      <td>314.705882</td>\n",
       "      <td>Health &amp; Fitness</td>\n",
       "      <td>95</td>\n",
       "    </tr>\n",
       "  </tbody>\n",
       "</table>\n",
       "</div>"
      ],
      "text/plain": [
       "   CPL_wrt_BC client_state  duration  num_prods  calls  CPL_wrt_self  churn  \\\n",
       "0    0.000000           AZ        73          6      2      0.000000      1   \n",
       "1   -0.623618           CA         1          1      3      0.000000      0   \n",
       "2    0.007905           NY       102          2      8     -0.292008      0   \n",
       "3   -0.104900           MN         6          1      5      0.587206      0   \n",
       "4   -0.013057           NJ        34          1      6     -0.955335      1   \n",
       "\n",
       "     avg_budget                                            BC  clicks  \n",
       "0  10082.152554                        Beauty & Personal Care     107  \n",
       "1    133.928571      Shopping, Collectibles & Gifts (General)      79  \n",
       "2   3935.017462  Personal Services (Weddings, Cleaners, etc.)      90  \n",
       "3    461.538462                                        Travel     112  \n",
       "4    314.705882                              Health & Fitness      95  "
      ]
     },
     "execution_count": 11,
     "metadata": {},
     "output_type": "execute_result"
    }
   ],
   "source": [
    "# replace small_state with value of 'Other_states'\n",
    "data['client_state'] = data['client_state'].replace(small_state,'Other_states')\n",
    "data.head()"
   ]
  },
  {
   "cell_type": "code",
   "execution_count": null,
   "metadata": {},
   "outputs": [],
   "source": []
  },
  {
   "cell_type": "code",
   "execution_count": 12,
   "metadata": {},
   "outputs": [
    {
     "data": {
      "text/html": [
       "<div>\n",
       "<style scoped>\n",
       "    .dataframe tbody tr th:only-of-type {\n",
       "        vertical-align: middle;\n",
       "    }\n",
       "\n",
       "    .dataframe tbody tr th {\n",
       "        vertical-align: top;\n",
       "    }\n",
       "\n",
       "    .dataframe thead th {\n",
       "        text-align: right;\n",
       "    }\n",
       "</style>\n",
       "<table border=\"1\" class=\"dataframe\">\n",
       "  <thead>\n",
       "    <tr style=\"text-align: right;\">\n",
       "      <th></th>\n",
       "      <th>CPL_wrt_BC</th>\n",
       "      <th>duration</th>\n",
       "      <th>num_prods</th>\n",
       "      <th>calls</th>\n",
       "      <th>CPL_wrt_self</th>\n",
       "      <th>churn</th>\n",
       "      <th>avg_budget</th>\n",
       "      <th>clicks</th>\n",
       "      <th>client_state_AZ</th>\n",
       "      <th>client_state_CA</th>\n",
       "      <th>...</th>\n",
       "      <th>BC_Industrial &amp; Commercial</th>\n",
       "      <th>BC_Personal Services (Weddings, Cleaners, etc.)</th>\n",
       "      <th>BC_Physicians &amp; Surgeons</th>\n",
       "      <th>BC_Real Estate</th>\n",
       "      <th>BC_Religion &amp; Spirituality</th>\n",
       "      <th>BC_Restaurants &amp; Food</th>\n",
       "      <th>BC_Shopping, Collectibles &amp; Gifts (General)</th>\n",
       "      <th>BC_Sports &amp; Recreation</th>\n",
       "      <th>BC_Toys &amp; Hobbies</th>\n",
       "      <th>BC_Travel</th>\n",
       "    </tr>\n",
       "  </thead>\n",
       "  <tbody>\n",
       "    <tr>\n",
       "      <th>0</th>\n",
       "      <td>0.000000</td>\n",
       "      <td>73</td>\n",
       "      <td>6</td>\n",
       "      <td>2</td>\n",
       "      <td>0.000000</td>\n",
       "      <td>1</td>\n",
       "      <td>10082.152554</td>\n",
       "      <td>107</td>\n",
       "      <td>1</td>\n",
       "      <td>0</td>\n",
       "      <td>...</td>\n",
       "      <td>0</td>\n",
       "      <td>0</td>\n",
       "      <td>0</td>\n",
       "      <td>0</td>\n",
       "      <td>0</td>\n",
       "      <td>0</td>\n",
       "      <td>0</td>\n",
       "      <td>0</td>\n",
       "      <td>0</td>\n",
       "      <td>0</td>\n",
       "    </tr>\n",
       "    <tr>\n",
       "      <th>1</th>\n",
       "      <td>-0.623618</td>\n",
       "      <td>1</td>\n",
       "      <td>1</td>\n",
       "      <td>3</td>\n",
       "      <td>0.000000</td>\n",
       "      <td>0</td>\n",
       "      <td>133.928571</td>\n",
       "      <td>79</td>\n",
       "      <td>0</td>\n",
       "      <td>1</td>\n",
       "      <td>...</td>\n",
       "      <td>0</td>\n",
       "      <td>0</td>\n",
       "      <td>0</td>\n",
       "      <td>0</td>\n",
       "      <td>0</td>\n",
       "      <td>0</td>\n",
       "      <td>1</td>\n",
       "      <td>0</td>\n",
       "      <td>0</td>\n",
       "      <td>0</td>\n",
       "    </tr>\n",
       "    <tr>\n",
       "      <th>2</th>\n",
       "      <td>0.007905</td>\n",
       "      <td>102</td>\n",
       "      <td>2</td>\n",
       "      <td>8</td>\n",
       "      <td>-0.292008</td>\n",
       "      <td>0</td>\n",
       "      <td>3935.017462</td>\n",
       "      <td>90</td>\n",
       "      <td>0</td>\n",
       "      <td>0</td>\n",
       "      <td>...</td>\n",
       "      <td>0</td>\n",
       "      <td>1</td>\n",
       "      <td>0</td>\n",
       "      <td>0</td>\n",
       "      <td>0</td>\n",
       "      <td>0</td>\n",
       "      <td>0</td>\n",
       "      <td>0</td>\n",
       "      <td>0</td>\n",
       "      <td>0</td>\n",
       "    </tr>\n",
       "    <tr>\n",
       "      <th>3</th>\n",
       "      <td>-0.104900</td>\n",
       "      <td>6</td>\n",
       "      <td>1</td>\n",
       "      <td>5</td>\n",
       "      <td>0.587206</td>\n",
       "      <td>0</td>\n",
       "      <td>461.538462</td>\n",
       "      <td>112</td>\n",
       "      <td>0</td>\n",
       "      <td>0</td>\n",
       "      <td>...</td>\n",
       "      <td>0</td>\n",
       "      <td>0</td>\n",
       "      <td>0</td>\n",
       "      <td>0</td>\n",
       "      <td>0</td>\n",
       "      <td>0</td>\n",
       "      <td>0</td>\n",
       "      <td>0</td>\n",
       "      <td>0</td>\n",
       "      <td>1</td>\n",
       "    </tr>\n",
       "    <tr>\n",
       "      <th>4</th>\n",
       "      <td>-0.013057</td>\n",
       "      <td>34</td>\n",
       "      <td>1</td>\n",
       "      <td>6</td>\n",
       "      <td>-0.955335</td>\n",
       "      <td>1</td>\n",
       "      <td>314.705882</td>\n",
       "      <td>95</td>\n",
       "      <td>0</td>\n",
       "      <td>0</td>\n",
       "      <td>...</td>\n",
       "      <td>0</td>\n",
       "      <td>0</td>\n",
       "      <td>0</td>\n",
       "      <td>0</td>\n",
       "      <td>0</td>\n",
       "      <td>0</td>\n",
       "      <td>0</td>\n",
       "      <td>0</td>\n",
       "      <td>0</td>\n",
       "      <td>0</td>\n",
       "    </tr>\n",
       "  </tbody>\n",
       "</table>\n",
       "<p>5 rows × 61 columns</p>\n",
       "</div>"
      ],
      "text/plain": [
       "   CPL_wrt_BC  duration  num_prods  calls  CPL_wrt_self  churn    avg_budget  \\\n",
       "0    0.000000        73          6      2      0.000000      1  10082.152554   \n",
       "1   -0.623618         1          1      3      0.000000      0    133.928571   \n",
       "2    0.007905       102          2      8     -0.292008      0   3935.017462   \n",
       "3   -0.104900         6          1      5      0.587206      0    461.538462   \n",
       "4   -0.013057        34          1      6     -0.955335      1    314.705882   \n",
       "\n",
       "   clicks  client_state_AZ  client_state_CA    ...      \\\n",
       "0     107                1                0    ...       \n",
       "1      79                0                1    ...       \n",
       "2      90                0                0    ...       \n",
       "3     112                0                0    ...       \n",
       "4      95                0                0    ...       \n",
       "\n",
       "   BC_Industrial & Commercial  \\\n",
       "0                           0   \n",
       "1                           0   \n",
       "2                           0   \n",
       "3                           0   \n",
       "4                           0   \n",
       "\n",
       "   BC_Personal Services (Weddings, Cleaners, etc.)  BC_Physicians & Surgeons  \\\n",
       "0                                                0                         0   \n",
       "1                                                0                         0   \n",
       "2                                                1                         0   \n",
       "3                                                0                         0   \n",
       "4                                                0                         0   \n",
       "\n",
       "   BC_Real Estate  BC_Religion & Spirituality  BC_Restaurants & Food  \\\n",
       "0               0                           0                      0   \n",
       "1               0                           0                      0   \n",
       "2               0                           0                      0   \n",
       "3               0                           0                      0   \n",
       "4               0                           0                      0   \n",
       "\n",
       "   BC_Shopping, Collectibles & Gifts (General)  BC_Sports & Recreation  \\\n",
       "0                                            0                       0   \n",
       "1                                            1                       0   \n",
       "2                                            0                       0   \n",
       "3                                            0                       0   \n",
       "4                                            0                       0   \n",
       "\n",
       "   BC_Toys & Hobbies  BC_Travel  \n",
       "0                  0          0  \n",
       "1                  0          0  \n",
       "2                  0          0  \n",
       "3                  0          1  \n",
       "4                  0          0  \n",
       "\n",
       "[5 rows x 61 columns]"
      ]
     },
     "execution_count": 12,
     "metadata": {},
     "output_type": "execute_result"
    }
   ],
   "source": [
    "# for categorical variables\n",
    "data = pd.get_dummies(data,columns=['client_state','BC'])\n",
    "data.head()\n"
   ]
  },
  {
   "cell_type": "code",
   "execution_count": 13,
   "metadata": {
    "scrolled": true
   },
   "outputs": [
    {
     "name": "stdout",
     "output_type": "stream",
     "text": [
      "<class 'pandas.core.frame.DataFrame'>\n",
      "RangeIndex: 10000 entries, 0 to 9999\n",
      "Data columns (total 61 columns):\n",
      "CPL_wrt_BC                                         10000 non-null float64\n",
      "duration                                           10000 non-null int64\n",
      "num_prods                                          10000 non-null int64\n",
      "calls                                              10000 non-null int64\n",
      "CPL_wrt_self                                       10000 non-null float64\n",
      "churn                                              10000 non-null int64\n",
      "avg_budget                                         10000 non-null float64\n",
      "clicks                                             10000 non-null int64\n",
      "client_state_AZ                                    10000 non-null uint8\n",
      "client_state_CA                                    10000 non-null uint8\n",
      "client_state_CO                                    10000 non-null uint8\n",
      "client_state_FL                                    10000 non-null uint8\n",
      "client_state_GA                                    10000 non-null uint8\n",
      "client_state_IL                                    10000 non-null uint8\n",
      "client_state_IN                                    10000 non-null uint8\n",
      "client_state_MA                                    10000 non-null uint8\n",
      "client_state_MD                                    10000 non-null uint8\n",
      "client_state_MI                                    10000 non-null uint8\n",
      "client_state_MN                                    10000 non-null uint8\n",
      "client_state_MO                                    10000 non-null uint8\n",
      "client_state_NC                                    10000 non-null uint8\n",
      "client_state_NJ                                    10000 non-null uint8\n",
      "client_state_NY                                    10000 non-null uint8\n",
      "client_state_OH                                    10000 non-null uint8\n",
      "client_state_OR                                    10000 non-null uint8\n",
      "client_state_Other_states                          10000 non-null uint8\n",
      "client_state_PA                                    10000 non-null uint8\n",
      "client_state_TX                                    10000 non-null uint8\n",
      "client_state_VA                                    10000 non-null uint8\n",
      "client_state_WA                                    10000 non-null uint8\n",
      "BC_Animals & Pets                                  10000 non-null uint8\n",
      "BC_Apparel / Fashion & Jewelry                     10000 non-null uint8\n",
      "BC_Arts & Entertainment                            10000 non-null uint8\n",
      "BC_Attorneys & Legal Services                      10000 non-null uint8\n",
      "BC_Automotive -- For Sale                          10000 non-null uint8\n",
      "BC_Automotive -- Repair, Service & Parts           10000 non-null uint8\n",
      "BC_Beauty & Personal Care                          10000 non-null uint8\n",
      "BC_Business Opportunities                          10000 non-null uint8\n",
      "BC_Business Services                               10000 non-null uint8\n",
      "BC_Career & Employment                             10000 non-null uint8\n",
      "BC_Community, Garage Sales & Organizations         10000 non-null uint8\n",
      "BC_Computers, Telephony & Internet                 10000 non-null uint8\n",
      "BC_Dentists & Dental Services                      10000 non-null uint8\n",
      "BC_Education & Instruction                         10000 non-null uint8\n",
      "BC_Electronics & Photo                             10000 non-null uint8\n",
      "BC_Farming & Agriculture                           10000 non-null uint8\n",
      "BC_Finance & Insurance                             10000 non-null uint8\n",
      "BC_Furniture                                       10000 non-null uint8\n",
      "BC_Government & Politics                           10000 non-null uint8\n",
      "BC_Health & Fitness                                10000 non-null uint8\n",
      "BC_Home & Home Improvement                         10000 non-null uint8\n",
      "BC_Industrial & Commercial                         10000 non-null uint8\n",
      "BC_Personal Services (Weddings, Cleaners, etc.)    10000 non-null uint8\n",
      "BC_Physicians & Surgeons                           10000 non-null uint8\n",
      "BC_Real Estate                                     10000 non-null uint8\n",
      "BC_Religion & Spirituality                         10000 non-null uint8\n",
      "BC_Restaurants & Food                              10000 non-null uint8\n",
      "BC_Shopping, Collectibles & Gifts (General)        10000 non-null uint8\n",
      "BC_Sports & Recreation                             10000 non-null uint8\n",
      "BC_Toys & Hobbies                                  10000 non-null uint8\n",
      "BC_Travel                                          10000 non-null uint8\n",
      "dtypes: float64(3), int64(5), uint8(53)\n",
      "memory usage: 1.1 MB\n"
     ]
    }
   ],
   "source": [
    "data.info()"
   ]
  },
  {
   "cell_type": "code",
   "execution_count": 14,
   "metadata": {},
   "outputs": [],
   "source": [
    "from sklearn.model_selection import train_test_split, GridSearchCV\n",
    "\n",
    "from sklearn.metrics import f1_score, recall_score, precision_score, accuracy_score\n",
    "from sklearn.metrics import confusion_matrix\n",
    "from sklearn.metrics import roc_auc_score, roc_curve, auc\n",
    "from sklearn.metrics import classification_report\n",
    "from sklearn.preprocessing import binarize\n",
    "\n",
    "from sklearn.linear_model import LogisticRegression\n"
   ]
  },
  {
   "cell_type": "code",
   "execution_count": 15,
   "metadata": {},
   "outputs": [
    {
     "data": {
      "text/html": [
       "<div>\n",
       "<style scoped>\n",
       "    .dataframe tbody tr th:only-of-type {\n",
       "        vertical-align: middle;\n",
       "    }\n",
       "\n",
       "    .dataframe tbody tr th {\n",
       "        vertical-align: top;\n",
       "    }\n",
       "\n",
       "    .dataframe thead th {\n",
       "        text-align: right;\n",
       "    }\n",
       "</style>\n",
       "<table border=\"1\" class=\"dataframe\">\n",
       "  <thead>\n",
       "    <tr style=\"text-align: right;\">\n",
       "      <th></th>\n",
       "      <th>CPL_wrt_BC</th>\n",
       "      <th>duration</th>\n",
       "      <th>num_prods</th>\n",
       "      <th>calls</th>\n",
       "      <th>CPL_wrt_self</th>\n",
       "      <th>avg_budget</th>\n",
       "      <th>clicks</th>\n",
       "      <th>client_state_AZ</th>\n",
       "      <th>client_state_CA</th>\n",
       "      <th>client_state_CO</th>\n",
       "      <th>...</th>\n",
       "      <th>BC_Industrial &amp; Commercial</th>\n",
       "      <th>BC_Personal Services (Weddings, Cleaners, etc.)</th>\n",
       "      <th>BC_Physicians &amp; Surgeons</th>\n",
       "      <th>BC_Real Estate</th>\n",
       "      <th>BC_Religion &amp; Spirituality</th>\n",
       "      <th>BC_Restaurants &amp; Food</th>\n",
       "      <th>BC_Shopping, Collectibles &amp; Gifts (General)</th>\n",
       "      <th>BC_Sports &amp; Recreation</th>\n",
       "      <th>BC_Toys &amp; Hobbies</th>\n",
       "      <th>BC_Travel</th>\n",
       "    </tr>\n",
       "  </thead>\n",
       "  <tbody>\n",
       "    <tr>\n",
       "      <th>0</th>\n",
       "      <td>0.000000</td>\n",
       "      <td>73</td>\n",
       "      <td>6</td>\n",
       "      <td>2</td>\n",
       "      <td>0.000000</td>\n",
       "      <td>10082.152554</td>\n",
       "      <td>107</td>\n",
       "      <td>1</td>\n",
       "      <td>0</td>\n",
       "      <td>0</td>\n",
       "      <td>...</td>\n",
       "      <td>0</td>\n",
       "      <td>0</td>\n",
       "      <td>0</td>\n",
       "      <td>0</td>\n",
       "      <td>0</td>\n",
       "      <td>0</td>\n",
       "      <td>0</td>\n",
       "      <td>0</td>\n",
       "      <td>0</td>\n",
       "      <td>0</td>\n",
       "    </tr>\n",
       "    <tr>\n",
       "      <th>1</th>\n",
       "      <td>-0.623618</td>\n",
       "      <td>1</td>\n",
       "      <td>1</td>\n",
       "      <td>3</td>\n",
       "      <td>0.000000</td>\n",
       "      <td>133.928571</td>\n",
       "      <td>79</td>\n",
       "      <td>0</td>\n",
       "      <td>1</td>\n",
       "      <td>0</td>\n",
       "      <td>...</td>\n",
       "      <td>0</td>\n",
       "      <td>0</td>\n",
       "      <td>0</td>\n",
       "      <td>0</td>\n",
       "      <td>0</td>\n",
       "      <td>0</td>\n",
       "      <td>1</td>\n",
       "      <td>0</td>\n",
       "      <td>0</td>\n",
       "      <td>0</td>\n",
       "    </tr>\n",
       "    <tr>\n",
       "      <th>2</th>\n",
       "      <td>0.007905</td>\n",
       "      <td>102</td>\n",
       "      <td>2</td>\n",
       "      <td>8</td>\n",
       "      <td>-0.292008</td>\n",
       "      <td>3935.017462</td>\n",
       "      <td>90</td>\n",
       "      <td>0</td>\n",
       "      <td>0</td>\n",
       "      <td>0</td>\n",
       "      <td>...</td>\n",
       "      <td>0</td>\n",
       "      <td>1</td>\n",
       "      <td>0</td>\n",
       "      <td>0</td>\n",
       "      <td>0</td>\n",
       "      <td>0</td>\n",
       "      <td>0</td>\n",
       "      <td>0</td>\n",
       "      <td>0</td>\n",
       "      <td>0</td>\n",
       "    </tr>\n",
       "    <tr>\n",
       "      <th>3</th>\n",
       "      <td>-0.104900</td>\n",
       "      <td>6</td>\n",
       "      <td>1</td>\n",
       "      <td>5</td>\n",
       "      <td>0.587206</td>\n",
       "      <td>461.538462</td>\n",
       "      <td>112</td>\n",
       "      <td>0</td>\n",
       "      <td>0</td>\n",
       "      <td>0</td>\n",
       "      <td>...</td>\n",
       "      <td>0</td>\n",
       "      <td>0</td>\n",
       "      <td>0</td>\n",
       "      <td>0</td>\n",
       "      <td>0</td>\n",
       "      <td>0</td>\n",
       "      <td>0</td>\n",
       "      <td>0</td>\n",
       "      <td>0</td>\n",
       "      <td>1</td>\n",
       "    </tr>\n",
       "    <tr>\n",
       "      <th>4</th>\n",
       "      <td>-0.013057</td>\n",
       "      <td>34</td>\n",
       "      <td>1</td>\n",
       "      <td>6</td>\n",
       "      <td>-0.955335</td>\n",
       "      <td>314.705882</td>\n",
       "      <td>95</td>\n",
       "      <td>0</td>\n",
       "      <td>0</td>\n",
       "      <td>0</td>\n",
       "      <td>...</td>\n",
       "      <td>0</td>\n",
       "      <td>0</td>\n",
       "      <td>0</td>\n",
       "      <td>0</td>\n",
       "      <td>0</td>\n",
       "      <td>0</td>\n",
       "      <td>0</td>\n",
       "      <td>0</td>\n",
       "      <td>0</td>\n",
       "      <td>0</td>\n",
       "    </tr>\n",
       "  </tbody>\n",
       "</table>\n",
       "<p>5 rows × 60 columns</p>\n",
       "</div>"
      ],
      "text/plain": [
       "   CPL_wrt_BC  duration  num_prods  calls  CPL_wrt_self    avg_budget  clicks  \\\n",
       "0    0.000000        73          6      2      0.000000  10082.152554     107   \n",
       "1   -0.623618         1          1      3      0.000000    133.928571      79   \n",
       "2    0.007905       102          2      8     -0.292008   3935.017462      90   \n",
       "3   -0.104900         6          1      5      0.587206    461.538462     112   \n",
       "4   -0.013057        34          1      6     -0.955335    314.705882      95   \n",
       "\n",
       "   client_state_AZ  client_state_CA  client_state_CO    ...      \\\n",
       "0                1                0                0    ...       \n",
       "1                0                1                0    ...       \n",
       "2                0                0                0    ...       \n",
       "3                0                0                0    ...       \n",
       "4                0                0                0    ...       \n",
       "\n",
       "   BC_Industrial & Commercial  \\\n",
       "0                           0   \n",
       "1                           0   \n",
       "2                           0   \n",
       "3                           0   \n",
       "4                           0   \n",
       "\n",
       "   BC_Personal Services (Weddings, Cleaners, etc.)  BC_Physicians & Surgeons  \\\n",
       "0                                                0                         0   \n",
       "1                                                0                         0   \n",
       "2                                                1                         0   \n",
       "3                                                0                         0   \n",
       "4                                                0                         0   \n",
       "\n",
       "   BC_Real Estate  BC_Religion & Spirituality  BC_Restaurants & Food  \\\n",
       "0               0                           0                      0   \n",
       "1               0                           0                      0   \n",
       "2               0                           0                      0   \n",
       "3               0                           0                      0   \n",
       "4               0                           0                      0   \n",
       "\n",
       "   BC_Shopping, Collectibles & Gifts (General)  BC_Sports & Recreation  \\\n",
       "0                                            0                       0   \n",
       "1                                            1                       0   \n",
       "2                                            0                       0   \n",
       "3                                            0                       0   \n",
       "4                                            0                       0   \n",
       "\n",
       "   BC_Toys & Hobbies  BC_Travel  \n",
       "0                  0          0  \n",
       "1                  0          0  \n",
       "2                  0          0  \n",
       "3                  0          1  \n",
       "4                  0          0  \n",
       "\n",
       "[5 rows x 60 columns]"
      ]
     },
     "execution_count": 15,
     "metadata": {},
     "output_type": "execute_result"
    }
   ],
   "source": [
    "# independent variables (X)\n",
    "x = data.drop('churn',1)\n",
    "x.head()"
   ]
  },
  {
   "cell_type": "code",
   "execution_count": 16,
   "metadata": {
    "scrolled": true
   },
   "outputs": [
    {
     "name": "stdout",
     "output_type": "stream",
     "text": [
      "<class 'pandas.core.frame.DataFrame'>\n",
      "RangeIndex: 10000 entries, 0 to 9999\n",
      "Data columns (total 60 columns):\n",
      "CPL_wrt_BC                                         10000 non-null float64\n",
      "duration                                           10000 non-null int64\n",
      "num_prods                                          10000 non-null int64\n",
      "calls                                              10000 non-null int64\n",
      "CPL_wrt_self                                       10000 non-null float64\n",
      "avg_budget                                         10000 non-null float64\n",
      "clicks                                             10000 non-null int64\n",
      "client_state_AZ                                    10000 non-null uint8\n",
      "client_state_CA                                    10000 non-null uint8\n",
      "client_state_CO                                    10000 non-null uint8\n",
      "client_state_FL                                    10000 non-null uint8\n",
      "client_state_GA                                    10000 non-null uint8\n",
      "client_state_IL                                    10000 non-null uint8\n",
      "client_state_IN                                    10000 non-null uint8\n",
      "client_state_MA                                    10000 non-null uint8\n",
      "client_state_MD                                    10000 non-null uint8\n",
      "client_state_MI                                    10000 non-null uint8\n",
      "client_state_MN                                    10000 non-null uint8\n",
      "client_state_MO                                    10000 non-null uint8\n",
      "client_state_NC                                    10000 non-null uint8\n",
      "client_state_NJ                                    10000 non-null uint8\n",
      "client_state_NY                                    10000 non-null uint8\n",
      "client_state_OH                                    10000 non-null uint8\n",
      "client_state_OR                                    10000 non-null uint8\n",
      "client_state_Other_states                          10000 non-null uint8\n",
      "client_state_PA                                    10000 non-null uint8\n",
      "client_state_TX                                    10000 non-null uint8\n",
      "client_state_VA                                    10000 non-null uint8\n",
      "client_state_WA                                    10000 non-null uint8\n",
      "BC_Animals & Pets                                  10000 non-null uint8\n",
      "BC_Apparel / Fashion & Jewelry                     10000 non-null uint8\n",
      "BC_Arts & Entertainment                            10000 non-null uint8\n",
      "BC_Attorneys & Legal Services                      10000 non-null uint8\n",
      "BC_Automotive -- For Sale                          10000 non-null uint8\n",
      "BC_Automotive -- Repair, Service & Parts           10000 non-null uint8\n",
      "BC_Beauty & Personal Care                          10000 non-null uint8\n",
      "BC_Business Opportunities                          10000 non-null uint8\n",
      "BC_Business Services                               10000 non-null uint8\n",
      "BC_Career & Employment                             10000 non-null uint8\n",
      "BC_Community, Garage Sales & Organizations         10000 non-null uint8\n",
      "BC_Computers, Telephony & Internet                 10000 non-null uint8\n",
      "BC_Dentists & Dental Services                      10000 non-null uint8\n",
      "BC_Education & Instruction                         10000 non-null uint8\n",
      "BC_Electronics & Photo                             10000 non-null uint8\n",
      "BC_Farming & Agriculture                           10000 non-null uint8\n",
      "BC_Finance & Insurance                             10000 non-null uint8\n",
      "BC_Furniture                                       10000 non-null uint8\n",
      "BC_Government & Politics                           10000 non-null uint8\n",
      "BC_Health & Fitness                                10000 non-null uint8\n",
      "BC_Home & Home Improvement                         10000 non-null uint8\n",
      "BC_Industrial & Commercial                         10000 non-null uint8\n",
      "BC_Personal Services (Weddings, Cleaners, etc.)    10000 non-null uint8\n",
      "BC_Physicians & Surgeons                           10000 non-null uint8\n",
      "BC_Real Estate                                     10000 non-null uint8\n",
      "BC_Religion & Spirituality                         10000 non-null uint8\n",
      "BC_Restaurants & Food                              10000 non-null uint8\n",
      "BC_Shopping, Collectibles & Gifts (General)        10000 non-null uint8\n",
      "BC_Sports & Recreation                             10000 non-null uint8\n",
      "BC_Toys & Hobbies                                  10000 non-null uint8\n",
      "BC_Travel                                          10000 non-null uint8\n",
      "dtypes: float64(3), int64(4), uint8(53)\n",
      "memory usage: 1.0 MB\n"
     ]
    }
   ],
   "source": [
    "x.info()"
   ]
  },
  {
   "cell_type": "code",
   "execution_count": 17,
   "metadata": {},
   "outputs": [
    {
     "data": {
      "text/plain": [
       "0    1\n",
       "1    0\n",
       "2    0\n",
       "3    0\n",
       "4    1\n",
       "Name: churn, dtype: int64"
      ]
     },
     "execution_count": 17,
     "metadata": {},
     "output_type": "execute_result"
    }
   ],
   "source": [
    "# target variable\n",
    "y = data['churn']\n",
    "y.head()"
   ]
  },
  {
   "cell_type": "code",
   "execution_count": 18,
   "metadata": {},
   "outputs": [
    {
     "name": "stdout",
     "output_type": "stream",
     "text": [
      "(8000, 60) (8000,)\n",
      "(2000, 60) (2000,)\n"
     ]
    }
   ],
   "source": [
    "# split data\n",
    "X_train, X_test, Y_train, Y_test = train_test_split(x, y, test_size = 0.2, random_state=9)\n",
    "print(X_train.shape, Y_train.shape)\n",
    "print(X_test.shape, Y_test.shape)"
   ]
  },
  {
   "cell_type": "code",
   "execution_count": 19,
   "metadata": {},
   "outputs": [],
   "source": [
    "def model_accuracy(model, X_test, Y_test):\n",
    "    # accuracy\n",
    "    acc = model.score(X_test, Y_test) \n",
    "    print('Accuracy: ' , acc)\n",
    "    \n",
    "    # prediction\n",
    "    ypred = model.predict(X_test)\n",
    "    \n",
    "    # confusion matrix\n",
    "    cm = confusion_matrix(Y_test,ypred,labels=[0,1])\n",
    "    print('Confusion matrix:')    \n",
    "    print(cm)\n",
    "    \n",
    "    # Area Under the Receiver Operating Characteristic Curve\n",
    "    roc = roc_auc_score(Y_test, ypred)\n",
    "    print('ROC: ' , roc)\n",
    "    \n",
    "    print(classification_report(Y_test, ypred))"
   ]
  },
  {
   "cell_type": "code",
   "execution_count": 20,
   "metadata": {},
   "outputs": [],
   "source": [
    "def plot_roc(model, X_test, Y_test):\n",
    "    probs = model.predict_proba(X_test)\n",
    "    preds = probs[:,1]\n",
    "    fpr, tpr, threshold = roc_curve(Y_test, preds)\n",
    "    roc_auc = auc(fpr, tpr)\n",
    "    \n",
    "    plt.plot(fpr, tpr, label='Area = %0.2f' % roc_auc)\n",
    "    plt.plot([0, 1], [0, 1],'r--')\n",
    "    plt.xlim([0.0, 1.0])\n",
    "    plt.ylim([0.0, 1.05])\n",
    "    plt.xlabel('False Positive Rate')\n",
    "    plt.ylabel('True Positive Rate')\n",
    "    plt.title('Receiver operating characteristic')\n",
    "    plt.legend(loc=\"lower right\")\n",
    "    plt.show()"
   ]
  },
  {
   "cell_type": "code",
   "execution_count": 21,
   "metadata": {},
   "outputs": [],
   "source": [
    "def adjust_threshold(model,X_test,Y_test,threshold):\n",
    "    # predict for class 1\n",
    "    ypre_1 = model.predict_proba(X_test)[:,1]\n",
    "    ypred_class = binarize(ypre_1.reshape(-1,1),threshold)\n",
    "    \n",
    "    print('Threshold: ', threshold)\n",
    "    # accuracy\n",
    "    acc = accuracy_score(Y_test, ypred_class) \n",
    "    print('Accuracy: ' , acc)\n",
    "        \n",
    "    # confusion matrix\n",
    "    cm = confusion_matrix(Y_test,ypred_class,labels=[0,1])\n",
    "    print('Confusion matrix:')    \n",
    "    print(cm)\n",
    "    \n",
    "    # Area Under the Receiver Operating Characteristic Curve\n",
    "    roc = roc_auc_score(Y_test, ypred_class)\n",
    "    print('ROC: ' , roc)\n",
    "    \n",
    "    print(classification_report(Y_test, ypred_class))"
   ]
  },
  {
   "cell_type": "markdown",
   "metadata": {},
   "source": [
    "### Feature Scaling - Minmax scaler"
   ]
  },
  {
   "cell_type": "code",
   "execution_count": 22,
   "metadata": {},
   "outputs": [],
   "source": [
    "from sklearn import preprocessing\n",
    "\n",
    "minmax_scale = preprocessing.MinMaxScaler(feature_range = (0,1)).fit(X_train)\n",
    "X_train = minmax_scale.transform(X_train)\n",
    "X_test = minmax_scale.transform(X_test)"
   ]
  },
  {
   "cell_type": "code",
   "execution_count": 23,
   "metadata": {},
   "outputs": [
    {
     "data": {
      "text/plain": [
       "array([[0.00856351, 0.        , 0.09090909, ..., 0.        , 0.        ,\n",
       "        0.        ],\n",
       "       [0.04733428, 0.24786325, 0.09090909, ..., 0.        , 0.        ,\n",
       "        0.        ],\n",
       "       [0.05257072, 0.2991453 , 0.09090909, ..., 0.        , 0.        ,\n",
       "        0.        ],\n",
       "       ...,\n",
       "       [0.04766183, 0.25641026, 0.09090909, ..., 0.        , 0.        ,\n",
       "        0.        ],\n",
       "       [0.04591005, 0.        , 0.09090909, ..., 0.        , 0.        ,\n",
       "        0.        ],\n",
       "       [0.05067691, 0.09401709, 0.09090909, ..., 0.        , 0.        ,\n",
       "        0.        ]])"
      ]
     },
     "execution_count": 23,
     "metadata": {},
     "output_type": "execute_result"
    }
   ],
   "source": [
    "X_train"
   ]
  },
  {
   "cell_type": "code",
   "execution_count": 24,
   "metadata": {},
   "outputs": [
    {
     "data": {
      "text/plain": [
       "array([[0.04643857, 0.2991453 , 0.09090909, ..., 0.        , 0.        ,\n",
       "        0.        ],\n",
       "       [0.05168395, 0.02564103, 0.18181818, ..., 0.        , 0.        ,\n",
       "        0.        ],\n",
       "       [0.06324869, 0.15384615, 0.18181818, ..., 0.        , 0.        ,\n",
       "        0.        ],\n",
       "       ...,\n",
       "       [0.04743109, 0.17094017, 0.09090909, ..., 0.        , 0.        ,\n",
       "        0.        ],\n",
       "       [0.04678501, 0.05128205, 0.09090909, ..., 1.        , 0.        ,\n",
       "        0.        ],\n",
       "       [0.04651296, 0.1025641 , 0.09090909, ..., 0.        , 0.        ,\n",
       "        0.        ]])"
      ]
     },
     "execution_count": 24,
     "metadata": {},
     "output_type": "execute_result"
    }
   ],
   "source": [
    "X_test"
   ]
  },
  {
   "cell_type": "markdown",
   "metadata": {},
   "source": [
    "## Building a model"
   ]
  },
  {
   "cell_type": "markdown",
   "metadata": {},
   "source": [
    "### a. Logistic regresion"
   ]
  },
  {
   "cell_type": "code",
   "execution_count": 25,
   "metadata": {},
   "outputs": [
    {
     "name": "stdout",
     "output_type": "stream",
     "text": [
      "Wall time: 1.66 s\n"
     ]
    }
   ],
   "source": [
    "%%time\n",
    "logit_params = {'C': [.01, .1, 1., 10., 100.]}\n",
    "logit = LogisticRegression()\n",
    "gsmodel_1 = GridSearchCV(logit, logit_params, cv=4)\n",
    "gsmodel_1.fit(X_train, Y_train)"
   ]
  },
  {
   "cell_type": "code",
   "execution_count": 26,
   "metadata": {},
   "outputs": [
    {
     "name": "stdout",
     "output_type": "stream",
     "text": [
      "Accuracy:  0.8\n",
      "Confusion matrix:\n",
      "[[1600    0]\n",
      " [ 400    0]]\n",
      "ROC:  0.5\n",
      "              precision    recall  f1-score   support\n",
      "\n",
      "           0       0.80      1.00      0.89      1600\n",
      "           1       0.00      0.00      0.00       400\n",
      "\n",
      "   micro avg       0.80      0.80      0.80      2000\n",
      "   macro avg       0.40      0.50      0.44      2000\n",
      "weighted avg       0.64      0.80      0.71      2000\n",
      "\n"
     ]
    }
   ],
   "source": [
    "model_accuracy(gsmodel_1,X_test,Y_test)"
   ]
  },
  {
   "cell_type": "code",
   "execution_count": 27,
   "metadata": {},
   "outputs": [
    {
     "data": {
      "text/plain": [
       "LogisticRegression(C=0.01, class_weight=None, dual=False, fit_intercept=True,\n",
       "          intercept_scaling=1, max_iter=100, multi_class='warn',\n",
       "          n_jobs=None, penalty='l2', random_state=None, solver='warn',\n",
       "          tol=0.0001, verbose=0, warm_start=False)"
      ]
     },
     "execution_count": 27,
     "metadata": {},
     "output_type": "execute_result"
    }
   ],
   "source": [
    "gsmodel_1.best_estimator_"
   ]
  },
  {
   "cell_type": "code",
   "execution_count": 28,
   "metadata": {},
   "outputs": [
    {
     "data": {
      "image/png": "[encoded data removed]",
      "text/plain": [
       "<Figure size 432x288 with 1 Axes>"
      ]
     },
     "metadata": {
      "needs_background": "light"
     },
     "output_type": "display_data"
    }
   ],
   "source": [
    "plot_roc(gsmodel_1.best_estimator_,X_test,Y_test)"
   ]
  },
  {
   "cell_type": "code",
   "execution_count": 29,
   "metadata": {},
   "outputs": [
    {
     "data": {
      "text/plain": [
       "array([[-0.0400892 , -0.51633748, -0.16900325, -0.20234955, -0.00903893,\n",
       "        -0.038624  , -0.23465233, -0.00176293, -0.11434673, -0.03495569,\n",
       "         0.01483838,  0.03685721, -0.0347259 ,  0.04340213, -0.07789731,\n",
       "        -0.11227866, -0.00603978, -0.0024431 , -0.03081141, -0.01637563,\n",
       "        -0.09711093, -0.12794018, -0.08334461,  0.06315987, -0.03501382,\n",
       "        -0.07729501, -0.10425184, -0.01011158, -0.05943863, -0.15668682,\n",
       "         0.02939026,  0.07299052,  0.01930803,  0.09398412, -0.12339923,\n",
       "        -0.09410339,  0.01843125,  0.0331937 ,  0.02931861,  0.00328179,\n",
       "         0.03246347, -0.0504545 ,  0.01531042, -0.00943335, -0.01654392,\n",
       "         0.03593948, -0.07327572,  0.00278474,  0.02491796, -0.10612875,\n",
       "        -0.10756793, -0.09253168, -0.11059131,  0.02831913,  0.00641009,\n",
       "         0.07771273, -0.32426208, -0.01395368,  0.00472627, -0.11743634]])"
      ]
     },
     "execution_count": 29,
     "metadata": {},
     "output_type": "execute_result"
    }
   ],
   "source": [
    "gsmodel_1.best_estimator_.coef_"
   ]
  },
  {
   "cell_type": "code",
   "execution_count": 30,
   "metadata": {},
   "outputs": [
    {
     "data": {
      "text/html": [
       "<div>\n",
       "<style scoped>\n",
       "    .dataframe tbody tr th:only-of-type {\n",
       "        vertical-align: middle;\n",
       "    }\n",
       "\n",
       "    .dataframe tbody tr th {\n",
       "        vertical-align: top;\n",
       "    }\n",
       "\n",
       "    .dataframe thead th {\n",
       "        text-align: right;\n",
       "    }\n",
       "</style>\n",
       "<table border=\"1\" class=\"dataframe\">\n",
       "  <thead>\n",
       "    <tr style=\"text-align: right;\">\n",
       "      <th></th>\n",
       "      <th>coeff</th>\n",
       "    </tr>\n",
       "  </thead>\n",
       "  <tbody>\n",
       "    <tr>\n",
       "      <th>duration</th>\n",
       "      <td>-0.516337</td>\n",
       "    </tr>\n",
       "    <tr>\n",
       "      <th>BC_Shopping, Collectibles &amp; Gifts (General)</th>\n",
       "      <td>-0.324262</td>\n",
       "    </tr>\n",
       "    <tr>\n",
       "      <th>clicks</th>\n",
       "      <td>-0.234652</td>\n",
       "    </tr>\n",
       "    <tr>\n",
       "      <th>calls</th>\n",
       "      <td>-0.202350</td>\n",
       "    </tr>\n",
       "    <tr>\n",
       "      <th>num_prods</th>\n",
       "      <td>-0.169003</td>\n",
       "    </tr>\n",
       "    <tr>\n",
       "      <th>BC_Animals &amp; Pets</th>\n",
       "      <td>-0.156687</td>\n",
       "    </tr>\n",
       "    <tr>\n",
       "      <th>client_state_NY</th>\n",
       "      <td>-0.127940</td>\n",
       "    </tr>\n",
       "    <tr>\n",
       "      <th>BC_Automotive -- Repair, Service &amp; Parts</th>\n",
       "      <td>-0.123399</td>\n",
       "    </tr>\n",
       "    <tr>\n",
       "      <th>BC_Travel</th>\n",
       "      <td>-0.117436</td>\n",
       "    </tr>\n",
       "    <tr>\n",
       "      <th>client_state_CA</th>\n",
       "      <td>-0.114347</td>\n",
       "    </tr>\n",
       "    <tr>\n",
       "      <th>client_state_MD</th>\n",
       "      <td>-0.112279</td>\n",
       "    </tr>\n",
       "    <tr>\n",
       "      <th>BC_Physicians &amp; Surgeons</th>\n",
       "      <td>-0.110591</td>\n",
       "    </tr>\n",
       "    <tr>\n",
       "      <th>BC_Industrial &amp; Commercial</th>\n",
       "      <td>-0.107568</td>\n",
       "    </tr>\n",
       "    <tr>\n",
       "      <th>BC_Home &amp; Home Improvement</th>\n",
       "      <td>-0.106129</td>\n",
       "    </tr>\n",
       "    <tr>\n",
       "      <th>client_state_TX</th>\n",
       "      <td>-0.104252</td>\n",
       "    </tr>\n",
       "    <tr>\n",
       "      <th>client_state_NJ</th>\n",
       "      <td>-0.097111</td>\n",
       "    </tr>\n",
       "    <tr>\n",
       "      <th>BC_Beauty &amp; Personal Care</th>\n",
       "      <td>-0.094103</td>\n",
       "    </tr>\n",
       "    <tr>\n",
       "      <th>BC_Personal Services (Weddings, Cleaners, etc.)</th>\n",
       "      <td>-0.092532</td>\n",
       "    </tr>\n",
       "    <tr>\n",
       "      <th>client_state_OH</th>\n",
       "      <td>-0.083345</td>\n",
       "    </tr>\n",
       "    <tr>\n",
       "      <th>client_state_MA</th>\n",
       "      <td>-0.077897</td>\n",
       "    </tr>\n",
       "  </tbody>\n",
       "</table>\n",
       "</div>"
      ],
      "text/plain": [
       "                                                    coeff\n",
       "duration                                        -0.516337\n",
       "BC_Shopping, Collectibles & Gifts (General)     -0.324262\n",
       "clicks                                          -0.234652\n",
       "calls                                           -0.202350\n",
       "num_prods                                       -0.169003\n",
       "BC_Animals & Pets                               -0.156687\n",
       "client_state_NY                                 -0.127940\n",
       "BC_Automotive -- Repair, Service & Parts        -0.123399\n",
       "BC_Travel                                       -0.117436\n",
       "client_state_CA                                 -0.114347\n",
       "client_state_MD                                 -0.112279\n",
       "BC_Physicians & Surgeons                        -0.110591\n",
       "BC_Industrial & Commercial                      -0.107568\n",
       "BC_Home & Home Improvement                      -0.106129\n",
       "client_state_TX                                 -0.104252\n",
       "client_state_NJ                                 -0.097111\n",
       "BC_Beauty & Personal Care                       -0.094103\n",
       "BC_Personal Services (Weddings, Cleaners, etc.) -0.092532\n",
       "client_state_OH                                 -0.083345\n",
       "client_state_MA                                 -0.077897"
      ]
     },
     "execution_count": 30,
     "metadata": {},
     "output_type": "execute_result"
    }
   ],
   "source": [
    "# examining the coefficients\n",
    "pd.DataFrame(index=x.columns,data=np.transpose(gsmodel_1.best_estimator_.coef_), columns=['coeff']).sort_values(by=['coeff']).head(20)"
   ]
  },
  {
   "cell_type": "code",
   "execution_count": 31,
   "metadata": {
    "scrolled": false
   },
   "outputs": [
    {
     "data": {
      "text/html": [
       "<div>\n",
       "<style scoped>\n",
       "    .dataframe tbody tr th:only-of-type {\n",
       "        vertical-align: middle;\n",
       "    }\n",
       "\n",
       "    .dataframe tbody tr th {\n",
       "        vertical-align: top;\n",
       "    }\n",
       "\n",
       "    .dataframe thead th {\n",
       "        text-align: right;\n",
       "    }\n",
       "</style>\n",
       "<table border=\"1\" class=\"dataframe\">\n",
       "  <thead>\n",
       "    <tr style=\"text-align: right;\">\n",
       "      <th></th>\n",
       "      <th>coeff</th>\n",
       "    </tr>\n",
       "  </thead>\n",
       "  <tbody>\n",
       "    <tr>\n",
       "      <th>BC_Community, Garage Sales &amp; Organizations</th>\n",
       "      <td>0.003282</td>\n",
       "    </tr>\n",
       "    <tr>\n",
       "      <th>BC_Toys &amp; Hobbies</th>\n",
       "      <td>0.004726</td>\n",
       "    </tr>\n",
       "    <tr>\n",
       "      <th>BC_Religion &amp; Spirituality</th>\n",
       "      <td>0.006410</td>\n",
       "    </tr>\n",
       "    <tr>\n",
       "      <th>client_state_FL</th>\n",
       "      <td>0.014838</td>\n",
       "    </tr>\n",
       "    <tr>\n",
       "      <th>BC_Education &amp; Instruction</th>\n",
       "      <td>0.015310</td>\n",
       "    </tr>\n",
       "    <tr>\n",
       "      <th>BC_Business Opportunities</th>\n",
       "      <td>0.018431</td>\n",
       "    </tr>\n",
       "    <tr>\n",
       "      <th>BC_Attorneys &amp; Legal Services</th>\n",
       "      <td>0.019308</td>\n",
       "    </tr>\n",
       "    <tr>\n",
       "      <th>BC_Health &amp; Fitness</th>\n",
       "      <td>0.024918</td>\n",
       "    </tr>\n",
       "    <tr>\n",
       "      <th>BC_Real Estate</th>\n",
       "      <td>0.028319</td>\n",
       "    </tr>\n",
       "    <tr>\n",
       "      <th>BC_Career &amp; Employment</th>\n",
       "      <td>0.029319</td>\n",
       "    </tr>\n",
       "    <tr>\n",
       "      <th>BC_Apparel / Fashion &amp; Jewelry</th>\n",
       "      <td>0.029390</td>\n",
       "    </tr>\n",
       "    <tr>\n",
       "      <th>BC_Computers, Telephony &amp; Internet</th>\n",
       "      <td>0.032463</td>\n",
       "    </tr>\n",
       "    <tr>\n",
       "      <th>BC_Business Services</th>\n",
       "      <td>0.033194</td>\n",
       "    </tr>\n",
       "    <tr>\n",
       "      <th>BC_Finance &amp; Insurance</th>\n",
       "      <td>0.035939</td>\n",
       "    </tr>\n",
       "    <tr>\n",
       "      <th>client_state_GA</th>\n",
       "      <td>0.036857</td>\n",
       "    </tr>\n",
       "    <tr>\n",
       "      <th>client_state_IN</th>\n",
       "      <td>0.043402</td>\n",
       "    </tr>\n",
       "    <tr>\n",
       "      <th>client_state_OR</th>\n",
       "      <td>0.063160</td>\n",
       "    </tr>\n",
       "    <tr>\n",
       "      <th>BC_Arts &amp; Entertainment</th>\n",
       "      <td>0.072991</td>\n",
       "    </tr>\n",
       "    <tr>\n",
       "      <th>BC_Restaurants &amp; Food</th>\n",
       "      <td>0.077713</td>\n",
       "    </tr>\n",
       "    <tr>\n",
       "      <th>BC_Automotive -- For Sale</th>\n",
       "      <td>0.093984</td>\n",
       "    </tr>\n",
       "  </tbody>\n",
       "</table>\n",
       "</div>"
      ],
      "text/plain": [
       "                                               coeff\n",
       "BC_Community, Garage Sales & Organizations  0.003282\n",
       "BC_Toys & Hobbies                           0.004726\n",
       "BC_Religion & Spirituality                  0.006410\n",
       "client_state_FL                             0.014838\n",
       "BC_Education & Instruction                  0.015310\n",
       "BC_Business Opportunities                   0.018431\n",
       "BC_Attorneys & Legal Services               0.019308\n",
       "BC_Health & Fitness                         0.024918\n",
       "BC_Real Estate                              0.028319\n",
       "BC_Career & Employment                      0.029319\n",
       "BC_Apparel / Fashion & Jewelry              0.029390\n",
       "BC_Computers, Telephony & Internet          0.032463\n",
       "BC_Business Services                        0.033194\n",
       "BC_Finance & Insurance                      0.035939\n",
       "client_state_GA                             0.036857\n",
       "client_state_IN                             0.043402\n",
       "client_state_OR                             0.063160\n",
       "BC_Arts & Entertainment                     0.072991\n",
       "BC_Restaurants & Food                       0.077713\n",
       "BC_Automotive -- For Sale                   0.093984"
      ]
     },
     "execution_count": 31,
     "metadata": {},
     "output_type": "execute_result"
    }
   ],
   "source": [
    "pd.DataFrame(index=x.columns,data=np.transpose(gsmodel_1.best_estimator_.coef_), columns=['coeff']).sort_values(by=['coeff']).tail(20)"
   ]
  },
  {
   "cell_type": "markdown",
   "metadata": {},
   "source": [
    "Logistic regresion has a poor performance for this case.\n",
    "For class 1, recall and precision are 0. This is unacceptable."
   ]
  },
  {
   "cell_type": "markdown",
   "metadata": {},
   "source": [
    "## b. Decision tree"
   ]
  },
  {
   "cell_type": "code",
   "execution_count": 32,
   "metadata": {},
   "outputs": [],
   "source": [
    "from sklearn.tree import DecisionTreeClassifier"
   ]
  },
  {
   "cell_type": "code",
   "execution_count": 33,
   "metadata": {},
   "outputs": [
    {
     "name": "stdout",
     "output_type": "stream",
     "text": [
      "Wall time: 10.2 s\n"
     ]
    }
   ],
   "source": [
    "%%time\n",
    "tree_params = {'min_samples_split': [2,4, 8, 16], \n",
    "               'min_samples_leaf': [1,2, 4, 8]}\n",
    "gsmodel_2 = GridSearchCV(DecisionTreeClassifier(), tree_params, cv=4)\n",
    "gsmodel_2.fit(X_train, Y_train)"
   ]
  },
  {
   "cell_type": "code",
   "execution_count": 34,
   "metadata": {},
   "outputs": [
    {
     "name": "stdout",
     "output_type": "stream",
     "text": [
      "Accuracy:  0.7905\n",
      "Confusion matrix:\n",
      "[[1451  149]\n",
      " [ 270  130]]\n",
      "ROC:  0.6159374999999999\n",
      "              precision    recall  f1-score   support\n",
      "\n",
      "           0       0.84      0.91      0.87      1600\n",
      "           1       0.47      0.33      0.38       400\n",
      "\n",
      "   micro avg       0.79      0.79      0.79      2000\n",
      "   macro avg       0.65      0.62      0.63      2000\n",
      "weighted avg       0.77      0.79      0.78      2000\n",
      "\n"
     ]
    }
   ],
   "source": [
    "model_accuracy(gsmodel_2,X_test,Y_test)"
   ]
  },
  {
   "cell_type": "code",
   "execution_count": 35,
   "metadata": {},
   "outputs": [
    {
     "data": {
      "text/plain": [
       "DecisionTreeClassifier(class_weight=None, criterion='gini', max_depth=None,\n",
       "            max_features=None, max_leaf_nodes=None,\n",
       "            min_impurity_decrease=0.0, min_impurity_split=None,\n",
       "            min_samples_leaf=8, min_samples_split=16,\n",
       "            min_weight_fraction_leaf=0.0, presort=False, random_state=None,\n",
       "            splitter='best')"
      ]
     },
     "execution_count": 35,
     "metadata": {},
     "output_type": "execute_result"
    }
   ],
   "source": [
    "gsmodel_2.best_estimator_"
   ]
  },
  {
   "cell_type": "code",
   "execution_count": 36,
   "metadata": {},
   "outputs": [
    {
     "data": {
      "image/png": "[encoded data removed]",
      "text/plain": [
       "<Figure size 432x288 with 1 Axes>"
      ]
     },
     "metadata": {
      "needs_background": "light"
     },
     "output_type": "display_data"
    }
   ],
   "source": [
    "plot_roc(gsmodel_2.best_estimator_,X_test,Y_test)"
   ]
  },
  {
   "cell_type": "code",
   "execution_count": 37,
   "metadata": {
    "scrolled": true
   },
   "outputs": [
    {
     "data": {
      "text/html": [
       "<div>\n",
       "<style scoped>\n",
       "    .dataframe tbody tr th:only-of-type {\n",
       "        vertical-align: middle;\n",
       "    }\n",
       "\n",
       "    .dataframe tbody tr th {\n",
       "        vertical-align: top;\n",
       "    }\n",
       "\n",
       "    .dataframe thead th {\n",
       "        text-align: right;\n",
       "    }\n",
       "</style>\n",
       "<table border=\"1\" class=\"dataframe\">\n",
       "  <thead>\n",
       "    <tr style=\"text-align: right;\">\n",
       "      <th></th>\n",
       "      <th>score</th>\n",
       "    </tr>\n",
       "  </thead>\n",
       "  <tbody>\n",
       "    <tr>\n",
       "      <th>CPL_wrt_BC</th>\n",
       "      <td>0.266404</td>\n",
       "    </tr>\n",
       "    <tr>\n",
       "      <th>CPL_wrt_self</th>\n",
       "      <td>0.214181</td>\n",
       "    </tr>\n",
       "    <tr>\n",
       "      <th>duration</th>\n",
       "      <td>0.203377</td>\n",
       "    </tr>\n",
       "    <tr>\n",
       "      <th>avg_budget</th>\n",
       "      <td>0.134704</td>\n",
       "    </tr>\n",
       "    <tr>\n",
       "      <th>clicks</th>\n",
       "      <td>0.068064</td>\n",
       "    </tr>\n",
       "    <tr>\n",
       "      <th>calls</th>\n",
       "      <td>0.049123</td>\n",
       "    </tr>\n",
       "    <tr>\n",
       "      <th>BC_Education &amp; Instruction</th>\n",
       "      <td>0.007665</td>\n",
       "    </tr>\n",
       "    <tr>\n",
       "      <th>num_prods</th>\n",
       "      <td>0.007227</td>\n",
       "    </tr>\n",
       "    <tr>\n",
       "      <th>BC_Home &amp; Home Improvement</th>\n",
       "      <td>0.005481</td>\n",
       "    </tr>\n",
       "    <tr>\n",
       "      <th>BC_Shopping, Collectibles &amp; Gifts (General)</th>\n",
       "      <td>0.005314</td>\n",
       "    </tr>\n",
       "  </tbody>\n",
       "</table>\n",
       "</div>"
      ],
      "text/plain": [
       "                                                score\n",
       "CPL_wrt_BC                                   0.266404\n",
       "CPL_wrt_self                                 0.214181\n",
       "duration                                     0.203377\n",
       "avg_budget                                   0.134704\n",
       "clicks                                       0.068064\n",
       "calls                                        0.049123\n",
       "BC_Education & Instruction                   0.007665\n",
       "num_prods                                    0.007227\n",
       "BC_Home & Home Improvement                   0.005481\n",
       "BC_Shopping, Collectibles & Gifts (General)  0.005314"
      ]
     },
     "execution_count": 37,
     "metadata": {},
     "output_type": "execute_result"
    }
   ],
   "source": [
    "# examining the feature importances\n",
    "pd.DataFrame(index=x.columns, data=np.transpose(gsmodel_2.best_estimator_.feature_importances_ ),columns=['score']).sort_values(by='score',ascending=False).head(10)"
   ]
  },
  {
   "cell_type": "markdown",
   "metadata": {},
   "source": [
    "### c. Random forest"
   ]
  },
  {
   "cell_type": "code",
   "execution_count": 38,
   "metadata": {},
   "outputs": [],
   "source": [
    "from sklearn.ensemble import RandomForestClassifier"
   ]
  },
  {
   "cell_type": "code",
   "execution_count": 39,
   "metadata": {},
   "outputs": [
    {
     "name": "stdout",
     "output_type": "stream",
     "text": [
      "Wall time: 27.5 s\n"
     ]
    }
   ],
   "source": [
    "%%time\n",
    "forest_params = {'oob_score': [True, False], \n",
    "                 'min_samples_split': [2,4,8, 16], \n",
    "                 'min_samples_leaf': [1,2,4, 8]}\n",
    "gsmodel_3 = GridSearchCV(RandomForestClassifier(), forest_params, cv=4)\n",
    "gsmodel_3.fit(X_train, Y_train)"
   ]
  },
  {
   "cell_type": "code",
   "execution_count": 40,
   "metadata": {},
   "outputs": [
    {
     "name": "stdout",
     "output_type": "stream",
     "text": [
      "Accuracy:  0.8165\n",
      "Confusion matrix:\n",
      "[[1550   50]\n",
      " [ 317   83]]\n",
      "ROC:  0.588125\n",
      "              precision    recall  f1-score   support\n",
      "\n",
      "           0       0.83      0.97      0.89      1600\n",
      "           1       0.62      0.21      0.31       400\n",
      "\n",
      "   micro avg       0.82      0.82      0.82      2000\n",
      "   macro avg       0.73      0.59      0.60      2000\n",
      "weighted avg       0.79      0.82      0.78      2000\n",
      "\n"
     ]
    }
   ],
   "source": [
    "model_accuracy(gsmodel_3,X_test,Y_test)"
   ]
  },
  {
   "cell_type": "code",
   "execution_count": 41,
   "metadata": {},
   "outputs": [
    {
     "data": {
      "text/plain": [
       "RandomForestClassifier(bootstrap=True, class_weight=None, criterion='gini',\n",
       "            max_depth=None, max_features='auto', max_leaf_nodes=None,\n",
       "            min_impurity_decrease=0.0, min_impurity_split=None,\n",
       "            min_samples_leaf=2, min_samples_split=4,\n",
       "            min_weight_fraction_leaf=0.0, n_estimators=10, n_jobs=None,\n",
       "            oob_score=False, random_state=None, verbose=0,\n",
       "            warm_start=False)"
      ]
     },
     "execution_count": 41,
     "metadata": {},
     "output_type": "execute_result"
    }
   ],
   "source": [
    "gsmodel_3.best_estimator_"
   ]
  },
  {
   "cell_type": "code",
   "execution_count": 42,
   "metadata": {},
   "outputs": [
    {
     "data": {
      "image/png": "[encoded data removed]",
      "text/plain": [
       "<Figure size 432x288 with 1 Axes>"
      ]
     },
     "metadata": {
      "needs_background": "light"
     },
     "output_type": "display_data"
    }
   ],
   "source": [
    "plot_roc(gsmodel_3.best_estimator_,X_test,Y_test)"
   ]
  },
  {
   "cell_type": "code",
   "execution_count": 43,
   "metadata": {},
   "outputs": [
    {
     "data": {
      "text/html": [
       "<div>\n",
       "<style scoped>\n",
       "    .dataframe tbody tr th:only-of-type {\n",
       "        vertical-align: middle;\n",
       "    }\n",
       "\n",
       "    .dataframe tbody tr th {\n",
       "        vertical-align: top;\n",
       "    }\n",
       "\n",
       "    .dataframe thead th {\n",
       "        text-align: right;\n",
       "    }\n",
       "</style>\n",
       "<table border=\"1\" class=\"dataframe\">\n",
       "  <thead>\n",
       "    <tr style=\"text-align: right;\">\n",
       "      <th></th>\n",
       "      <th>score</th>\n",
       "    </tr>\n",
       "  </thead>\n",
       "  <tbody>\n",
       "    <tr>\n",
       "      <th>CPL_wrt_self</th>\n",
       "      <td>0.183981</td>\n",
       "    </tr>\n",
       "    <tr>\n",
       "      <th>duration</th>\n",
       "      <td>0.146368</td>\n",
       "    </tr>\n",
       "    <tr>\n",
       "      <th>CPL_wrt_BC</th>\n",
       "      <td>0.143836</td>\n",
       "    </tr>\n",
       "    <tr>\n",
       "      <th>avg_budget</th>\n",
       "      <td>0.134828</td>\n",
       "    </tr>\n",
       "    <tr>\n",
       "      <th>clicks</th>\n",
       "      <td>0.097361</td>\n",
       "    </tr>\n",
       "    <tr>\n",
       "      <th>calls</th>\n",
       "      <td>0.062223</td>\n",
       "    </tr>\n",
       "    <tr>\n",
       "      <th>num_prods</th>\n",
       "      <td>0.019061</td>\n",
       "    </tr>\n",
       "    <tr>\n",
       "      <th>BC_Home &amp; Home Improvement</th>\n",
       "      <td>0.014129</td>\n",
       "    </tr>\n",
       "    <tr>\n",
       "      <th>client_state_CA</th>\n",
       "      <td>0.010513</td>\n",
       "    </tr>\n",
       "    <tr>\n",
       "      <th>client_state_Other_states</th>\n",
       "      <td>0.009747</td>\n",
       "    </tr>\n",
       "    <tr>\n",
       "      <th>BC_Shopping, Collectibles &amp; Gifts (General)</th>\n",
       "      <td>0.009561</td>\n",
       "    </tr>\n",
       "    <tr>\n",
       "      <th>BC_Automotive -- For Sale</th>\n",
       "      <td>0.007682</td>\n",
       "    </tr>\n",
       "    <tr>\n",
       "      <th>BC_Automotive -- Repair, Service &amp; Parts</th>\n",
       "      <td>0.007181</td>\n",
       "    </tr>\n",
       "    <tr>\n",
       "      <th>client_state_FL</th>\n",
       "      <td>0.006864</td>\n",
       "    </tr>\n",
       "    <tr>\n",
       "      <th>client_state_PA</th>\n",
       "      <td>0.006649</td>\n",
       "    </tr>\n",
       "    <tr>\n",
       "      <th>BC_Education &amp; Instruction</th>\n",
       "      <td>0.006617</td>\n",
       "    </tr>\n",
       "    <tr>\n",
       "      <th>BC_Physicians &amp; Surgeons</th>\n",
       "      <td>0.006145</td>\n",
       "    </tr>\n",
       "    <tr>\n",
       "      <th>client_state_TX</th>\n",
       "      <td>0.006134</td>\n",
       "    </tr>\n",
       "    <tr>\n",
       "      <th>client_state_IL</th>\n",
       "      <td>0.005881</td>\n",
       "    </tr>\n",
       "    <tr>\n",
       "      <th>BC_Attorneys &amp; Legal Services</th>\n",
       "      <td>0.005406</td>\n",
       "    </tr>\n",
       "  </tbody>\n",
       "</table>\n",
       "</div>"
      ],
      "text/plain": [
       "                                                score\n",
       "CPL_wrt_self                                 0.183981\n",
       "duration                                     0.146368\n",
       "CPL_wrt_BC                                   0.143836\n",
       "avg_budget                                   0.134828\n",
       "clicks                                       0.097361\n",
       "calls                                        0.062223\n",
       "num_prods                                    0.019061\n",
       "BC_Home & Home Improvement                   0.014129\n",
       "client_state_CA                              0.010513\n",
       "client_state_Other_states                    0.009747\n",
       "BC_Shopping, Collectibles & Gifts (General)  0.009561\n",
       "BC_Automotive -- For Sale                    0.007682\n",
       "BC_Automotive -- Repair, Service & Parts     0.007181\n",
       "client_state_FL                              0.006864\n",
       "client_state_PA                              0.006649\n",
       "BC_Education & Instruction                   0.006617\n",
       "BC_Physicians & Surgeons                     0.006145\n",
       "client_state_TX                              0.006134\n",
       "client_state_IL                              0.005881\n",
       "BC_Attorneys & Legal Services                0.005406"
      ]
     },
     "execution_count": 43,
     "metadata": {},
     "output_type": "execute_result"
    }
   ],
   "source": [
    "# examining the feature importances\n",
    "pd.DataFrame(index=x.columns, data=np.transpose(gsmodel_3.best_estimator_.feature_importances_ ),columns=['score']).sort_values(by='score',ascending=False).head(20)"
   ]
  },
  {
   "cell_type": "markdown",
   "metadata": {},
   "source": [
    "### d. Gradient Boosting "
   ]
  },
  {
   "cell_type": "code",
   "execution_count": 44,
   "metadata": {},
   "outputs": [],
   "source": [
    "from sklearn.ensemble import GradientBoostingClassifier"
   ]
  },
  {
   "cell_type": "code",
   "execution_count": 45,
   "metadata": {},
   "outputs": [
    {
     "name": "stdout",
     "output_type": "stream",
     "text": [
      "Wall time: 28.5 s\n"
     ]
    }
   ],
   "source": [
    "%%time\n",
    "gb_params = {'subsample': [1., .8, .5]}\n",
    "\n",
    "gsmodel_4 = GridSearchCV(GradientBoostingClassifier(), gb_params, cv=4)\n",
    "gsmodel_4.fit(X_train,Y_train)"
   ]
  },
  {
   "cell_type": "code",
   "execution_count": 46,
   "metadata": {},
   "outputs": [
    {
     "name": "stdout",
     "output_type": "stream",
     "text": [
      "Accuracy:  0.822\n",
      "Confusion matrix:\n",
      "[[1554   46]\n",
      " [ 310   90]]\n",
      "ROC:  0.598125\n",
      "              precision    recall  f1-score   support\n",
      "\n",
      "           0       0.83      0.97      0.90      1600\n",
      "           1       0.66      0.23      0.34       400\n",
      "\n",
      "   micro avg       0.82      0.82      0.82      2000\n",
      "   macro avg       0.75      0.60      0.62      2000\n",
      "weighted avg       0.80      0.82      0.78      2000\n",
      "\n"
     ]
    }
   ],
   "source": [
    "model_accuracy(gsmodel_4.best_estimator_,X_test,Y_test)"
   ]
  },
  {
   "cell_type": "code",
   "execution_count": 47,
   "metadata": {},
   "outputs": [
    {
     "data": {
      "text/plain": [
       "GradientBoostingClassifier(criterion='friedman_mse', init=None,\n",
       "              learning_rate=0.1, loss='deviance', max_depth=3,\n",
       "              max_features=None, max_leaf_nodes=None,\n",
       "              min_impurity_decrease=0.0, min_impurity_split=None,\n",
       "              min_samples_leaf=1, min_samples_split=2,\n",
       "              min_weight_fraction_leaf=0.0, n_estimators=100,\n",
       "              n_iter_no_change=None, presort='auto', random_state=None,\n",
       "              subsample=1.0, tol=0.0001, validation_fraction=0.1,\n",
       "              verbose=0, warm_start=False)"
      ]
     },
     "execution_count": 47,
     "metadata": {},
     "output_type": "execute_result"
    }
   ],
   "source": [
    "gsmodel_4.best_estimator_"
   ]
  },
  {
   "cell_type": "code",
   "execution_count": 48,
   "metadata": {},
   "outputs": [
    {
     "data": {
      "text/html": [
       "<div>\n",
       "<style scoped>\n",
       "    .dataframe tbody tr th:only-of-type {\n",
       "        vertical-align: middle;\n",
       "    }\n",
       "\n",
       "    .dataframe tbody tr th {\n",
       "        vertical-align: top;\n",
       "    }\n",
       "\n",
       "    .dataframe thead th {\n",
       "        text-align: right;\n",
       "    }\n",
       "</style>\n",
       "<table border=\"1\" class=\"dataframe\">\n",
       "  <thead>\n",
       "    <tr style=\"text-align: right;\">\n",
       "      <th></th>\n",
       "      <th>score</th>\n",
       "    </tr>\n",
       "  </thead>\n",
       "  <tbody>\n",
       "    <tr>\n",
       "      <th>duration</th>\n",
       "      <td>0.434503</td>\n",
       "    </tr>\n",
       "    <tr>\n",
       "      <th>CPL_wrt_self</th>\n",
       "      <td>0.230864</td>\n",
       "    </tr>\n",
       "    <tr>\n",
       "      <th>CPL_wrt_BC</th>\n",
       "      <td>0.158635</td>\n",
       "    </tr>\n",
       "    <tr>\n",
       "      <th>avg_budget</th>\n",
       "      <td>0.078755</td>\n",
       "    </tr>\n",
       "    <tr>\n",
       "      <th>BC_Shopping, Collectibles &amp; Gifts (General)</th>\n",
       "      <td>0.025027</td>\n",
       "    </tr>\n",
       "    <tr>\n",
       "      <th>clicks</th>\n",
       "      <td>0.010395</td>\n",
       "    </tr>\n",
       "    <tr>\n",
       "      <th>BC_Education &amp; Instruction</th>\n",
       "      <td>0.006903</td>\n",
       "    </tr>\n",
       "    <tr>\n",
       "      <th>calls</th>\n",
       "      <td>0.006051</td>\n",
       "    </tr>\n",
       "    <tr>\n",
       "      <th>BC_Furniture</th>\n",
       "      <td>0.006040</td>\n",
       "    </tr>\n",
       "    <tr>\n",
       "      <th>BC_Automotive -- For Sale</th>\n",
       "      <td>0.005589</td>\n",
       "    </tr>\n",
       "    <tr>\n",
       "      <th>BC_Arts &amp; Entertainment</th>\n",
       "      <td>0.004682</td>\n",
       "    </tr>\n",
       "    <tr>\n",
       "      <th>BC_Automotive -- Repair, Service &amp; Parts</th>\n",
       "      <td>0.004185</td>\n",
       "    </tr>\n",
       "    <tr>\n",
       "      <th>BC_Animals &amp; Pets</th>\n",
       "      <td>0.002993</td>\n",
       "    </tr>\n",
       "    <tr>\n",
       "      <th>BC_Finance &amp; Insurance</th>\n",
       "      <td>0.002786</td>\n",
       "    </tr>\n",
       "    <tr>\n",
       "      <th>client_state_PA</th>\n",
       "      <td>0.002641</td>\n",
       "    </tr>\n",
       "    <tr>\n",
       "      <th>BC_Career &amp; Employment</th>\n",
       "      <td>0.002429</td>\n",
       "    </tr>\n",
       "    <tr>\n",
       "      <th>client_state_OR</th>\n",
       "      <td>0.002198</td>\n",
       "    </tr>\n",
       "    <tr>\n",
       "      <th>client_state_GA</th>\n",
       "      <td>0.002008</td>\n",
       "    </tr>\n",
       "    <tr>\n",
       "      <th>client_state_CO</th>\n",
       "      <td>0.001707</td>\n",
       "    </tr>\n",
       "    <tr>\n",
       "      <th>BC_Home &amp; Home Improvement</th>\n",
       "      <td>0.001682</td>\n",
       "    </tr>\n",
       "  </tbody>\n",
       "</table>\n",
       "</div>"
      ],
      "text/plain": [
       "                                                score\n",
       "duration                                     0.434503\n",
       "CPL_wrt_self                                 0.230864\n",
       "CPL_wrt_BC                                   0.158635\n",
       "avg_budget                                   0.078755\n",
       "BC_Shopping, Collectibles & Gifts (General)  0.025027\n",
       "clicks                                       0.010395\n",
       "BC_Education & Instruction                   0.006903\n",
       "calls                                        0.006051\n",
       "BC_Furniture                                 0.006040\n",
       "BC_Automotive -- For Sale                    0.005589\n",
       "BC_Arts & Entertainment                      0.004682\n",
       "BC_Automotive -- Repair, Service & Parts     0.004185\n",
       "BC_Animals & Pets                            0.002993\n",
       "BC_Finance & Insurance                       0.002786\n",
       "client_state_PA                              0.002641\n",
       "BC_Career & Employment                       0.002429\n",
       "client_state_OR                              0.002198\n",
       "client_state_GA                              0.002008\n",
       "client_state_CO                              0.001707\n",
       "BC_Home & Home Improvement                   0.001682"
      ]
     },
     "execution_count": 48,
     "metadata": {},
     "output_type": "execute_result"
    }
   ],
   "source": [
    "# examining the feature importances\n",
    "pd.DataFrame(index=x.columns, data=np.transpose(gsmodel_4.best_estimator_.feature_importances_ ),columns=['score']).sort_values(by='score',ascending=False).head(20)"
   ]
  },
  {
   "cell_type": "markdown",
   "metadata": {},
   "source": [
    "## Evaluation a model"
   ]
  },
  {
   "cell_type": "markdown",
   "metadata": {},
   "source": [
    "- Our models are highly specific but sensitive. <br>\n",
    "- Because false positives (clients are retention that are flagged to be ‘churn’) are more acceptable than false negatives (clients will stop running advertising that are not detected). <br>\n",
    "- So, it should choice recall and precision for evaluation. <br>"
   ]
  },
  {
   "cell_type": "markdown",
   "metadata": {},
   "source": [
    "### Adjust threshold\n",
    "Optimize is to maximize recall and precision."
   ]
  },
  {
   "cell_type": "markdown",
   "metadata": {},
   "source": [
    "Let's take a look at Gradient Boost model:\n"
   ]
  },
  {
   "cell_type": "code",
   "execution_count": 49,
   "metadata": {},
   "outputs": [
    {
     "data": {
      "text/plain": [
       "array([[0.94483182, 0.05516818],\n",
       "       [0.71314007, 0.28685993],\n",
       "       [0.87780185, 0.12219815],\n",
       "       ...,\n",
       "       [0.76361276, 0.23638724],\n",
       "       [0.26155858, 0.73844142],\n",
       "       [0.70785852, 0.29214148]])"
      ]
     },
     "execution_count": 49,
     "metadata": {},
     "output_type": "execute_result"
    }
   ],
   "source": [
    "# probability for classification\n",
    "model = gsmodel_4.best_estimator_\n",
    "model.predict_proba(X_test)"
   ]
  },
  {
   "cell_type": "code",
   "execution_count": 50,
   "metadata": {},
   "outputs": [],
   "source": [
    "# predict for class 1\n",
    "ypre_1 = model.predict_proba(X_test)[:,1]"
   ]
  },
  {
   "cell_type": "code",
   "execution_count": 51,
   "metadata": {},
   "outputs": [
    {
     "data": {
      "image/png": "[encoded data removed]",
      "text/plain": [
       "<Figure size 432x288 with 1 Axes>"
      ]
     },
     "metadata": {
      "needs_background": "light"
     },
     "output_type": "display_data"
    }
   ],
   "source": [
    "plt.hist(ypre_1)\n",
    "plt.title('Histogram of predicted probabilities')\n",
    "plt.xlabel('Predicted probability for class 1 (chunk)')\n",
    "plt.ylabel('Frequency')\n",
    "plt.show()"
   ]
  },
  {
   "cell_type": "markdown",
   "metadata": {},
   "source": [
    "It indicates that:\n",
    "- More than 70% of observations have probability less than 0.25\n",
    "- Small number of observations with probability > 0.5\n",
    "- This is below the threshold of 0.5\n",
    "- Most would be predicted 'retention' (class 0) "
   ]
  },
  {
   "cell_type": "markdown",
   "metadata": {},
   "source": [
    "### a. Logistic regression"
   ]
  },
  {
   "cell_type": "code",
   "execution_count": 52,
   "metadata": {},
   "outputs": [
    {
     "name": "stdout",
     "output_type": "stream",
     "text": [
      "Threshold:  0.3\n",
      "Accuracy:  0.8\n",
      "Confusion matrix:\n",
      "[[1600    0]\n",
      " [ 400    0]]\n",
      "ROC:  0.5\n",
      "              precision    recall  f1-score   support\n",
      "\n",
      "           0       0.80      1.00      0.89      1600\n",
      "           1       0.00      0.00      0.00       400\n",
      "\n",
      "   micro avg       0.80      0.80      0.80      2000\n",
      "   macro avg       0.40      0.50      0.44      2000\n",
      "weighted avg       0.64      0.80      0.71      2000\n",
      "\n"
     ]
    }
   ],
   "source": [
    "adjust_threshold(gsmodel_1,X_test,Y_test,0.3)"
   ]
  },
  {
   "cell_type": "code",
   "execution_count": 53,
   "metadata": {},
   "outputs": [
    {
     "name": "stdout",
     "output_type": "stream",
     "text": [
      "Threshold:  0.25\n",
      "Accuracy:  0.758\n",
      "Confusion matrix:\n",
      "[[1473  127]\n",
      " [ 357   43]]\n",
      "ROC:  0.5140625\n",
      "              precision    recall  f1-score   support\n",
      "\n",
      "           0       0.80      0.92      0.86      1600\n",
      "           1       0.25      0.11      0.15       400\n",
      "\n",
      "   micro avg       0.76      0.76      0.76      2000\n",
      "   macro avg       0.53      0.51      0.50      2000\n",
      "weighted avg       0.69      0.76      0.72      2000\n",
      "\n"
     ]
    }
   ],
   "source": [
    "adjust_threshold(gsmodel_1,X_test,Y_test,0.25)"
   ]
  },
  {
   "cell_type": "code",
   "execution_count": 54,
   "metadata": {
    "scrolled": true
   },
   "outputs": [
    {
     "name": "stdout",
     "output_type": "stream",
     "text": [
      "Threshold:  0.2\n",
      "Accuracy:  0.446\n",
      "Confusion matrix:\n",
      "[[ 591 1009]\n",
      " [  99  301]]\n",
      "ROC:  0.5609375\n",
      "              precision    recall  f1-score   support\n",
      "\n",
      "           0       0.86      0.37      0.52      1600\n",
      "           1       0.23      0.75      0.35       400\n",
      "\n",
      "   micro avg       0.45      0.45      0.45      2000\n",
      "   macro avg       0.54      0.56      0.43      2000\n",
      "weighted avg       0.73      0.45      0.48      2000\n",
      "\n"
     ]
    }
   ],
   "source": [
    "adjust_threshold(gsmodel_1,X_test,Y_test,0.2)"
   ]
  },
  {
   "cell_type": "markdown",
   "metadata": {},
   "source": [
    "### b. Decision tree"
   ]
  },
  {
   "cell_type": "code",
   "execution_count": 55,
   "metadata": {
    "scrolled": true
   },
   "outputs": [
    {
     "name": "stdout",
     "output_type": "stream",
     "text": [
      "Threshold:  0.3\n",
      "Accuracy:  0.7305\n",
      "Confusion matrix:\n",
      "[[1267  333]\n",
      " [ 206  194]]\n",
      "ROC:  0.6384375\n",
      "              precision    recall  f1-score   support\n",
      "\n",
      "           0       0.86      0.79      0.82      1600\n",
      "           1       0.37      0.48      0.42       400\n",
      "\n",
      "   micro avg       0.73      0.73      0.73      2000\n",
      "   macro avg       0.61      0.64      0.62      2000\n",
      "weighted avg       0.76      0.73      0.74      2000\n",
      "\n"
     ]
    }
   ],
   "source": [
    "adjust_threshold(gsmodel_2,X_test,Y_test,0.3)"
   ]
  },
  {
   "cell_type": "code",
   "execution_count": 56,
   "metadata": {},
   "outputs": [
    {
     "name": "stdout",
     "output_type": "stream",
     "text": [
      "Threshold:  0.2\n",
      "Accuracy:  0.684\n",
      "Confusion matrix:\n",
      "[[1133  467]\n",
      " [ 165  235]]\n",
      "ROC:  0.6478125\n",
      "              precision    recall  f1-score   support\n",
      "\n",
      "           0       0.87      0.71      0.78      1600\n",
      "           1       0.33      0.59      0.43       400\n",
      "\n",
      "   micro avg       0.68      0.68      0.68      2000\n",
      "   macro avg       0.60      0.65      0.60      2000\n",
      "weighted avg       0.77      0.68      0.71      2000\n",
      "\n"
     ]
    }
   ],
   "source": [
    "adjust_threshold(gsmodel_2,X_test,Y_test,0.2)"
   ]
  },
  {
   "cell_type": "markdown",
   "metadata": {},
   "source": [
    "### c. Random forest"
   ]
  },
  {
   "cell_type": "code",
   "execution_count": 57,
   "metadata": {},
   "outputs": [
    {
     "name": "stdout",
     "output_type": "stream",
     "text": [
      "Threshold:  0.3\n",
      "Accuracy:  0.767\n",
      "Confusion matrix:\n",
      "[[1349  251]\n",
      " [ 215  185]]\n",
      "ROC:  0.6528125\n",
      "              precision    recall  f1-score   support\n",
      "\n",
      "           0       0.86      0.84      0.85      1600\n",
      "           1       0.42      0.46      0.44       400\n",
      "\n",
      "   micro avg       0.77      0.77      0.77      2000\n",
      "   macro avg       0.64      0.65      0.65      2000\n",
      "weighted avg       0.77      0.77      0.77      2000\n",
      "\n"
     ]
    }
   ],
   "source": [
    "adjust_threshold(gsmodel_3,X_test,Y_test,0.3)"
   ]
  },
  {
   "cell_type": "code",
   "execution_count": 58,
   "metadata": {},
   "outputs": [
    {
     "name": "stdout",
     "output_type": "stream",
     "text": [
      "Threshold:  0.2\n",
      "Accuracy:  0.658\n",
      "Confusion matrix:\n",
      "[[1059  541]\n",
      " [ 143  257]]\n",
      "ROC:  0.6521875\n",
      "              precision    recall  f1-score   support\n",
      "\n",
      "           0       0.88      0.66      0.76      1600\n",
      "           1       0.32      0.64      0.43       400\n",
      "\n",
      "   micro avg       0.66      0.66      0.66      2000\n",
      "   macro avg       0.60      0.65      0.59      2000\n",
      "weighted avg       0.77      0.66      0.69      2000\n",
      "\n"
     ]
    }
   ],
   "source": [
    "adjust_threshold(gsmodel_3,X_test,Y_test,0.2)"
   ]
  },
  {
   "cell_type": "markdown",
   "metadata": {},
   "source": [
    "### d. Gradient Boosting"
   ]
  },
  {
   "cell_type": "code",
   "execution_count": 59,
   "metadata": {},
   "outputs": [
    {
     "name": "stdout",
     "output_type": "stream",
     "text": [
      "Threshold:  0.3\n",
      "Accuracy:  0.807\n",
      "Confusion matrix:\n",
      "[[1432  168]\n",
      " [ 218  182]]\n",
      "ROC:  0.675\n",
      "              precision    recall  f1-score   support\n",
      "\n",
      "           0       0.87      0.90      0.88      1600\n",
      "           1       0.52      0.46      0.49       400\n",
      "\n",
      "   micro avg       0.81      0.81      0.81      2000\n",
      "   macro avg       0.69      0.68      0.68      2000\n",
      "weighted avg       0.80      0.81      0.80      2000\n",
      "\n"
     ]
    }
   ],
   "source": [
    "adjust_threshold(gsmodel_4,X_test,Y_test,0.3)"
   ]
  },
  {
   "cell_type": "code",
   "execution_count": 60,
   "metadata": {},
   "outputs": [
    {
     "name": "stdout",
     "output_type": "stream",
     "text": [
      "Threshold:  0.25\n",
      "Accuracy:  0.787\n",
      "Confusion matrix:\n",
      "[[1354  246]\n",
      " [ 180  220]]\n",
      "ROC:  0.698125\n",
      "              precision    recall  f1-score   support\n",
      "\n",
      "           0       0.88      0.85      0.86      1600\n",
      "           1       0.47      0.55      0.51       400\n",
      "\n",
      "   micro avg       0.79      0.79      0.79      2000\n",
      "   macro avg       0.68      0.70      0.69      2000\n",
      "weighted avg       0.80      0.79      0.79      2000\n",
      "\n"
     ]
    }
   ],
   "source": [
    "adjust_threshold(gsmodel_4,X_test,Y_test,0.25)"
   ]
  },
  {
   "cell_type": "code",
   "execution_count": 61,
   "metadata": {},
   "outputs": [
    {
     "name": "stdout",
     "output_type": "stream",
     "text": [
      "Threshold:  0.2\n",
      "Accuracy:  0.7525\n",
      "Confusion matrix:\n",
      "[[1247  353]\n",
      " [ 142  258]]\n",
      "ROC:  0.7121875\n",
      "              precision    recall  f1-score   support\n",
      "\n",
      "           0       0.90      0.78      0.83      1600\n",
      "           1       0.42      0.65      0.51       400\n",
      "\n",
      "   micro avg       0.75      0.75      0.75      2000\n",
      "   macro avg       0.66      0.71      0.67      2000\n",
      "weighted avg       0.80      0.75      0.77      2000\n",
      "\n"
     ]
    }
   ],
   "source": [
    "adjust_threshold(gsmodel_4,X_test,Y_test,0.2)"
   ]
  }
 ],
 "metadata": {
  "kernelspec": {
   "display_name": "Python 3",
   "language": "python",
   "name": "python3"
  },
  "language_info": {
   "codemirror_mode": {
    "name": "ipython",
    "version": 3
   },
   "file_extension": ".py",
   "mimetype": "text/x-python",
   "name": "python",
   "nbconvert_exporter": "python",
   "pygments_lexer": "ipython3",
   "version": "3.7.0"
  }
 },
 "nbformat": 4,
 "nbformat_minor": 2
}
