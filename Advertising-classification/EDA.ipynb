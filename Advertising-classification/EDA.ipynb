{
 "cells": [
  {
   "cell_type": "code",
   "execution_count": 1,
   "metadata": {},
   "outputs": [],
   "source": [
    "import pandas as pd\n",
    "import numpy as np\n",
    "\n",
    "import matplotlib.pyplot as plt\n",
    "%matplotlib inline"
   ]
  },
  {
   "cell_type": "markdown",
   "metadata": {},
   "source": [
    "### 1. Load data"
   ]
  },
  {
   "cell_type": "code",
   "execution_count": 2,
   "metadata": {},
   "outputs": [
    {
     "data": {
      "text/plain": [
       "'CPL_wrt_BC,\\nclient_state,\\nduration,\\nnum_prods,\\ncalls,\\nCPL_wrt_self,\\nchurn,\\navg_budget,\\nBC,\\nclicks,\\n'"
      ]
     },
     "execution_count": 2,
     "metadata": {},
     "output_type": "execute_result"
    }
   ],
   "source": [
    "header_file = open('assets/header.txt','r')\n",
    "text = header_file.read()\n",
    "text"
   ]
  },
  {
   "cell_type": "code",
   "execution_count": 3,
   "metadata": {},
   "outputs": [
    {
     "data": {
      "text/plain": [
       "['CPL_wrt_BC',\n",
       " 'client_state',\n",
       " 'duration',\n",
       " 'num_prods',\n",
       " 'calls',\n",
       " 'CPL_wrt_self',\n",
       " 'churn',\n",
       " 'avg_budget',\n",
       " 'BC',\n",
       " 'clicks']"
      ]
     },
     "execution_count": 3,
     "metadata": {},
     "output_type": "execute_result"
    }
   ],
   "source": [
    "header = text.split(',\\n')[:-1]\n",
    "header"
   ]
  },
  {
   "cell_type": "code",
   "execution_count": 4,
   "metadata": {},
   "outputs": [
    {
     "data": {
      "text/html": [
       "<div>\n",
       "<style scoped>\n",
       "    .dataframe tbody tr th:only-of-type {\n",
       "        vertical-align: middle;\n",
       "    }\n",
       "\n",
       "    .dataframe tbody tr th {\n",
       "        vertical-align: top;\n",
       "    }\n",
       "\n",
       "    .dataframe thead th {\n",
       "        text-align: right;\n",
       "    }\n",
       "</style>\n",
       "<table border=\"1\" class=\"dataframe\">\n",
       "  <thead>\n",
       "    <tr style=\"text-align: right;\">\n",
       "      <th></th>\n",
       "      <th>CPL_wrt_BC</th>\n",
       "      <th>client_state</th>\n",
       "      <th>duration</th>\n",
       "      <th>num_prods</th>\n",
       "      <th>calls</th>\n",
       "      <th>CPL_wrt_self</th>\n",
       "      <th>churn</th>\n",
       "      <th>avg_budget</th>\n",
       "      <th>BC</th>\n",
       "      <th>clicks</th>\n",
       "    </tr>\n",
       "  </thead>\n",
       "  <tbody>\n",
       "    <tr>\n",
       "      <th>0</th>\n",
       "      <td>0.000000</td>\n",
       "      <td>AZ</td>\n",
       "      <td>73</td>\n",
       "      <td>6</td>\n",
       "      <td>2</td>\n",
       "      <td>NaN</td>\n",
       "      <td>1</td>\n",
       "      <td>10082.152554</td>\n",
       "      <td>Beauty &amp; Personal Care</td>\n",
       "      <td>107</td>\n",
       "    </tr>\n",
       "    <tr>\n",
       "      <th>1</th>\n",
       "      <td>-0.623618</td>\n",
       "      <td>CA</td>\n",
       "      <td>1</td>\n",
       "      <td>1</td>\n",
       "      <td>3</td>\n",
       "      <td>0.000000</td>\n",
       "      <td>0</td>\n",
       "      <td>133.928571</td>\n",
       "      <td>Shopping, Collectibles &amp; Gifts (General)</td>\n",
       "      <td>79</td>\n",
       "    </tr>\n",
       "    <tr>\n",
       "      <th>2</th>\n",
       "      <td>0.007905</td>\n",
       "      <td>NY</td>\n",
       "      <td>102</td>\n",
       "      <td>2</td>\n",
       "      <td>8</td>\n",
       "      <td>-0.292008</td>\n",
       "      <td>0</td>\n",
       "      <td>3935.017462</td>\n",
       "      <td>Personal Services (Weddings, Cleaners, etc.)</td>\n",
       "      <td>90</td>\n",
       "    </tr>\n",
       "    <tr>\n",
       "      <th>3</th>\n",
       "      <td>-0.104900</td>\n",
       "      <td>MN</td>\n",
       "      <td>6</td>\n",
       "      <td>1</td>\n",
       "      <td>5</td>\n",
       "      <td>0.587206</td>\n",
       "      <td>0</td>\n",
       "      <td>461.538462</td>\n",
       "      <td>Travel</td>\n",
       "      <td>112</td>\n",
       "    </tr>\n",
       "    <tr>\n",
       "      <th>4</th>\n",
       "      <td>-0.013057</td>\n",
       "      <td>NJ</td>\n",
       "      <td>34</td>\n",
       "      <td>1</td>\n",
       "      <td>6</td>\n",
       "      <td>-0.955335</td>\n",
       "      <td>1</td>\n",
       "      <td>314.705882</td>\n",
       "      <td>Health &amp; Fitness</td>\n",
       "      <td>95</td>\n",
       "    </tr>\n",
       "  </tbody>\n",
       "</table>\n",
       "</div>"
      ],
      "text/plain": [
       "   CPL_wrt_BC client_state  duration  num_prods  calls  CPL_wrt_self  churn  \\\n",
       "0    0.000000           AZ        73          6      2           NaN      1   \n",
       "1   -0.623618           CA         1          1      3      0.000000      0   \n",
       "2    0.007905           NY       102          2      8     -0.292008      0   \n",
       "3   -0.104900           MN         6          1      5      0.587206      0   \n",
       "4   -0.013057           NJ        34          1      6     -0.955335      1   \n",
       "\n",
       "     avg_budget                                            BC  clicks  \n",
       "0  10082.152554                        Beauty & Personal Care     107  \n",
       "1    133.928571      Shopping, Collectibles & Gifts (General)      79  \n",
       "2   3935.017462  Personal Services (Weddings, Cleaners, etc.)      90  \n",
       "3    461.538462                                        Travel     112  \n",
       "4    314.705882                              Health & Fitness      95  "
      ]
     },
     "execution_count": 4,
     "metadata": {},
     "output_type": "execute_result"
    }
   ],
   "source": [
    "df = pd.read_csv('assets/data.csv',names=header)\n",
    "df.head()"
   ]
  },
  {
   "cell_type": "code",
   "execution_count": 5,
   "metadata": {},
   "outputs": [
    {
     "name": "stdout",
     "output_type": "stream",
     "text": [
      "<class 'pandas.core.frame.DataFrame'>\n",
      "RangeIndex: 10000 entries, 0 to 9999\n",
      "Data columns (total 10 columns):\n",
      "CPL_wrt_BC      10000 non-null float64\n",
      "client_state    10000 non-null object\n",
      "duration        10000 non-null int64\n",
      "num_prods       10000 non-null int64\n",
      "calls           10000 non-null int64\n",
      "CPL_wrt_self    8908 non-null float64\n",
      "churn           10000 non-null int64\n",
      "avg_budget      10000 non-null float64\n",
      "BC              10000 non-null object\n",
      "clicks          10000 non-null int64\n",
      "dtypes: float64(3), int64(5), object(2)\n",
      "memory usage: 781.3+ KB\n"
     ]
    }
   ],
   "source": [
    "df.info()"
   ]
  },
  {
   "cell_type": "code",
   "execution_count": 6,
   "metadata": {
    "scrolled": true
   },
   "outputs": [
    {
     "data": {
      "text/html": [
       "<div>\n",
       "<style scoped>\n",
       "    .dataframe tbody tr th:only-of-type {\n",
       "        vertical-align: middle;\n",
       "    }\n",
       "\n",
       "    .dataframe tbody tr th {\n",
       "        vertical-align: top;\n",
       "    }\n",
       "\n",
       "    .dataframe thead th {\n",
       "        text-align: right;\n",
       "    }\n",
       "</style>\n",
       "<table border=\"1\" class=\"dataframe\">\n",
       "  <thead>\n",
       "    <tr style=\"text-align: right;\">\n",
       "      <th></th>\n",
       "      <th>CPL_wrt_BC</th>\n",
       "      <th>client_state</th>\n",
       "      <th>duration</th>\n",
       "      <th>num_prods</th>\n",
       "      <th>calls</th>\n",
       "      <th>CPL_wrt_self</th>\n",
       "      <th>churn</th>\n",
       "      <th>avg_budget</th>\n",
       "      <th>BC</th>\n",
       "      <th>clicks</th>\n",
       "    </tr>\n",
       "  </thead>\n",
       "  <tbody>\n",
       "    <tr>\n",
       "      <th>0</th>\n",
       "      <td>0.000000</td>\n",
       "      <td>AZ</td>\n",
       "      <td>73</td>\n",
       "      <td>6</td>\n",
       "      <td>2</td>\n",
       "      <td>NaN</td>\n",
       "      <td>1</td>\n",
       "      <td>10082.152554</td>\n",
       "      <td>Beauty &amp; Personal Care</td>\n",
       "      <td>107</td>\n",
       "    </tr>\n",
       "    <tr>\n",
       "      <th>8</th>\n",
       "      <td>0.000000</td>\n",
       "      <td>MD</td>\n",
       "      <td>53</td>\n",
       "      <td>2</td>\n",
       "      <td>3</td>\n",
       "      <td>NaN</td>\n",
       "      <td>0</td>\n",
       "      <td>2812.286923</td>\n",
       "      <td>Home &amp; Home Improvement</td>\n",
       "      <td>113</td>\n",
       "    </tr>\n",
       "    <tr>\n",
       "      <th>21</th>\n",
       "      <td>0.000000</td>\n",
       "      <td>WA</td>\n",
       "      <td>36</td>\n",
       "      <td>4</td>\n",
       "      <td>1</td>\n",
       "      <td>NaN</td>\n",
       "      <td>0</td>\n",
       "      <td>2257.655829</td>\n",
       "      <td>Home &amp; Home Improvement</td>\n",
       "      <td>73</td>\n",
       "    </tr>\n",
       "    <tr>\n",
       "      <th>35</th>\n",
       "      <td>0.000000</td>\n",
       "      <td>CA</td>\n",
       "      <td>108</td>\n",
       "      <td>3</td>\n",
       "      <td>4</td>\n",
       "      <td>NaN</td>\n",
       "      <td>0</td>\n",
       "      <td>510.823940</td>\n",
       "      <td>Home &amp; Home Improvement</td>\n",
       "      <td>132</td>\n",
       "    </tr>\n",
       "    <tr>\n",
       "      <th>68</th>\n",
       "      <td>0.000000</td>\n",
       "      <td>IL</td>\n",
       "      <td>40</td>\n",
       "      <td>4</td>\n",
       "      <td>8</td>\n",
       "      <td>NaN</td>\n",
       "      <td>0</td>\n",
       "      <td>7924.382535</td>\n",
       "      <td>Home &amp; Home Improvement</td>\n",
       "      <td>65</td>\n",
       "    </tr>\n",
       "    <tr>\n",
       "      <th>85</th>\n",
       "      <td>0.000000</td>\n",
       "      <td>GA</td>\n",
       "      <td>62</td>\n",
       "      <td>4</td>\n",
       "      <td>2</td>\n",
       "      <td>NaN</td>\n",
       "      <td>0</td>\n",
       "      <td>1438.468633</td>\n",
       "      <td>Furniture</td>\n",
       "      <td>129</td>\n",
       "    </tr>\n",
       "    <tr>\n",
       "      <th>87</th>\n",
       "      <td>-0.111111</td>\n",
       "      <td>CA</td>\n",
       "      <td>56</td>\n",
       "      <td>2</td>\n",
       "      <td>4</td>\n",
       "      <td>NaN</td>\n",
       "      <td>1</td>\n",
       "      <td>2096.359612</td>\n",
       "      <td>Home &amp; Home Improvement</td>\n",
       "      <td>131</td>\n",
       "    </tr>\n",
       "    <tr>\n",
       "      <th>105</th>\n",
       "      <td>0.000000</td>\n",
       "      <td>NY</td>\n",
       "      <td>36</td>\n",
       "      <td>3</td>\n",
       "      <td>2</td>\n",
       "      <td>NaN</td>\n",
       "      <td>0</td>\n",
       "      <td>2092.187653</td>\n",
       "      <td>Home &amp; Home Improvement</td>\n",
       "      <td>65</td>\n",
       "    </tr>\n",
       "    <tr>\n",
       "      <th>108</th>\n",
       "      <td>0.000000</td>\n",
       "      <td>FL</td>\n",
       "      <td>31</td>\n",
       "      <td>2</td>\n",
       "      <td>9</td>\n",
       "      <td>NaN</td>\n",
       "      <td>0</td>\n",
       "      <td>1558.546529</td>\n",
       "      <td>Home &amp; Home Improvement</td>\n",
       "      <td>97</td>\n",
       "    </tr>\n",
       "    <tr>\n",
       "      <th>114</th>\n",
       "      <td>-0.094938</td>\n",
       "      <td>NH</td>\n",
       "      <td>6</td>\n",
       "      <td>1</td>\n",
       "      <td>7</td>\n",
       "      <td>NaN</td>\n",
       "      <td>0</td>\n",
       "      <td>1606.624487</td>\n",
       "      <td>Automotive -- For Sale</td>\n",
       "      <td>101</td>\n",
       "    </tr>\n",
       "    <tr>\n",
       "      <th>118</th>\n",
       "      <td>-0.815279</td>\n",
       "      <td>CA</td>\n",
       "      <td>2</td>\n",
       "      <td>1</td>\n",
       "      <td>9</td>\n",
       "      <td>NaN</td>\n",
       "      <td>1</td>\n",
       "      <td>750.000000</td>\n",
       "      <td>Automotive -- For Sale</td>\n",
       "      <td>99</td>\n",
       "    </tr>\n",
       "    <tr>\n",
       "      <th>135</th>\n",
       "      <td>0.000000</td>\n",
       "      <td>AZ</td>\n",
       "      <td>63</td>\n",
       "      <td>1</td>\n",
       "      <td>3</td>\n",
       "      <td>NaN</td>\n",
       "      <td>1</td>\n",
       "      <td>730.515640</td>\n",
       "      <td>Automotive -- Repair, Service &amp; Parts</td>\n",
       "      <td>113</td>\n",
       "    </tr>\n",
       "    <tr>\n",
       "      <th>140</th>\n",
       "      <td>0.000000</td>\n",
       "      <td>CA</td>\n",
       "      <td>80</td>\n",
       "      <td>3</td>\n",
       "      <td>4</td>\n",
       "      <td>NaN</td>\n",
       "      <td>0</td>\n",
       "      <td>1743.271424</td>\n",
       "      <td>Home &amp; Home Improvement</td>\n",
       "      <td>107</td>\n",
       "    </tr>\n",
       "    <tr>\n",
       "      <th>163</th>\n",
       "      <td>0.442341</td>\n",
       "      <td>NY</td>\n",
       "      <td>1</td>\n",
       "      <td>1</td>\n",
       "      <td>6</td>\n",
       "      <td>NaN</td>\n",
       "      <td>1</td>\n",
       "      <td>1487.068966</td>\n",
       "      <td>Home &amp; Home Improvement</td>\n",
       "      <td>88</td>\n",
       "    </tr>\n",
       "    <tr>\n",
       "      <th>179</th>\n",
       "      <td>-0.084025</td>\n",
       "      <td>CA</td>\n",
       "      <td>2</td>\n",
       "      <td>1</td>\n",
       "      <td>4</td>\n",
       "      <td>NaN</td>\n",
       "      <td>1</td>\n",
       "      <td>165.000000</td>\n",
       "      <td>Travel</td>\n",
       "      <td>89</td>\n",
       "    </tr>\n",
       "    <tr>\n",
       "      <th>201</th>\n",
       "      <td>0.000000</td>\n",
       "      <td>CA</td>\n",
       "      <td>36</td>\n",
       "      <td>2</td>\n",
       "      <td>0</td>\n",
       "      <td>NaN</td>\n",
       "      <td>0</td>\n",
       "      <td>1807.559321</td>\n",
       "      <td>Physicians &amp; Surgeons</td>\n",
       "      <td>114</td>\n",
       "    </tr>\n",
       "    <tr>\n",
       "      <th>203</th>\n",
       "      <td>0.000000</td>\n",
       "      <td>WA</td>\n",
       "      <td>3</td>\n",
       "      <td>2</td>\n",
       "      <td>8</td>\n",
       "      <td>NaN</td>\n",
       "      <td>1</td>\n",
       "      <td>4182.411674</td>\n",
       "      <td>Education &amp; Instruction</td>\n",
       "      <td>74</td>\n",
       "    </tr>\n",
       "    <tr>\n",
       "      <th>204</th>\n",
       "      <td>0.000000</td>\n",
       "      <td>MA</td>\n",
       "      <td>47</td>\n",
       "      <td>5</td>\n",
       "      <td>9</td>\n",
       "      <td>NaN</td>\n",
       "      <td>0</td>\n",
       "      <td>3501.314625</td>\n",
       "      <td>Automotive -- For Sale</td>\n",
       "      <td>63</td>\n",
       "    </tr>\n",
       "    <tr>\n",
       "      <th>222</th>\n",
       "      <td>0.000000</td>\n",
       "      <td>AZ</td>\n",
       "      <td>93</td>\n",
       "      <td>7</td>\n",
       "      <td>0</td>\n",
       "      <td>NaN</td>\n",
       "      <td>0</td>\n",
       "      <td>1639.350300</td>\n",
       "      <td>Physicians &amp; Surgeons</td>\n",
       "      <td>113</td>\n",
       "    </tr>\n",
       "    <tr>\n",
       "      <th>238</th>\n",
       "      <td>0.000000</td>\n",
       "      <td>MN</td>\n",
       "      <td>17</td>\n",
       "      <td>2</td>\n",
       "      <td>5</td>\n",
       "      <td>NaN</td>\n",
       "      <td>0</td>\n",
       "      <td>1027.822536</td>\n",
       "      <td>Sports &amp; Recreation</td>\n",
       "      <td>88</td>\n",
       "    </tr>\n",
       "    <tr>\n",
       "      <th>252</th>\n",
       "      <td>-0.111111</td>\n",
       "      <td>CA</td>\n",
       "      <td>9</td>\n",
       "      <td>1</td>\n",
       "      <td>5</td>\n",
       "      <td>NaN</td>\n",
       "      <td>1</td>\n",
       "      <td>885.521886</td>\n",
       "      <td>Industrial &amp; Commercial</td>\n",
       "      <td>99</td>\n",
       "    </tr>\n",
       "    <tr>\n",
       "      <th>263</th>\n",
       "      <td>0.000000</td>\n",
       "      <td>CO</td>\n",
       "      <td>73</td>\n",
       "      <td>3</td>\n",
       "      <td>0</td>\n",
       "      <td>NaN</td>\n",
       "      <td>0</td>\n",
       "      <td>4236.234957</td>\n",
       "      <td>Physicians &amp; Surgeons</td>\n",
       "      <td>85</td>\n",
       "    </tr>\n",
       "    <tr>\n",
       "      <th>264</th>\n",
       "      <td>0.000000</td>\n",
       "      <td>PA</td>\n",
       "      <td>24</td>\n",
       "      <td>2</td>\n",
       "      <td>3</td>\n",
       "      <td>NaN</td>\n",
       "      <td>0</td>\n",
       "      <td>2996.112226</td>\n",
       "      <td>Automotive -- For Sale</td>\n",
       "      <td>105</td>\n",
       "    </tr>\n",
       "    <tr>\n",
       "      <th>267</th>\n",
       "      <td>0.000000</td>\n",
       "      <td>CO</td>\n",
       "      <td>4</td>\n",
       "      <td>2</td>\n",
       "      <td>9</td>\n",
       "      <td>NaN</td>\n",
       "      <td>0</td>\n",
       "      <td>844.416667</td>\n",
       "      <td>Animals &amp; Pets</td>\n",
       "      <td>132</td>\n",
       "    </tr>\n",
       "    <tr>\n",
       "      <th>288</th>\n",
       "      <td>0.000000</td>\n",
       "      <td>IL</td>\n",
       "      <td>71</td>\n",
       "      <td>4</td>\n",
       "      <td>5</td>\n",
       "      <td>NaN</td>\n",
       "      <td>0</td>\n",
       "      <td>7152.142559</td>\n",
       "      <td>Education &amp; Instruction</td>\n",
       "      <td>107</td>\n",
       "    </tr>\n",
       "    <tr>\n",
       "      <th>294</th>\n",
       "      <td>-0.104889</td>\n",
       "      <td>NY</td>\n",
       "      <td>2</td>\n",
       "      <td>1</td>\n",
       "      <td>9</td>\n",
       "      <td>NaN</td>\n",
       "      <td>0</td>\n",
       "      <td>1141.666667</td>\n",
       "      <td>Home &amp; Home Improvement</td>\n",
       "      <td>94</td>\n",
       "    </tr>\n",
       "    <tr>\n",
       "      <th>301</th>\n",
       "      <td>0.000000</td>\n",
       "      <td>IL</td>\n",
       "      <td>42</td>\n",
       "      <td>1</td>\n",
       "      <td>9</td>\n",
       "      <td>NaN</td>\n",
       "      <td>0</td>\n",
       "      <td>10441.232048</td>\n",
       "      <td>Shopping, Collectibles &amp; Gifts (General)</td>\n",
       "      <td>131</td>\n",
       "    </tr>\n",
       "    <tr>\n",
       "      <th>302</th>\n",
       "      <td>0.000000</td>\n",
       "      <td>HI</td>\n",
       "      <td>14</td>\n",
       "      <td>2</td>\n",
       "      <td>5</td>\n",
       "      <td>NaN</td>\n",
       "      <td>0</td>\n",
       "      <td>1263.367429</td>\n",
       "      <td>Physicians &amp; Surgeons</td>\n",
       "      <td>85</td>\n",
       "    </tr>\n",
       "    <tr>\n",
       "      <th>332</th>\n",
       "      <td>0.924167</td>\n",
       "      <td>IL</td>\n",
       "      <td>1</td>\n",
       "      <td>1</td>\n",
       "      <td>5</td>\n",
       "      <td>NaN</td>\n",
       "      <td>1</td>\n",
       "      <td>1586.206897</td>\n",
       "      <td>Home &amp; Home Improvement</td>\n",
       "      <td>88</td>\n",
       "    </tr>\n",
       "    <tr>\n",
       "      <th>338</th>\n",
       "      <td>0.000000</td>\n",
       "      <td>NY</td>\n",
       "      <td>20</td>\n",
       "      <td>5</td>\n",
       "      <td>6</td>\n",
       "      <td>NaN</td>\n",
       "      <td>0</td>\n",
       "      <td>1302.596529</td>\n",
       "      <td>Home &amp; Home Improvement</td>\n",
       "      <td>69</td>\n",
       "    </tr>\n",
       "    <tr>\n",
       "      <th>...</th>\n",
       "      <td>...</td>\n",
       "      <td>...</td>\n",
       "      <td>...</td>\n",
       "      <td>...</td>\n",
       "      <td>...</td>\n",
       "      <td>...</td>\n",
       "      <td>...</td>\n",
       "      <td>...</td>\n",
       "      <td>...</td>\n",
       "      <td>...</td>\n",
       "    </tr>\n",
       "    <tr>\n",
       "      <th>9730</th>\n",
       "      <td>-0.111111</td>\n",
       "      <td>PA</td>\n",
       "      <td>14</td>\n",
       "      <td>1</td>\n",
       "      <td>4</td>\n",
       "      <td>NaN</td>\n",
       "      <td>1</td>\n",
       "      <td>189.148352</td>\n",
       "      <td>Education &amp; Instruction</td>\n",
       "      <td>99</td>\n",
       "    </tr>\n",
       "    <tr>\n",
       "      <th>9741</th>\n",
       "      <td>0.000000</td>\n",
       "      <td>FL</td>\n",
       "      <td>54</td>\n",
       "      <td>4</td>\n",
       "      <td>7</td>\n",
       "      <td>NaN</td>\n",
       "      <td>1</td>\n",
       "      <td>3781.292434</td>\n",
       "      <td>Health &amp; Fitness</td>\n",
       "      <td>101</td>\n",
       "    </tr>\n",
       "    <tr>\n",
       "      <th>9755</th>\n",
       "      <td>0.062965</td>\n",
       "      <td>MA</td>\n",
       "      <td>48</td>\n",
       "      <td>1</td>\n",
       "      <td>4</td>\n",
       "      <td>NaN</td>\n",
       "      <td>0</td>\n",
       "      <td>1182.380692</td>\n",
       "      <td>Travel</td>\n",
       "      <td>107</td>\n",
       "    </tr>\n",
       "    <tr>\n",
       "      <th>9758</th>\n",
       "      <td>0.000000</td>\n",
       "      <td>CA</td>\n",
       "      <td>38</td>\n",
       "      <td>1</td>\n",
       "      <td>6</td>\n",
       "      <td>NaN</td>\n",
       "      <td>1</td>\n",
       "      <td>557.467718</td>\n",
       "      <td>Furniture</td>\n",
       "      <td>74</td>\n",
       "    </tr>\n",
       "    <tr>\n",
       "      <th>9759</th>\n",
       "      <td>-0.111088</td>\n",
       "      <td>CA</td>\n",
       "      <td>26</td>\n",
       "      <td>1</td>\n",
       "      <td>4</td>\n",
       "      <td>NaN</td>\n",
       "      <td>1</td>\n",
       "      <td>126.790451</td>\n",
       "      <td>Health &amp; Fitness</td>\n",
       "      <td>89</td>\n",
       "    </tr>\n",
       "    <tr>\n",
       "      <th>9780</th>\n",
       "      <td>0.000000</td>\n",
       "      <td>NY</td>\n",
       "      <td>72</td>\n",
       "      <td>7</td>\n",
       "      <td>1</td>\n",
       "      <td>NaN</td>\n",
       "      <td>0</td>\n",
       "      <td>5350.396004</td>\n",
       "      <td>Apparel / Fashion &amp; Jewelry</td>\n",
       "      <td>116</td>\n",
       "    </tr>\n",
       "    <tr>\n",
       "      <th>9783</th>\n",
       "      <td>0.000000</td>\n",
       "      <td>DC</td>\n",
       "      <td>87</td>\n",
       "      <td>2</td>\n",
       "      <td>7</td>\n",
       "      <td>NaN</td>\n",
       "      <td>0</td>\n",
       "      <td>2710.818680</td>\n",
       "      <td>Physicians &amp; Surgeons</td>\n",
       "      <td>70</td>\n",
       "    </tr>\n",
       "    <tr>\n",
       "      <th>9796</th>\n",
       "      <td>0.000000</td>\n",
       "      <td>MD</td>\n",
       "      <td>102</td>\n",
       "      <td>5</td>\n",
       "      <td>3</td>\n",
       "      <td>NaN</td>\n",
       "      <td>0</td>\n",
       "      <td>2384.124299</td>\n",
       "      <td>Attorneys &amp; Legal Services</td>\n",
       "      <td>143</td>\n",
       "    </tr>\n",
       "    <tr>\n",
       "      <th>9814</th>\n",
       "      <td>0.000000</td>\n",
       "      <td>WA</td>\n",
       "      <td>55</td>\n",
       "      <td>2</td>\n",
       "      <td>4</td>\n",
       "      <td>NaN</td>\n",
       "      <td>0</td>\n",
       "      <td>635.694632</td>\n",
       "      <td>Home &amp; Home Improvement</td>\n",
       "      <td>77</td>\n",
       "    </tr>\n",
       "    <tr>\n",
       "      <th>9824</th>\n",
       "      <td>0.044911</td>\n",
       "      <td>MO</td>\n",
       "      <td>14</td>\n",
       "      <td>1</td>\n",
       "      <td>7</td>\n",
       "      <td>NaN</td>\n",
       "      <td>0</td>\n",
       "      <td>1081.699788</td>\n",
       "      <td>Home &amp; Home Improvement</td>\n",
       "      <td>79</td>\n",
       "    </tr>\n",
       "    <tr>\n",
       "      <th>9839</th>\n",
       "      <td>0.501398</td>\n",
       "      <td>AZ</td>\n",
       "      <td>1</td>\n",
       "      <td>1</td>\n",
       "      <td>4</td>\n",
       "      <td>NaN</td>\n",
       "      <td>0</td>\n",
       "      <td>2127.705628</td>\n",
       "      <td>Physicians &amp; Surgeons</td>\n",
       "      <td>63</td>\n",
       "    </tr>\n",
       "    <tr>\n",
       "      <th>9851</th>\n",
       "      <td>-0.265373</td>\n",
       "      <td>VA</td>\n",
       "      <td>1</td>\n",
       "      <td>1</td>\n",
       "      <td>8</td>\n",
       "      <td>NaN</td>\n",
       "      <td>0</td>\n",
       "      <td>1500.000000</td>\n",
       "      <td>Business Services</td>\n",
       "      <td>99</td>\n",
       "    </tr>\n",
       "    <tr>\n",
       "      <th>9854</th>\n",
       "      <td>0.000000</td>\n",
       "      <td>PA</td>\n",
       "      <td>24</td>\n",
       "      <td>2</td>\n",
       "      <td>2</td>\n",
       "      <td>NaN</td>\n",
       "      <td>0</td>\n",
       "      <td>2567.495509</td>\n",
       "      <td>Health &amp; Fitness</td>\n",
       "      <td>86</td>\n",
       "    </tr>\n",
       "    <tr>\n",
       "      <th>9865</th>\n",
       "      <td>-0.908385</td>\n",
       "      <td>FL</td>\n",
       "      <td>3</td>\n",
       "      <td>1</td>\n",
       "      <td>3</td>\n",
       "      <td>NaN</td>\n",
       "      <td>1</td>\n",
       "      <td>666.666667</td>\n",
       "      <td>Home &amp; Home Improvement</td>\n",
       "      <td>108</td>\n",
       "    </tr>\n",
       "    <tr>\n",
       "      <th>9870</th>\n",
       "      <td>-0.078988</td>\n",
       "      <td>PA</td>\n",
       "      <td>85</td>\n",
       "      <td>1</td>\n",
       "      <td>7</td>\n",
       "      <td>NaN</td>\n",
       "      <td>1</td>\n",
       "      <td>166.091561</td>\n",
       "      <td>Sports &amp; Recreation</td>\n",
       "      <td>100</td>\n",
       "    </tr>\n",
       "    <tr>\n",
       "      <th>9875</th>\n",
       "      <td>-0.401055</td>\n",
       "      <td>WA</td>\n",
       "      <td>1</td>\n",
       "      <td>1</td>\n",
       "      <td>3</td>\n",
       "      <td>NaN</td>\n",
       "      <td>0</td>\n",
       "      <td>1442.307692</td>\n",
       "      <td>Automotive -- Repair, Service &amp; Parts</td>\n",
       "      <td>100</td>\n",
       "    </tr>\n",
       "    <tr>\n",
       "      <th>9878</th>\n",
       "      <td>-0.109643</td>\n",
       "      <td>CA</td>\n",
       "      <td>10</td>\n",
       "      <td>0</td>\n",
       "      <td>7</td>\n",
       "      <td>NaN</td>\n",
       "      <td>0</td>\n",
       "      <td>25.858896</td>\n",
       "      <td>Automotive -- Repair, Service &amp; Parts</td>\n",
       "      <td>83</td>\n",
       "    </tr>\n",
       "    <tr>\n",
       "      <th>9885</th>\n",
       "      <td>-0.111111</td>\n",
       "      <td>IL</td>\n",
       "      <td>1</td>\n",
       "      <td>1</td>\n",
       "      <td>7</td>\n",
       "      <td>NaN</td>\n",
       "      <td>0</td>\n",
       "      <td>450.000000</td>\n",
       "      <td>Business Services</td>\n",
       "      <td>129</td>\n",
       "    </tr>\n",
       "    <tr>\n",
       "      <th>9907</th>\n",
       "      <td>-0.077326</td>\n",
       "      <td>CA</td>\n",
       "      <td>12</td>\n",
       "      <td>1</td>\n",
       "      <td>4</td>\n",
       "      <td>NaN</td>\n",
       "      <td>0</td>\n",
       "      <td>1977.011494</td>\n",
       "      <td>Beauty &amp; Personal Care</td>\n",
       "      <td>84</td>\n",
       "    </tr>\n",
       "    <tr>\n",
       "      <th>9917</th>\n",
       "      <td>0.000000</td>\n",
       "      <td>WA</td>\n",
       "      <td>6</td>\n",
       "      <td>2</td>\n",
       "      <td>8</td>\n",
       "      <td>NaN</td>\n",
       "      <td>1</td>\n",
       "      <td>749.846814</td>\n",
       "      <td>Personal Services (Weddings, Cleaners, etc.)</td>\n",
       "      <td>86</td>\n",
       "    </tr>\n",
       "    <tr>\n",
       "      <th>9927</th>\n",
       "      <td>-0.099033</td>\n",
       "      <td>CA</td>\n",
       "      <td>2</td>\n",
       "      <td>1</td>\n",
       "      <td>1</td>\n",
       "      <td>NaN</td>\n",
       "      <td>1</td>\n",
       "      <td>418.918919</td>\n",
       "      <td>Dentists &amp; Dental Services</td>\n",
       "      <td>117</td>\n",
       "    </tr>\n",
       "    <tr>\n",
       "      <th>9933</th>\n",
       "      <td>0.000000</td>\n",
       "      <td>TX</td>\n",
       "      <td>61</td>\n",
       "      <td>4</td>\n",
       "      <td>6</td>\n",
       "      <td>NaN</td>\n",
       "      <td>0</td>\n",
       "      <td>2091.200764</td>\n",
       "      <td>Health &amp; Fitness</td>\n",
       "      <td>149</td>\n",
       "    </tr>\n",
       "    <tr>\n",
       "      <th>9939</th>\n",
       "      <td>0.000000</td>\n",
       "      <td>CA</td>\n",
       "      <td>72</td>\n",
       "      <td>4</td>\n",
       "      <td>1</td>\n",
       "      <td>NaN</td>\n",
       "      <td>0</td>\n",
       "      <td>5209.405028</td>\n",
       "      <td>Home &amp; Home Improvement</td>\n",
       "      <td>135</td>\n",
       "    </tr>\n",
       "    <tr>\n",
       "      <th>9946</th>\n",
       "      <td>-0.921626</td>\n",
       "      <td>OH</td>\n",
       "      <td>1</td>\n",
       "      <td>1</td>\n",
       "      <td>5</td>\n",
       "      <td>NaN</td>\n",
       "      <td>0</td>\n",
       "      <td>125.000000</td>\n",
       "      <td>Automotive -- For Sale</td>\n",
       "      <td>112</td>\n",
       "    </tr>\n",
       "    <tr>\n",
       "      <th>9974</th>\n",
       "      <td>-0.257781</td>\n",
       "      <td>CA</td>\n",
       "      <td>1</td>\n",
       "      <td>1</td>\n",
       "      <td>7</td>\n",
       "      <td>NaN</td>\n",
       "      <td>0</td>\n",
       "      <td>6458.333333</td>\n",
       "      <td>Home &amp; Home Improvement</td>\n",
       "      <td>83</td>\n",
       "    </tr>\n",
       "    <tr>\n",
       "      <th>9975</th>\n",
       "      <td>0.000000</td>\n",
       "      <td>GA</td>\n",
       "      <td>31</td>\n",
       "      <td>4</td>\n",
       "      <td>0</td>\n",
       "      <td>NaN</td>\n",
       "      <td>0</td>\n",
       "      <td>3025.302478</td>\n",
       "      <td>Dentists &amp; Dental Services</td>\n",
       "      <td>39</td>\n",
       "    </tr>\n",
       "    <tr>\n",
       "      <th>9976</th>\n",
       "      <td>0.000000</td>\n",
       "      <td>CA</td>\n",
       "      <td>39</td>\n",
       "      <td>2</td>\n",
       "      <td>1</td>\n",
       "      <td>NaN</td>\n",
       "      <td>0</td>\n",
       "      <td>1507.680843</td>\n",
       "      <td>Automotive -- Repair, Service &amp; Parts</td>\n",
       "      <td>133</td>\n",
       "    </tr>\n",
       "    <tr>\n",
       "      <th>9981</th>\n",
       "      <td>-0.662572</td>\n",
       "      <td>SC</td>\n",
       "      <td>1</td>\n",
       "      <td>1</td>\n",
       "      <td>2</td>\n",
       "      <td>NaN</td>\n",
       "      <td>0</td>\n",
       "      <td>175.000000</td>\n",
       "      <td>Home &amp; Home Improvement</td>\n",
       "      <td>95</td>\n",
       "    </tr>\n",
       "    <tr>\n",
       "      <th>9984</th>\n",
       "      <td>-0.111111</td>\n",
       "      <td>PA</td>\n",
       "      <td>60</td>\n",
       "      <td>1</td>\n",
       "      <td>9</td>\n",
       "      <td>NaN</td>\n",
       "      <td>1</td>\n",
       "      <td>523.774847</td>\n",
       "      <td>Home &amp; Home Improvement</td>\n",
       "      <td>83</td>\n",
       "    </tr>\n",
       "    <tr>\n",
       "      <th>9986</th>\n",
       "      <td>0.000000</td>\n",
       "      <td>WA</td>\n",
       "      <td>24</td>\n",
       "      <td>4</td>\n",
       "      <td>1</td>\n",
       "      <td>NaN</td>\n",
       "      <td>0</td>\n",
       "      <td>1355.098837</td>\n",
       "      <td>Sports &amp; Recreation</td>\n",
       "      <td>66</td>\n",
       "    </tr>\n",
       "  </tbody>\n",
       "</table>\n",
       "<p>1092 rows × 10 columns</p>\n",
       "</div>"
      ],
      "text/plain": [
       "      CPL_wrt_BC client_state  duration  num_prods  calls  CPL_wrt_self  \\\n",
       "0       0.000000           AZ        73          6      2           NaN   \n",
       "8       0.000000           MD        53          2      3           NaN   \n",
       "21      0.000000           WA        36          4      1           NaN   \n",
       "35      0.000000           CA       108          3      4           NaN   \n",
       "68      0.000000           IL        40          4      8           NaN   \n",
       "85      0.000000           GA        62          4      2           NaN   \n",
       "87     -0.111111           CA        56          2      4           NaN   \n",
       "105     0.000000           NY        36          3      2           NaN   \n",
       "108     0.000000           FL        31          2      9           NaN   \n",
       "114    -0.094938           NH         6          1      7           NaN   \n",
       "118    -0.815279           CA         2          1      9           NaN   \n",
       "135     0.000000           AZ        63          1      3           NaN   \n",
       "140     0.000000           CA        80          3      4           NaN   \n",
       "163     0.442341           NY         1          1      6           NaN   \n",
       "179    -0.084025           CA         2          1      4           NaN   \n",
       "201     0.000000           CA        36          2      0           NaN   \n",
       "203     0.000000           WA         3          2      8           NaN   \n",
       "204     0.000000           MA        47          5      9           NaN   \n",
       "222     0.000000           AZ        93          7      0           NaN   \n",
       "238     0.000000           MN        17          2      5           NaN   \n",
       "252    -0.111111           CA         9          1      5           NaN   \n",
       "263     0.000000           CO        73          3      0           NaN   \n",
       "264     0.000000           PA        24          2      3           NaN   \n",
       "267     0.000000           CO         4          2      9           NaN   \n",
       "288     0.000000           IL        71          4      5           NaN   \n",
       "294    -0.104889           NY         2          1      9           NaN   \n",
       "301     0.000000           IL        42          1      9           NaN   \n",
       "302     0.000000           HI        14          2      5           NaN   \n",
       "332     0.924167           IL         1          1      5           NaN   \n",
       "338     0.000000           NY        20          5      6           NaN   \n",
       "...          ...          ...       ...        ...    ...           ...   \n",
       "9730   -0.111111           PA        14          1      4           NaN   \n",
       "9741    0.000000           FL        54          4      7           NaN   \n",
       "9755    0.062965           MA        48          1      4           NaN   \n",
       "9758    0.000000           CA        38          1      6           NaN   \n",
       "9759   -0.111088           CA        26          1      4           NaN   \n",
       "9780    0.000000           NY        72          7      1           NaN   \n",
       "9783    0.000000           DC        87          2      7           NaN   \n",
       "9796    0.000000           MD       102          5      3           NaN   \n",
       "9814    0.000000           WA        55          2      4           NaN   \n",
       "9824    0.044911           MO        14          1      7           NaN   \n",
       "9839    0.501398           AZ         1          1      4           NaN   \n",
       "9851   -0.265373           VA         1          1      8           NaN   \n",
       "9854    0.000000           PA        24          2      2           NaN   \n",
       "9865   -0.908385           FL         3          1      3           NaN   \n",
       "9870   -0.078988           PA        85          1      7           NaN   \n",
       "9875   -0.401055           WA         1          1      3           NaN   \n",
       "9878   -0.109643           CA        10          0      7           NaN   \n",
       "9885   -0.111111           IL         1          1      7           NaN   \n",
       "9907   -0.077326           CA        12          1      4           NaN   \n",
       "9917    0.000000           WA         6          2      8           NaN   \n",
       "9927   -0.099033           CA         2          1      1           NaN   \n",
       "9933    0.000000           TX        61          4      6           NaN   \n",
       "9939    0.000000           CA        72          4      1           NaN   \n",
       "9946   -0.921626           OH         1          1      5           NaN   \n",
       "9974   -0.257781           CA         1          1      7           NaN   \n",
       "9975    0.000000           GA        31          4      0           NaN   \n",
       "9976    0.000000           CA        39          2      1           NaN   \n",
       "9981   -0.662572           SC         1          1      2           NaN   \n",
       "9984   -0.111111           PA        60          1      9           NaN   \n",
       "9986    0.000000           WA        24          4      1           NaN   \n",
       "\n",
       "      churn    avg_budget                                            BC  \\\n",
       "0         1  10082.152554                        Beauty & Personal Care   \n",
       "8         0   2812.286923                       Home & Home Improvement   \n",
       "21        0   2257.655829                       Home & Home Improvement   \n",
       "35        0    510.823940                       Home & Home Improvement   \n",
       "68        0   7924.382535                       Home & Home Improvement   \n",
       "85        0   1438.468633                                     Furniture   \n",
       "87        1   2096.359612                       Home & Home Improvement   \n",
       "105       0   2092.187653                       Home & Home Improvement   \n",
       "108       0   1558.546529                       Home & Home Improvement   \n",
       "114       0   1606.624487                        Automotive -- For Sale   \n",
       "118       1    750.000000                        Automotive -- For Sale   \n",
       "135       1    730.515640         Automotive -- Repair, Service & Parts   \n",
       "140       0   1743.271424                       Home & Home Improvement   \n",
       "163       1   1487.068966                       Home & Home Improvement   \n",
       "179       1    165.000000                                        Travel   \n",
       "201       0   1807.559321                         Physicians & Surgeons   \n",
       "203       1   4182.411674                       Education & Instruction   \n",
       "204       0   3501.314625                        Automotive -- For Sale   \n",
       "222       0   1639.350300                         Physicians & Surgeons   \n",
       "238       0   1027.822536                           Sports & Recreation   \n",
       "252       1    885.521886                       Industrial & Commercial   \n",
       "263       0   4236.234957                         Physicians & Surgeons   \n",
       "264       0   2996.112226                        Automotive -- For Sale   \n",
       "267       0    844.416667                                Animals & Pets   \n",
       "288       0   7152.142559                       Education & Instruction   \n",
       "294       0   1141.666667                       Home & Home Improvement   \n",
       "301       0  10441.232048      Shopping, Collectibles & Gifts (General)   \n",
       "302       0   1263.367429                         Physicians & Surgeons   \n",
       "332       1   1586.206897                       Home & Home Improvement   \n",
       "338       0   1302.596529                       Home & Home Improvement   \n",
       "...     ...           ...                                           ...   \n",
       "9730      1    189.148352                       Education & Instruction   \n",
       "9741      1   3781.292434                              Health & Fitness   \n",
       "9755      0   1182.380692                                        Travel   \n",
       "9758      1    557.467718                                     Furniture   \n",
       "9759      1    126.790451                              Health & Fitness   \n",
       "9780      0   5350.396004                   Apparel / Fashion & Jewelry   \n",
       "9783      0   2710.818680                         Physicians & Surgeons   \n",
       "9796      0   2384.124299                    Attorneys & Legal Services   \n",
       "9814      0    635.694632                       Home & Home Improvement   \n",
       "9824      0   1081.699788                       Home & Home Improvement   \n",
       "9839      0   2127.705628                         Physicians & Surgeons   \n",
       "9851      0   1500.000000                             Business Services   \n",
       "9854      0   2567.495509                              Health & Fitness   \n",
       "9865      1    666.666667                       Home & Home Improvement   \n",
       "9870      1    166.091561                           Sports & Recreation   \n",
       "9875      0   1442.307692         Automotive -- Repair, Service & Parts   \n",
       "9878      0     25.858896         Automotive -- Repair, Service & Parts   \n",
       "9885      0    450.000000                             Business Services   \n",
       "9907      0   1977.011494                        Beauty & Personal Care   \n",
       "9917      1    749.846814  Personal Services (Weddings, Cleaners, etc.)   \n",
       "9927      1    418.918919                    Dentists & Dental Services   \n",
       "9933      0   2091.200764                              Health & Fitness   \n",
       "9939      0   5209.405028                       Home & Home Improvement   \n",
       "9946      0    125.000000                        Automotive -- For Sale   \n",
       "9974      0   6458.333333                       Home & Home Improvement   \n",
       "9975      0   3025.302478                    Dentists & Dental Services   \n",
       "9976      0   1507.680843         Automotive -- Repair, Service & Parts   \n",
       "9981      0    175.000000                       Home & Home Improvement   \n",
       "9984      1    523.774847                       Home & Home Improvement   \n",
       "9986      0   1355.098837                           Sports & Recreation   \n",
       "\n",
       "      clicks  \n",
       "0        107  \n",
       "8        113  \n",
       "21        73  \n",
       "35       132  \n",
       "68        65  \n",
       "85       129  \n",
       "87       131  \n",
       "105       65  \n",
       "108       97  \n",
       "114      101  \n",
       "118       99  \n",
       "135      113  \n",
       "140      107  \n",
       "163       88  \n",
       "179       89  \n",
       "201      114  \n",
       "203       74  \n",
       "204       63  \n",
       "222      113  \n",
       "238       88  \n",
       "252       99  \n",
       "263       85  \n",
       "264      105  \n",
       "267      132  \n",
       "288      107  \n",
       "294       94  \n",
       "301      131  \n",
       "302       85  \n",
       "332       88  \n",
       "338       69  \n",
       "...      ...  \n",
       "9730      99  \n",
       "9741     101  \n",
       "9755     107  \n",
       "9758      74  \n",
       "9759      89  \n",
       "9780     116  \n",
       "9783      70  \n",
       "9796     143  \n",
       "9814      77  \n",
       "9824      79  \n",
       "9839      63  \n",
       "9851      99  \n",
       "9854      86  \n",
       "9865     108  \n",
       "9870     100  \n",
       "9875     100  \n",
       "9878      83  \n",
       "9885     129  \n",
       "9907      84  \n",
       "9917      86  \n",
       "9927     117  \n",
       "9933     149  \n",
       "9939     135  \n",
       "9946     112  \n",
       "9974      83  \n",
       "9975      39  \n",
       "9976     133  \n",
       "9981      95  \n",
       "9984      83  \n",
       "9986      66  \n",
       "\n",
       "[1092 rows x 10 columns]"
      ]
     },
     "execution_count": 6,
     "metadata": {},
     "output_type": "execute_result"
    }
   ],
   "source": [
    "df[df['CPL_wrt_self'].isna()]"
   ]
  },
  {
   "cell_type": "markdown",
   "metadata": {},
   "source": [
    "**There are missing values in CPL_wrt_self (1092 observations)**"
   ]
  },
  {
   "cell_type": "code",
   "execution_count": 7,
   "metadata": {
    "scrolled": true
   },
   "outputs": [],
   "source": [
    "# take a look at description of each variables\n",
    "with open(\"assets/dict.txt\", \"r\") as ins:\n",
    "    array = []\n",
    "    for line in ins:\n",
    "        array.append(line.strip())"
   ]
  },
  {
   "cell_type": "code",
   "execution_count": 8,
   "metadata": {},
   "outputs": [
    {
     "data": {
      "text/plain": [
       "['CPL_wrt_BC=change in cost per lead with respect to business category',\n",
       " \"client_state=client's location\",\n",
       " 'duration=how long the client has been running advertising campaigns in months',\n",
       " 'num_prods=how many distinct advertising products the client has bought',\n",
       " 'calls=number of calls received',\n",
       " \"CPL_wrt_self=change in client's cost per lead in the past three months\",\n",
       " 'churn=target column (0=retention | 1=churn)',\n",
       " 'avg_budget=average monthly budget spent on advertising campaigns',\n",
       " \"BC=client's business category\",\n",
       " 'clicks=number of clicks received']"
      ]
     },
     "execution_count": 8,
     "metadata": {},
     "output_type": "execute_result"
    }
   ],
   "source": [
    "desc = list(filter(None, array))\n",
    "desc"
   ]
  },
  {
   "cell_type": "code",
   "execution_count": 9,
   "metadata": {},
   "outputs": [
    {
     "data": {
      "text/html": [
       "<div>\n",
       "<style scoped>\n",
       "    .dataframe tbody tr th:only-of-type {\n",
       "        vertical-align: middle;\n",
       "    }\n",
       "\n",
       "    .dataframe tbody tr th {\n",
       "        vertical-align: top;\n",
       "    }\n",
       "\n",
       "    .dataframe thead th {\n",
       "        text-align: right;\n",
       "    }\n",
       "</style>\n",
       "<table border=\"1\" class=\"dataframe\">\n",
       "  <thead>\n",
       "    <tr style=\"text-align: right;\">\n",
       "      <th></th>\n",
       "      <th>CPL_wrt_BC</th>\n",
       "      <th>client_state</th>\n",
       "      <th>duration</th>\n",
       "      <th>num_prods</th>\n",
       "      <th>calls</th>\n",
       "      <th>CPL_wrt_self</th>\n",
       "      <th>churn</th>\n",
       "      <th>avg_budget</th>\n",
       "      <th>BC</th>\n",
       "      <th>clicks</th>\n",
       "    </tr>\n",
       "  </thead>\n",
       "  <tbody>\n",
       "    <tr>\n",
       "      <th>0</th>\n",
       "      <td>0.000000</td>\n",
       "      <td>AZ</td>\n",
       "      <td>73</td>\n",
       "      <td>6</td>\n",
       "      <td>2</td>\n",
       "      <td>NaN</td>\n",
       "      <td>1</td>\n",
       "      <td>10082.152554</td>\n",
       "      <td>Beauty &amp; Personal Care</td>\n",
       "      <td>107</td>\n",
       "    </tr>\n",
       "    <tr>\n",
       "      <th>1</th>\n",
       "      <td>-0.623618</td>\n",
       "      <td>CA</td>\n",
       "      <td>1</td>\n",
       "      <td>1</td>\n",
       "      <td>3</td>\n",
       "      <td>0.000000</td>\n",
       "      <td>0</td>\n",
       "      <td>133.928571</td>\n",
       "      <td>Shopping, Collectibles &amp; Gifts (General)</td>\n",
       "      <td>79</td>\n",
       "    </tr>\n",
       "    <tr>\n",
       "      <th>2</th>\n",
       "      <td>0.007905</td>\n",
       "      <td>NY</td>\n",
       "      <td>102</td>\n",
       "      <td>2</td>\n",
       "      <td>8</td>\n",
       "      <td>-0.292008</td>\n",
       "      <td>0</td>\n",
       "      <td>3935.017462</td>\n",
       "      <td>Personal Services (Weddings, Cleaners, etc.)</td>\n",
       "      <td>90</td>\n",
       "    </tr>\n",
       "    <tr>\n",
       "      <th>3</th>\n",
       "      <td>-0.104900</td>\n",
       "      <td>MN</td>\n",
       "      <td>6</td>\n",
       "      <td>1</td>\n",
       "      <td>5</td>\n",
       "      <td>0.587206</td>\n",
       "      <td>0</td>\n",
       "      <td>461.538462</td>\n",
       "      <td>Travel</td>\n",
       "      <td>112</td>\n",
       "    </tr>\n",
       "    <tr>\n",
       "      <th>4</th>\n",
       "      <td>-0.013057</td>\n",
       "      <td>NJ</td>\n",
       "      <td>34</td>\n",
       "      <td>1</td>\n",
       "      <td>6</td>\n",
       "      <td>-0.955335</td>\n",
       "      <td>1</td>\n",
       "      <td>314.705882</td>\n",
       "      <td>Health &amp; Fitness</td>\n",
       "      <td>95</td>\n",
       "    </tr>\n",
       "  </tbody>\n",
       "</table>\n",
       "</div>"
      ],
      "text/plain": [
       "   CPL_wrt_BC client_state  duration  num_prods  calls  CPL_wrt_self  churn  \\\n",
       "0    0.000000           AZ        73          6      2           NaN      1   \n",
       "1   -0.623618           CA         1          1      3      0.000000      0   \n",
       "2    0.007905           NY       102          2      8     -0.292008      0   \n",
       "3   -0.104900           MN         6          1      5      0.587206      0   \n",
       "4   -0.013057           NJ        34          1      6     -0.955335      1   \n",
       "\n",
       "     avg_budget                                            BC  clicks  \n",
       "0  10082.152554                        Beauty & Personal Care     107  \n",
       "1    133.928571      Shopping, Collectibles & Gifts (General)      79  \n",
       "2   3935.017462  Personal Services (Weddings, Cleaners, etc.)      90  \n",
       "3    461.538462                                        Travel     112  \n",
       "4    314.705882                              Health & Fitness      95  "
      ]
     },
     "execution_count": 9,
     "metadata": {},
     "output_type": "execute_result"
    }
   ],
   "source": [
    "df.head()"
   ]
  },
  {
   "cell_type": "markdown",
   "metadata": {},
   "source": [
    "### 2. target variable"
   ]
  },
  {
   "cell_type": "code",
   "execution_count": 10,
   "metadata": {},
   "outputs": [
    {
     "data": {
      "text/plain": [
       "0    8000\n",
       "1    2000\n",
       "Name: churn, dtype: int64"
      ]
     },
     "execution_count": 10,
     "metadata": {},
     "output_type": "execute_result"
    }
   ],
   "source": [
    "df.churn.value_counts()"
   ]
  },
  {
   "cell_type": "code",
   "execution_count": 11,
   "metadata": {},
   "outputs": [
    {
     "data": {
      "image/png": "[encoded data removed]",
      "text/plain": [
       "<Figure size 432x288 with 1 Axes>"
      ]
     },
     "metadata": {
      "needs_background": "light"
     },
     "output_type": "display_data"
    }
   ],
   "source": [
    "df.churn.value_counts().plot.bar()\n",
    "plt.ylabel('Frequency')\n",
    "plt.show()"
   ]
  },
  {
   "cell_type": "markdown",
   "metadata": {},
   "source": [
    "80% observation with zero-value for target variable (for retetion)"
   ]
  },
  {
   "cell_type": "markdown",
   "metadata": {},
   "source": [
    "### 3. Independent variables"
   ]
  },
  {
   "cell_type": "code",
   "execution_count": 12,
   "metadata": {},
   "outputs": [
    {
     "data": {
      "text/html": [
       "<div>\n",
       "<style scoped>\n",
       "    .dataframe tbody tr th:only-of-type {\n",
       "        vertical-align: middle;\n",
       "    }\n",
       "\n",
       "    .dataframe tbody tr th {\n",
       "        vertical-align: top;\n",
       "    }\n",
       "\n",
       "    .dataframe thead th {\n",
       "        text-align: right;\n",
       "    }\n",
       "</style>\n",
       "<table border=\"1\" class=\"dataframe\">\n",
       "  <thead>\n",
       "    <tr style=\"text-align: right;\">\n",
       "      <th></th>\n",
       "      <th>CPL_wrt_BC</th>\n",
       "      <th>duration</th>\n",
       "      <th>num_prods</th>\n",
       "      <th>calls</th>\n",
       "      <th>CPL_wrt_self</th>\n",
       "      <th>churn</th>\n",
       "      <th>avg_budget</th>\n",
       "      <th>clicks</th>\n",
       "    </tr>\n",
       "  </thead>\n",
       "  <tbody>\n",
       "    <tr>\n",
       "      <th>count</th>\n",
       "      <td>10000.000000</td>\n",
       "      <td>10000.000000</td>\n",
       "      <td>10000.000000</td>\n",
       "      <td>10000.000000</td>\n",
       "      <td>8908.000000</td>\n",
       "      <td>10000.00000</td>\n",
       "      <td>10000.000000</td>\n",
       "      <td>10000.000000</td>\n",
       "    </tr>\n",
       "    <tr>\n",
       "      <th>mean</th>\n",
       "      <td>-0.068958</td>\n",
       "      <td>27.669200</td>\n",
       "      <td>1.327200</td>\n",
       "      <td>4.526100</td>\n",
       "      <td>0.602664</td>\n",
       "      <td>0.20000</td>\n",
       "      <td>1512.601132</td>\n",
       "      <td>99.214900</td>\n",
       "    </tr>\n",
       "    <tr>\n",
       "      <th>std</th>\n",
       "      <td>0.491693</td>\n",
       "      <td>25.500847</td>\n",
       "      <td>0.816582</td>\n",
       "      <td>2.859185</td>\n",
       "      <td>11.135854</td>\n",
       "      <td>0.40002</td>\n",
       "      <td>3473.160720</td>\n",
       "      <td>31.701757</td>\n",
       "    </tr>\n",
       "    <tr>\n",
       "      <th>min</th>\n",
       "      <td>-0.994590</td>\n",
       "      <td>1.000000</td>\n",
       "      <td>0.000000</td>\n",
       "      <td>0.000000</td>\n",
       "      <td>-1.000000</td>\n",
       "      <td>0.00000</td>\n",
       "      <td>9.090909</td>\n",
       "      <td>13.000000</td>\n",
       "    </tr>\n",
       "    <tr>\n",
       "      <th>25%</th>\n",
       "      <td>-0.103273</td>\n",
       "      <td>6.000000</td>\n",
       "      <td>1.000000</td>\n",
       "      <td>2.000000</td>\n",
       "      <td>-0.255226</td>\n",
       "      <td>0.00000</td>\n",
       "      <td>476.056955</td>\n",
       "      <td>76.000000</td>\n",
       "    </tr>\n",
       "    <tr>\n",
       "      <th>50%</th>\n",
       "      <td>-0.088810</td>\n",
       "      <td>19.000000</td>\n",
       "      <td>1.000000</td>\n",
       "      <td>5.000000</td>\n",
       "      <td>0.000000</td>\n",
       "      <td>0.00000</td>\n",
       "      <td>907.839383</td>\n",
       "      <td>96.000000</td>\n",
       "    </tr>\n",
       "    <tr>\n",
       "      <th>75%</th>\n",
       "      <td>-0.048530</td>\n",
       "      <td>42.000000</td>\n",
       "      <td>1.000000</td>\n",
       "      <td>7.000000</td>\n",
       "      <td>0.311280</td>\n",
       "      <td>0.00000</td>\n",
       "      <td>1666.499256</td>\n",
       "      <td>119.000000</td>\n",
       "    </tr>\n",
       "    <tr>\n",
       "      <th>max</th>\n",
       "      <td>19.088412</td>\n",
       "      <td>118.000000</td>\n",
       "      <td>11.000000</td>\n",
       "      <td>9.000000</td>\n",
       "      <td>841.288094</td>\n",
       "      <td>1.00000</td>\n",
       "      <td>148555.594376</td>\n",
       "      <td>253.000000</td>\n",
       "    </tr>\n",
       "  </tbody>\n",
       "</table>\n",
       "</div>"
      ],
      "text/plain": [
       "         CPL_wrt_BC      duration     num_prods         calls  CPL_wrt_self  \\\n",
       "count  10000.000000  10000.000000  10000.000000  10000.000000   8908.000000   \n",
       "mean      -0.068958     27.669200      1.327200      4.526100      0.602664   \n",
       "std        0.491693     25.500847      0.816582      2.859185     11.135854   \n",
       "min       -0.994590      1.000000      0.000000      0.000000     -1.000000   \n",
       "25%       -0.103273      6.000000      1.000000      2.000000     -0.255226   \n",
       "50%       -0.088810     19.000000      1.000000      5.000000      0.000000   \n",
       "75%       -0.048530     42.000000      1.000000      7.000000      0.311280   \n",
       "max       19.088412    118.000000     11.000000      9.000000    841.288094   \n",
       "\n",
       "             churn     avg_budget        clicks  \n",
       "count  10000.00000   10000.000000  10000.000000  \n",
       "mean       0.20000    1512.601132     99.214900  \n",
       "std        0.40002    3473.160720     31.701757  \n",
       "min        0.00000       9.090909     13.000000  \n",
       "25%        0.00000     476.056955     76.000000  \n",
       "50%        0.00000     907.839383     96.000000  \n",
       "75%        0.00000    1666.499256    119.000000  \n",
       "max        1.00000  148555.594376    253.000000  "
      ]
     },
     "execution_count": 12,
     "metadata": {},
     "output_type": "execute_result"
    }
   ],
   "source": [
    "# Descriptive statistics for all numerical variables\n",
    "df.describe()"
   ]
  },
  {
   "cell_type": "code",
   "execution_count": 13,
   "metadata": {},
   "outputs": [
    {
     "data": {
      "image/png": "[encoded data removed]",
      "text/plain": [
       "<Figure size 432x288 with 8 Axes>"
      ]
     },
     "metadata": {
      "needs_background": "light"
     },
     "output_type": "display_data"
    }
   ],
   "source": [
    "df.plot.box(subplots=True,layout=(2,4))\n",
    "plt.tight_layout()\n",
    "plt.show()"
   ]
  },
  {
   "cell_type": "markdown",
   "metadata": {},
   "source": [
    "Box-plot figures indicates that there are some extreme values for CPL_wrt_BC, CPL_wrt_self, avg_budget, duration and clicks."
   ]
  },
  {
   "cell_type": "markdown",
   "metadata": {},
   "source": [
    "### a. CPL_wrt_BC, CPL_wrt_self"
   ]
  },
  {
   "cell_type": "code",
   "execution_count": 14,
   "metadata": {},
   "outputs": [
    {
     "data": {
      "image/png": "[encoded data removed]",
      "text/plain": [
       "<Figure size 432x288 with 2 Axes>"
      ]
     },
     "metadata": {
      "needs_background": "light"
     },
     "output_type": "display_data"
    }
   ],
   "source": [
    "df[['CPL_wrt_BC','CPL_wrt_self']].plot(subplots=True,layout=(1,2))\n",
    "plt.tight_layout()\n",
    "plt.show()"
   ]
  },
  {
   "cell_type": "markdown",
   "metadata": {},
   "source": [
    "Some values of CPL_wrt_self are extremely higher than CPL_wrt_BC.\n",
    "I think it is generally said that CPL_wrt_self is higher than CPL_wrt_BC."
   ]
  },
  {
   "cell_type": "code",
   "execution_count": 15,
   "metadata": {},
   "outputs": [
    {
     "data": {
      "image/png": "[encoded data removed]",
      "text/plain": [
       "<Figure size 432x288 with 2 Axes>"
      ]
     },
     "metadata": {
      "needs_background": "light"
     },
     "output_type": "display_data"
    }
   ],
   "source": [
    "# with target variables == 1 (ending advertising program)\n",
    "df[df['churn']==1][['CPL_wrt_BC','CPL_wrt_self']].plot(subplots=True,layout=(1,2))\n",
    "plt.show()"
   ]
  },
  {
   "cell_type": "markdown",
   "metadata": {},
   "source": [
    "In case of churn==1, CPL_wrt_self is still higher than CPL_wrt_BC. But, values of CPL_wrt_self is not too high."
   ]
  },
  {
   "cell_type": "markdown",
   "metadata": {},
   "source": [
    "### b. Duration"
   ]
  },
  {
   "cell_type": "code",
   "execution_count": 16,
   "metadata": {},
   "outputs": [
    {
     "data": {
      "image/png": "[encoded data removed]",
      "text/plain": [
       "<Figure size 432x288 with 1 Axes>"
      ]
     },
     "metadata": {
      "needs_background": "light"
     },
     "output_type": "display_data"
    }
   ],
   "source": [
    "df.duration.plot.hist()\n",
    "plt.show()"
   ]
  },
  {
   "cell_type": "code",
   "execution_count": 17,
   "metadata": {},
   "outputs": [
    {
     "data": {
      "image/png": "[encoded data removed]",
      "text/plain": [
       "<Figure size 432x288 with 1 Axes>"
      ]
     },
     "metadata": {
      "needs_background": "light"
     },
     "output_type": "display_data"
    }
   ],
   "source": [
    "df[df['churn']==1].duration.plot.hist()\n",
    "plt.show()"
   ]
  },
  {
   "cell_type": "markdown",
   "metadata": {},
   "source": [
    "Duration of most clients are around 2 years (mean of this variable is 27.7 months). For very high values of duration, it could make sense (clients feel satisfied with advertising campaign. It helps their business)"
   ]
  },
  {
   "cell_type": "markdown",
   "metadata": {},
   "source": [
    "### c. num_prods = how many distinct advertising products the client"
   ]
  },
  {
   "cell_type": "code",
   "execution_count": 18,
   "metadata": {},
   "outputs": [
    {
     "data": {
      "text/plain": [
       "1     7875\n",
       "2     1319\n",
       "3      431\n",
       "4      171\n",
       "5       93\n",
       "0       64\n",
       "6       24\n",
       "7       17\n",
       "8        3\n",
       "11       1\n",
       "10       1\n",
       "9        1\n",
       "Name: num_prods, dtype: int64"
      ]
     },
     "execution_count": 18,
     "metadata": {},
     "output_type": "execute_result"
    }
   ],
   "source": [
    "df.num_prods.value_counts()"
   ]
  },
  {
   "cell_type": "code",
   "execution_count": 19,
   "metadata": {},
   "outputs": [
    {
     "data": {
      "text/plain": [
       "<matplotlib.axes._subplots.AxesSubplot at 0x18ba9abcba8>"
      ]
     },
     "execution_count": 19,
     "metadata": {},
     "output_type": "execute_result"
    },
    {
     "data": {
      "image/png": "[encoded data removed]",
      "text/plain": [
       "<Figure size 432x288 with 1 Axes>"
      ]
     },
     "metadata": {
      "needs_background": "light"
     },
     "output_type": "display_data"
    }
   ],
   "source": [
    "df.num_prods.value_counts().plot.bar()"
   ]
  },
  {
   "cell_type": "markdown",
   "metadata": {},
   "source": [
    "Most of clients use only 1 distinct advertising product."
   ]
  },
  {
   "cell_type": "markdown",
   "metadata": {},
   "source": [
    "### d. calls and clicks"
   ]
  },
  {
   "cell_type": "code",
   "execution_count": 20,
   "metadata": {},
   "outputs": [
    {
     "data": {
      "text/plain": [
       "<matplotlib.axes._subplots.AxesSubplot at 0x18ba9af26a0>"
      ]
     },
     "execution_count": 20,
     "metadata": {},
     "output_type": "execute_result"
    },
    {
     "data": {
      "image/png": "[encoded data removed]",
      "text/plain": [
       "<Figure size 432x288 with 1 Axes>"
      ]
     },
     "metadata": {
      "needs_background": "light"
     },
     "output_type": "display_data"
    }
   ],
   "source": [
    "# clients with churn\n",
    "df[df['churn']==1].calls.value_counts().plot.bar()"
   ]
  },
  {
   "cell_type": "code",
   "execution_count": 21,
   "metadata": {},
   "outputs": [
    {
     "data": {
      "text/plain": [
       "<matplotlib.axes._subplots.AxesSubplot at 0x18ba9926cc0>"
      ]
     },
     "execution_count": 21,
     "metadata": {},
     "output_type": "execute_result"
    },
    {
     "data": {
      "image/png": "[encoded data removed]",
      "text/plain": [
       "<Figure size 432x288 with 1 Axes>"
      ]
     },
     "metadata": {
      "needs_background": "light"
     },
     "output_type": "display_data"
    }
   ],
   "source": [
    "# all clients\n",
    "df.calls.value_counts().plot.bar()"
   ]
  },
  {
   "cell_type": "code",
   "execution_count": 22,
   "metadata": {},
   "outputs": [
    {
     "data": {
      "text/plain": [
       "<matplotlib.axes._subplots.AxesSubplot at 0x18ba9a44ac8>"
      ]
     },
     "execution_count": 22,
     "metadata": {},
     "output_type": "execute_result"
    },
    {
     "data": {
      "image/png": "[encoded data removed]",
      "text/plain": [
       "<Figure size 432x288 with 1 Axes>"
      ]
     },
     "metadata": {
      "needs_background": "light"
     },
     "output_type": "display_data"
    }
   ],
   "source": [
    "# clients with churn\n",
    "df[df['churn']==1].clicks.plot.hist()"
   ]
  },
  {
   "cell_type": "code",
   "execution_count": 23,
   "metadata": {},
   "outputs": [
    {
     "data": {
      "text/plain": [
       "<matplotlib.axes._subplots.AxesSubplot at 0x18ba9a0a780>"
      ]
     },
     "execution_count": 23,
     "metadata": {},
     "output_type": "execute_result"
    },
    {
     "data": {
      "image/png": "[encoded data removed]",
      "text/plain": [
       "<Figure size 432x288 with 1 Axes>"
      ]
     },
     "metadata": {
      "needs_background": "light"
     },
     "output_type": "display_data"
    }
   ],
   "source": [
    "# all clients\n",
    "df.clicks.plot.hist()"
   ]
  },
  {
   "cell_type": "markdown",
   "metadata": {},
   "source": [
    "Number of calls and clicks received are variables that could illustrate the effect of advertisement.\n",
    "- calls: it seems to be similar for all clients (uniform distribution).\n",
    "- clicks: customer is more interested with the product via advertisement."
   ]
  },
  {
   "cell_type": "markdown",
   "metadata": {},
   "source": [
    "### e. avg_budget"
   ]
  },
  {
   "cell_type": "code",
   "execution_count": 24,
   "metadata": {},
   "outputs": [
    {
     "data": {
      "text/plain": [
       "<matplotlib.axes._subplots.AxesSubplot at 0x18ba9986e80>"
      ]
     },
     "execution_count": 24,
     "metadata": {},
     "output_type": "execute_result"
    },
    {
     "data": {
      "image/png": "[encoded data removed]",
      "text/plain": [
       "<Figure size 432x288 with 1 Axes>"
      ]
     },
     "metadata": {
      "needs_background": "light"
     },
     "output_type": "display_data"
    }
   ],
   "source": [
    "df['avg_budget'].plot()"
   ]
  },
  {
   "cell_type": "code",
   "execution_count": 25,
   "metadata": {},
   "outputs": [
    {
     "data": {
      "text/plain": [
       "<matplotlib.axes._subplots.AxesSubplot at 0x18baad06978>"
      ]
     },
     "execution_count": 25,
     "metadata": {},
     "output_type": "execute_result"
    },
    {
     "data": {
      "image/png": "[encoded data removed]",
      "text/plain": [
       "<Figure size 432x288 with 1 Axes>"
      ]
     },
     "metadata": {
      "needs_background": "light"
     },
     "output_type": "display_data"
    }
   ],
   "source": [
    "df['avg_budget'].plot.hist()"
   ]
  },
  {
   "cell_type": "code",
   "execution_count": 26,
   "metadata": {},
   "outputs": [
    {
     "data": {
      "text/plain": [
       "array([ 129.40784314, 4335.02933813])"
      ]
     },
     "execution_count": 26,
     "metadata": {},
     "output_type": "execute_result"
    }
   ],
   "source": [
    "np.percentile(df['avg_budget'],[5,95])"
   ]
  },
  {
   "cell_type": "code",
   "execution_count": 27,
   "metadata": {},
   "outputs": [
    {
     "data": {
      "text/plain": [
       "500"
      ]
     },
     "execution_count": 27,
     "metadata": {},
     "output_type": "execute_result"
    }
   ],
   "source": [
    "np.sum(df['avg_budget']>4335.02933813)"
   ]
  },
  {
   "cell_type": "markdown",
   "metadata": {},
   "source": [
    "- Average of avg_budget is around 1512.6.\n",
    "- There are around 500 client need to spend very high cost for advertisemnt.\n",
    "- In reality, it is said that there have a range of advertisers from very low spending to very high spending."
   ]
  },
  {
   "cell_type": "markdown",
   "metadata": {},
   "source": [
    "### f. Categorical variables"
   ]
  },
  {
   "cell_type": "code",
   "execution_count": 28,
   "metadata": {},
   "outputs": [
    {
     "data": {
      "text/plain": [
       "array(['Beauty & Personal Care',\n",
       "       'Shopping, Collectibles & Gifts (General)',\n",
       "       'Personal Services (Weddings, Cleaners, etc.)', 'Travel',\n",
       "       'Health & Fitness', 'Education & Instruction', 'Business Services',\n",
       "       'Home & Home Improvement', 'Animals & Pets',\n",
       "       'Dentists & Dental Services', 'Physicians & Surgeons',\n",
       "       'Automotive -- Repair, Service & Parts', 'Automotive -- For Sale',\n",
       "       'Sports & Recreation', 'Industrial & Commercial',\n",
       "       'Finance & Insurance', 'Real Estate', 'Restaurants & Food',\n",
       "       'Computers, Telephony & Internet', 'Apparel / Fashion & Jewelry',\n",
       "       'Attorneys & Legal Services', 'Farming & Agriculture', 'Furniture',\n",
       "       'Toys & Hobbies', 'Career & Employment', 'Electronics & Photo',\n",
       "       'Government & Politics', 'Arts & Entertainment',\n",
       "       'Religion & Spirituality',\n",
       "       'Community, Garage Sales & Organizations',\n",
       "       'Business Opportunities'], dtype=object)"
      ]
     },
     "execution_count": 28,
     "metadata": {},
     "output_type": "execute_result"
    }
   ],
   "source": [
    "df.BC.unique()"
   ]
  },
  {
   "cell_type": "code",
   "execution_count": 29,
   "metadata": {},
   "outputs": [
    {
     "data": {
      "text/plain": [
       "Home & Home Improvement                         2610\n",
       "Shopping, Collectibles & Gifts (General)         736\n",
       "Automotive -- Repair, Service & Parts            624\n",
       "Automotive -- For Sale                           516\n",
       "Travel                                           512\n",
       "Physicians & Surgeons                            505\n",
       "Health & Fitness                                 499\n",
       "Personal Services (Weddings, Cleaners, etc.)     475\n",
       "Education & Instruction                          447\n",
       "Attorneys & Legal Services                       415\n",
       "Business Services                                389\n",
       "Industrial & Commercial                          286\n",
       "Furniture                                        281\n",
       "Real Estate                                      280\n",
       "Sports & Recreation                              259\n",
       "Animals & Pets                                   221\n",
       "Dentists & Dental Services                       218\n",
       "Beauty & Personal Care                           196\n",
       "Restaurants & Food                               115\n",
       "Apparel / Fashion & Jewelry                       88\n",
       "Finance & Insurance                               84\n",
       "Arts & Entertainment                              82\n",
       "Computers, Telephony & Internet                   35\n",
       "Electronics & Photo                               34\n",
       "Toys & Hobbies                                    27\n",
       "Career & Employment                               20\n",
       "Farming & Agriculture                             18\n",
       "Community, Garage Sales & Organizations           11\n",
       "Religion & Spirituality                            9\n",
       "Business Opportunities                             5\n",
       "Government & Politics                              3\n",
       "Name: BC, dtype: int64"
      ]
     },
     "execution_count": 29,
     "metadata": {},
     "output_type": "execute_result"
    }
   ],
   "source": [
    "df.BC.value_counts()"
   ]
  },
  {
   "cell_type": "code",
   "execution_count": 30,
   "metadata": {},
   "outputs": [
    {
     "data": {
      "text/plain": [
       "<matplotlib.axes._subplots.AxesSubplot at 0x18baad6fb70>"
      ]
     },
     "execution_count": 30,
     "metadata": {},
     "output_type": "execute_result"
    },
    {
     "data": {
      "image/png": "[encoded data removed]",
      "text/plain": [
       "<Figure size 432x288 with 1 Axes>"
      ]
     },
     "metadata": {
      "needs_background": "light"
     },
     "output_type": "display_data"
    }
   ],
   "source": [
    "df.BC.value_counts().plot.bar()"
   ]
  },
  {
   "cell_type": "code",
   "execution_count": 31,
   "metadata": {},
   "outputs": [
    {
     "data": {
      "text/plain": [
       "Home & Home Improvement                         525\n",
       "Automotive -- For Sale                          143\n",
       "Health & Fitness                                123\n",
       "Automotive -- Repair, Service & Parts           109\n",
       "Education & Instruction                          99\n",
       "Business Services                                98\n",
       "Travel                                           96\n",
       "Attorneys & Legal Services                       91\n",
       "Shopping, Collectibles & Gifts (General)         89\n",
       "Physicians & Surgeons                            83\n",
       "Personal Services (Weddings, Cleaners, etc.)     83\n",
       "Real Estate                                      67\n",
       "Sports & Recreation                              53\n",
       "Furniture                                        49\n",
       "Industrial & Commercial                          44\n",
       "Dentists & Dental Services                       42\n",
       "Restaurants & Food                               36\n",
       "Beauty & Personal Care                           30\n",
       "Arts & Entertainment                             26\n",
       "Animals & Pets                                   25\n",
       "Finance & Insurance                              25\n",
       "Apparel / Fashion & Jewelry                      21\n",
       "Computers, Telephony & Internet                  11\n",
       "Career & Employment                               9\n",
       "Electronics & Photo                               8\n",
       "Toys & Hobbies                                    5\n",
       "Community, Garage Sales & Organizations           3\n",
       "Business Opportunities                            3\n",
       "Religion & Spirituality                           2\n",
       "Farming & Agriculture                             1\n",
       "Government & Politics                             1\n",
       "Name: BC, dtype: int64"
      ]
     },
     "execution_count": 31,
     "metadata": {},
     "output_type": "execute_result"
    }
   ],
   "source": [
    "# for churn client\n",
    "df[df['churn']==1].BC.value_counts()"
   ]
  },
  {
   "cell_type": "markdown",
   "metadata": {},
   "source": [
    "More than 26% of clients are from 'Home & Home Improvement'. Nearly similar percentage of 'churn' clients are also in this category."
   ]
  },
  {
   "cell_type": "code",
   "execution_count": 32,
   "metadata": {},
   "outputs": [
    {
     "data": {
      "text/plain": [
       "array(['AZ', 'CA', 'NY', 'MN', 'NJ', 'WA', 'OH', 'MD', 'ME', 'VA', 'TX',\n",
       "       'OR', 'MO', 'IL', 'UT', 'FL', 'CO', 'GA', 'LA', 'MA', 'PA', 'MS',\n",
       "       'TN', 'IN', 'NH', 'IA', 'NC', 'NE', 'KY', 'WI', 'VT', 'AK', 'AR',\n",
       "       'CT', 'OK', 'MI', 'HI', 'SD', 'DC', 'NV', 'SC', 'AL', 'KS', 'ID',\n",
       "       'ND', 'WV', 'RI', 'NM', 'DE', 'MT', 'WY'], dtype=object)"
      ]
     },
     "execution_count": 32,
     "metadata": {},
     "output_type": "execute_result"
    }
   ],
   "source": [
    "df['client_state'].unique()"
   ]
  },
  {
   "cell_type": "code",
   "execution_count": 33,
   "metadata": {},
   "outputs": [
    {
     "data": {
      "text/plain": [
       "(51,)"
      ]
     },
     "execution_count": 33,
     "metadata": {},
     "output_type": "execute_result"
    }
   ],
   "source": [
    "df['client_state'].unique().shape"
   ]
  },
  {
   "cell_type": "code",
   "execution_count": 34,
   "metadata": {},
   "outputs": [
    {
     "data": {
      "text/plain": [
       "CA    1745\n",
       "TX     895\n",
       "FL     746\n",
       "NY     658\n",
       "PA     564\n",
       "IL     546\n",
       "MD     380\n",
       "GA     345\n",
       "NJ     343\n",
       "WA     315\n",
       "VA     314\n",
       "MA     299\n",
       "OH     288\n",
       "CO     278\n",
       "AZ     278\n",
       "MO     185\n",
       "NC     183\n",
       "OR     144\n",
       "MN     137\n",
       "IN     128\n",
       "MI     110\n",
       "TN      96\n",
       "WI      90\n",
       "LA      84\n",
       "NV      66\n",
       "SC      63\n",
       "CT      54\n",
       "ME      54\n",
       "NH      53\n",
       "UT      52\n",
       "KS      51\n",
       "AL      47\n",
       "DC      42\n",
       "RI      41\n",
       "IA      40\n",
       "MS      38\n",
       "OK      36\n",
       "KY      34\n",
       "NE      29\n",
       "DE      27\n",
       "ID      23\n",
       "AR      18\n",
       "HI      18\n",
       "SD      15\n",
       "MT      10\n",
       "AK      10\n",
       "NM      10\n",
       "VT       8\n",
       "ND       6\n",
       "WV       3\n",
       "WY       1\n",
       "Name: client_state, dtype: int64"
      ]
     },
     "execution_count": 34,
     "metadata": {},
     "output_type": "execute_result"
    }
   ],
   "source": [
    "# all clients\n",
    "df['client_state'].value_counts()"
   ]
  },
  {
   "cell_type": "code",
   "execution_count": 35,
   "metadata": {},
   "outputs": [
    {
     "data": {
      "text/plain": [
       "client_state\n",
       "CA    337\n",
       "FL    177\n",
       "TX    167\n",
       "IL    110\n",
       "PA    109\n",
       "NY    108\n",
       "GA     84\n",
       "MD     67\n",
       "VA     66\n",
       "AZ     62\n",
       "MA     60\n",
       "WA     59\n",
       "NJ     56\n",
       "CO     53\n",
       "OH     44\n",
       "OR     41\n",
       "NC     39\n",
       "MO     36\n",
       "IN     31\n",
       "MN     30\n",
       "MI     25\n",
       "TN     21\n",
       "CT     20\n",
       "LA     17\n",
       "UT     17\n",
       "WI     15\n",
       "IA     15\n",
       "NV     15\n",
       "NH     15\n",
       "RI     12\n",
       "SC     11\n",
       "OK      8\n",
       "KS      8\n",
       "AL      8\n",
       "KY      7\n",
       "ME      7\n",
       "MS      6\n",
       "DC      6\n",
       "HI      4\n",
       "AR      4\n",
       "NE      3\n",
       "DE      3\n",
       "NM      3\n",
       "SD      3\n",
       "ID      3\n",
       "ND      2\n",
       "MT      2\n",
       "WY      1\n",
       "WV      1\n",
       "VT      1\n",
       "AK      1\n",
       "Name: churn, dtype: int64"
      ]
     },
     "execution_count": 35,
     "metadata": {},
     "output_type": "execute_result"
    }
   ],
   "source": [
    "# churn clients\n",
    "df.groupby(['client_state'])['churn'].sum().sort_values(ascending=False)"
   ]
  },
  {
   "cell_type": "markdown",
   "metadata": {},
   "source": [
    "Most of clients are in CA, TX, FL, NY, PA."
   ]
  }
 ],
 "metadata": {
  "kernelspec": {
   "display_name": "Python 3",
   "language": "python",
   "name": "python3"
  },
  "language_info": {
   "codemirror_mode": {
    "name": "ipython",
    "version": 3
   },
   "file_extension": ".py",
   "mimetype": "text/x-python",
   "name": "python",
   "nbconvert_exporter": "python",
   "pygments_lexer": "ipython3",
   "version": "3.7.0"
  }
 },
 "nbformat": 4,
 "nbformat_minor": 2
}
